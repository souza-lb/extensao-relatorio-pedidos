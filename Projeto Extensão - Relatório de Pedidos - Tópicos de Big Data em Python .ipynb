{
 "cells": [
  {
   "cell_type": "code",
   "execution_count": 1,
   "id": "b7fb9e19",
   "metadata": {},
   "outputs": [
    {
     "name": "stdout",
     "output_type": "stream",
     "text": [
      "Collecting pandas==2.2.2\n",
      "  Using cached pandas-2.2.2-cp311-cp311-manylinux_2_17_x86_64.manylinux2014_x86_64.whl.metadata (19 kB)\n",
      "Requirement already satisfied: numpy>=1.23.2 in /home/leonardo/Jupyter/ambientes/padrao/lib/python3.11/site-packages (from pandas==2.2.2) (2.1.1)\n",
      "Requirement already satisfied: python-dateutil>=2.8.2 in /home/leonardo/Jupyter/ambientes/padrao/lib/python3.11/site-packages (from pandas==2.2.2) (2.9.0.post0)\n",
      "Collecting pytz>=2020.1 (from pandas==2.2.2)\n",
      "  Using cached pytz-2024.2-py2.py3-none-any.whl.metadata (22 kB)\n",
      "Collecting tzdata>=2022.7 (from pandas==2.2.2)\n",
      "  Using cached tzdata-2024.1-py2.py3-none-any.whl.metadata (1.4 kB)\n",
      "Requirement already satisfied: six>=1.5 in /home/leonardo/Jupyter/ambientes/padrao/lib/python3.11/site-packages (from python-dateutil>=2.8.2->pandas==2.2.2) (1.16.0)\n",
      "Using cached pandas-2.2.2-cp311-cp311-manylinux_2_17_x86_64.manylinux2014_x86_64.whl (13.0 MB)\n",
      "Using cached pytz-2024.2-py2.py3-none-any.whl (508 kB)\n",
      "Using cached tzdata-2024.1-py2.py3-none-any.whl (345 kB)\n",
      "Installing collected packages: pytz, tzdata, pandas\n",
      "Successfully installed pandas-2.2.2 pytz-2024.2 tzdata-2024.1\n",
      "Note: you may need to restart the kernel to use updated packages.\n"
     ]
    }
   ],
   "source": [
    "pip install pandas==2.2.2 # Instalação da biblioteca pandas."
   ]
  },
  {
   "cell_type": "code",
   "execution_count": 3,
   "id": "01381e64",
   "metadata": {},
   "outputs": [],
   "source": [
    "import pandas as pd # Importa da biblioteca pandas."
   ]
  },
  {
   "cell_type": "code",
   "execution_count": 4,
   "id": "6ee884eb",
   "metadata": {},
   "outputs": [],
   "source": [
    "# Cria um dataframe com os dados do arquivo \"DadosZazzleSemTratamento.csv\".\n",
    "df = pd.read_csv(\"DadosZazzleSemTratamento.csv\")"
   ]
  },
  {
   "cell_type": "code",
   "execution_count": 7,
   "id": "ae160c61",
   "metadata": {},
   "outputs": [
    {
     "data": {
      "text/html": [
       "<div>\n",
       "<style scoped>\n",
       "    .dataframe tbody tr th:only-of-type {\n",
       "        vertical-align: middle;\n",
       "    }\n",
       "\n",
       "    .dataframe tbody tr th {\n",
       "        vertical-align: top;\n",
       "    }\n",
       "\n",
       "    .dataframe thead th {\n",
       "        text-align: right;\n",
       "    }\n",
       "</style>\n",
       "<table border=\"1\" class=\"dataframe\">\n",
       "  <thead>\n",
       "    <tr style=\"text-align: right;\">\n",
       "      <th></th>\n",
       "      <th>Date</th>\n",
       "      <th>Product ID</th>\n",
       "      <th>Product Title</th>\n",
       "      <th>Product Type</th>\n",
       "      <th>Is Customized</th>\n",
       "      <th>Is Canceled</th>\n",
       "      <th>Store</th>\n",
       "      <th>Referred</th>\n",
       "      <th>Shipped To</th>\n",
       "      <th>Order Item ID</th>\n",
       "      <th>Quantity</th>\n",
       "      <th>Subtotal</th>\n",
       "      <th>Royalty Rate</th>\n",
       "      <th>Royalty</th>\n",
       "      <th>Royalty (USD)</th>\n",
       "      <th>Status</th>\n",
       "      <th>Is Transferred</th>\n",
       "      <th>Original Product Type</th>\n",
       "    </tr>\n",
       "  </thead>\n",
       "  <tbody>\n",
       "    <tr>\n",
       "      <th>0</th>\n",
       "      <td>9/10/2024 2:13:06 PM</td>\n",
       "      <td>217-02854107-2295764</td>\n",
       "      <td>Modern Minimalist Real Estate Black</td>\n",
       "      <td>zazzle_sticker</td>\n",
       "      <td>Yes</td>\n",
       "      <td>No</td>\n",
       "      <td>RicardoArtes</td>\n",
       "      <td>3rd Party</td>\n",
       "      <td>Krista - Wellington, FL</td>\n",
       "      <td>169-81207300-8095920</td>\n",
       "      <td>1</td>\n",
       "      <td>$6.76</td>\n",
       "      <td>10.0%</td>\n",
       "      <td>$0.54 USD</td>\n",
       "      <td>$0.54</td>\n",
       "      <td>pending</td>\n",
       "      <td>No</td>\n",
       "      <td>NaN</td>\n",
       "    </tr>\n",
       "    <tr>\n",
       "      <th>1</th>\n",
       "      <td>9/10/2024 2:13:06 PM</td>\n",
       "      <td>217-02854107-2295764</td>\n",
       "      <td>Modern Minimalist Real Estate Black</td>\n",
       "      <td>zazzle_sticker</td>\n",
       "      <td>Yes</td>\n",
       "      <td>No</td>\n",
       "      <td>RicardoArtes</td>\n",
       "      <td>3rd Party</td>\n",
       "      <td>Krista - Wellington, FL</td>\n",
       "      <td>169-49976541-2896161</td>\n",
       "      <td>1</td>\n",
       "      <td>$6.76</td>\n",
       "      <td>10.0%</td>\n",
       "      <td>$0.54 USD</td>\n",
       "      <td>$0.54</td>\n",
       "      <td>pending</td>\n",
       "      <td>No</td>\n",
       "      <td>NaN</td>\n",
       "    </tr>\n",
       "    <tr>\n",
       "      <th>2</th>\n",
       "      <td>9/10/2024 2:01:50 PM</td>\n",
       "      <td>256-50771486-3204370</td>\n",
       "      <td>Personalized Teacher Name</td>\n",
       "      <td>hamptontech_selfinkingstamp</td>\n",
       "      <td>Yes</td>\n",
       "      <td>No</td>\n",
       "      <td>RicardoArtes</td>\n",
       "      <td>NaN</td>\n",
       "      <td>Ann - Edgewood, WA</td>\n",
       "      <td>169-90893214-5598241</td>\n",
       "      <td>1</td>\n",
       "      <td>$11.18</td>\n",
       "      <td>10.0%</td>\n",
       "      <td>$1.12 USD</td>\n",
       "      <td>$1.12</td>\n",
       "      <td>pending</td>\n",
       "      <td>No</td>\n",
       "      <td>NaN</td>\n",
       "    </tr>\n",
       "    <tr>\n",
       "      <th>3</th>\n",
       "      <td>9/10/2024 2:01:50 PM</td>\n",
       "      <td>256-50771486-3204370</td>\n",
       "      <td>Personalized Teacher Name</td>\n",
       "      <td>hamptontech_selfinkingstamp</td>\n",
       "      <td>Yes</td>\n",
       "      <td>No</td>\n",
       "      <td>RicardoArtes</td>\n",
       "      <td>NaN</td>\n",
       "      <td>Ann - Edgewood, WA</td>\n",
       "      <td>169-74006166-4120061</td>\n",
       "      <td>1</td>\n",
       "      <td>$11.18</td>\n",
       "      <td>10.0%</td>\n",
       "      <td>$1.12 USD</td>\n",
       "      <td>$1.12</td>\n",
       "      <td>pending</td>\n",
       "      <td>No</td>\n",
       "      <td>NaN</td>\n",
       "    </tr>\n",
       "    <tr>\n",
       "      <th>4</th>\n",
       "      <td>9/10/2024 2:01:50 PM</td>\n",
       "      <td>256-50771486-3204370</td>\n",
       "      <td>Personalized Teacher Name</td>\n",
       "      <td>hamptontech_selfinkingstamp</td>\n",
       "      <td>Yes</td>\n",
       "      <td>No</td>\n",
       "      <td>RicardoArtes</td>\n",
       "      <td>NaN</td>\n",
       "      <td>Ann - Edgewood, WA</td>\n",
       "      <td>169-58758080-3397052</td>\n",
       "      <td>1</td>\n",
       "      <td>$11.18</td>\n",
       "      <td>10.0%</td>\n",
       "      <td>$1.12 USD</td>\n",
       "      <td>$1.12</td>\n",
       "      <td>pending</td>\n",
       "      <td>No</td>\n",
       "      <td>NaN</td>\n",
       "    </tr>\n",
       "    <tr>\n",
       "      <th>...</th>\n",
       "      <td>...</td>\n",
       "      <td>...</td>\n",
       "      <td>...</td>\n",
       "      <td>...</td>\n",
       "      <td>...</td>\n",
       "      <td>...</td>\n",
       "      <td>...</td>\n",
       "      <td>...</td>\n",
       "      <td>...</td>\n",
       "      <td>...</td>\n",
       "      <td>...</td>\n",
       "      <td>...</td>\n",
       "      <td>...</td>\n",
       "      <td>...</td>\n",
       "      <td>...</td>\n",
       "      <td>...</td>\n",
       "      <td>...</td>\n",
       "      <td>...</td>\n",
       "    </tr>\n",
       "    <tr>\n",
       "      <th>32389</th>\n",
       "      <td>6/21/2012 9:51:00 AM</td>\n",
       "      <td>240-36297848-8052705</td>\n",
       "      <td>Cartão Elegante</td>\n",
       "      <td>zazzle_profilecard</td>\n",
       "      <td>Yes</td>\n",
       "      <td>Yes</td>\n",
       "      <td>RicardoArtes</td>\n",
       "      <td>NaN</td>\n",
       "      <td>Erdogan - Ridgefield, NJ</td>\n",
       "      <td>169-02825211-9211579</td>\n",
       "      <td>1</td>\n",
       "      <td>$14.62</td>\n",
       "      <td>20.0%+</td>\n",
       "      <td>$2.92 USD</td>\n",
       "      <td>$2.92</td>\n",
       "      <td>cleared</td>\n",
       "      <td>No</td>\n",
       "      <td>NaN</td>\n",
       "    </tr>\n",
       "    <tr>\n",
       "      <th>32390</th>\n",
       "      <td>3/23/2012 5:13:30 PM</td>\n",
       "      <td>240-48013704-5084466</td>\n",
       "      <td>Grécia Contemporânea</td>\n",
       "      <td>zazzle_profilecard</td>\n",
       "      <td>Yes</td>\n",
       "      <td>Yes</td>\n",
       "      <td>RicardoArtes</td>\n",
       "      <td>NaN</td>\n",
       "      <td>Marcello - Lugano, Switzerland</td>\n",
       "      <td>169-07935009-6598567</td>\n",
       "      <td>5</td>\n",
       "      <td>CHF51.55</td>\n",
       "      <td>25.0%+</td>\n",
       "      <td>CHF12.25 CHF</td>\n",
       "      <td>$12.53</td>\n",
       "      <td>cleared</td>\n",
       "      <td>No</td>\n",
       "      <td>NaN</td>\n",
       "    </tr>\n",
       "    <tr>\n",
       "      <th>32391</th>\n",
       "      <td>1/25/2012 1:32:32 PM</td>\n",
       "      <td>239-89217540-7970094</td>\n",
       "      <td>Aparecida do Norte</td>\n",
       "      <td>zazzle_postcard</td>\n",
       "      <td>Yes</td>\n",
       "      <td>No</td>\n",
       "      <td>RicardoArtes</td>\n",
       "      <td>NaN</td>\n",
       "      <td>Adriana - São Paulo, Brazil</td>\n",
       "      <td>169-89467669-9328923</td>\n",
       "      <td>2</td>\n",
       "      <td>R$4.80</td>\n",
       "      <td>20.0%+</td>\n",
       "      <td>R$0.96 BRL</td>\n",
       "      <td>$0.45</td>\n",
       "      <td>cleared</td>\n",
       "      <td>Yes</td>\n",
       "      <td>zazzle_postcard2</td>\n",
       "    </tr>\n",
       "    <tr>\n",
       "      <th>32392</th>\n",
       "      <td>12/14/2011 4:51:41 AM</td>\n",
       "      <td>149-99118322-0835239</td>\n",
       "      <td>Nossa Senhora da Conceição Aparecida</td>\n",
       "      <td>zazzle_bag</td>\n",
       "      <td>Yes</td>\n",
       "      <td>No</td>\n",
       "      <td>RicardoArtes</td>\n",
       "      <td>NaN</td>\n",
       "      <td>Neusa - Rio De Janeiro, Brazil</td>\n",
       "      <td>169-81662931-4781555</td>\n",
       "      <td>1</td>\n",
       "      <td>R$26.25</td>\n",
       "      <td>10.0%</td>\n",
       "      <td>R$2.63 BRL</td>\n",
       "      <td>$1.24</td>\n",
       "      <td>cleared</td>\n",
       "      <td>No</td>\n",
       "      <td>NaN</td>\n",
       "    </tr>\n",
       "    <tr>\n",
       "      <th>32393</th>\n",
       "      <td>12/10/2011 4:48:28 PM</td>\n",
       "      <td>239-89217540-7970094</td>\n",
       "      <td>Aparecida do Norte</td>\n",
       "      <td>zazzle_postcard</td>\n",
       "      <td>Yes</td>\n",
       "      <td>No</td>\n",
       "      <td>RicardoArtes</td>\n",
       "      <td>NaN</td>\n",
       "      <td>Adriana - Sao Paulo, Brazil</td>\n",
       "      <td>169-07034355-9170295</td>\n",
       "      <td>2</td>\n",
       "      <td>R$4.80</td>\n",
       "      <td>20.0%+</td>\n",
       "      <td>R$0.96 BRL</td>\n",
       "      <td>$0.45</td>\n",
       "      <td>cleared</td>\n",
       "      <td>Yes</td>\n",
       "      <td>zazzle_postcard2</td>\n",
       "    </tr>\n",
       "  </tbody>\n",
       "</table>\n",
       "<p>32394 rows × 18 columns</p>\n",
       "</div>"
      ],
      "text/plain": [
       "                        Date            Product ID  \\\n",
       "0       9/10/2024 2:13:06 PM  217-02854107-2295764   \n",
       "1       9/10/2024 2:13:06 PM  217-02854107-2295764   \n",
       "2       9/10/2024 2:01:50 PM  256-50771486-3204370   \n",
       "3       9/10/2024 2:01:50 PM  256-50771486-3204370   \n",
       "4       9/10/2024 2:01:50 PM  256-50771486-3204370   \n",
       "...                      ...                   ...   \n",
       "32389   6/21/2012 9:51:00 AM  240-36297848-8052705   \n",
       "32390   3/23/2012 5:13:30 PM  240-48013704-5084466   \n",
       "32391   1/25/2012 1:32:32 PM  239-89217540-7970094   \n",
       "32392  12/14/2011 4:51:41 AM  149-99118322-0835239   \n",
       "32393  12/10/2011 4:48:28 PM  239-89217540-7970094   \n",
       "\n",
       "                              Product Title                 Product Type  \\\n",
       "0       Modern Minimalist Real Estate Black               zazzle_sticker   \n",
       "1       Modern Minimalist Real Estate Black               zazzle_sticker   \n",
       "2                 Personalized Teacher Name  hamptontech_selfinkingstamp   \n",
       "3                 Personalized Teacher Name  hamptontech_selfinkingstamp   \n",
       "4                 Personalized Teacher Name  hamptontech_selfinkingstamp   \n",
       "...                                     ...                          ...   \n",
       "32389                       Cartão Elegante           zazzle_profilecard   \n",
       "32390                  Grécia Contemporânea           zazzle_profilecard   \n",
       "32391                    Aparecida do Norte              zazzle_postcard   \n",
       "32392  Nossa Senhora da Conceição Aparecida                   zazzle_bag   \n",
       "32393                    Aparecida do Norte              zazzle_postcard   \n",
       "\n",
       "      Is Customized Is Canceled         Store   Referred  \\\n",
       "0               Yes          No  RicardoArtes  3rd Party   \n",
       "1               Yes          No  RicardoArtes  3rd Party   \n",
       "2               Yes          No  RicardoArtes        NaN   \n",
       "3               Yes          No  RicardoArtes        NaN   \n",
       "4               Yes          No  RicardoArtes        NaN   \n",
       "...             ...         ...           ...        ...   \n",
       "32389           Yes         Yes  RicardoArtes        NaN   \n",
       "32390           Yes         Yes  RicardoArtes        NaN   \n",
       "32391           Yes          No  RicardoArtes        NaN   \n",
       "32392           Yes          No  RicardoArtes        NaN   \n",
       "32393           Yes          No  RicardoArtes        NaN   \n",
       "\n",
       "                           Shipped To         Order Item ID  Quantity  \\\n",
       "0             Krista - Wellington, FL  169-81207300-8095920         1   \n",
       "1             Krista - Wellington, FL  169-49976541-2896161         1   \n",
       "2                  Ann - Edgewood, WA  169-90893214-5598241         1   \n",
       "3                  Ann - Edgewood, WA  169-74006166-4120061         1   \n",
       "4                  Ann - Edgewood, WA  169-58758080-3397052         1   \n",
       "...                               ...                   ...       ...   \n",
       "32389        Erdogan - Ridgefield, NJ  169-02825211-9211579         1   \n",
       "32390  Marcello - Lugano, Switzerland  169-07935009-6598567         5   \n",
       "32391     Adriana - São Paulo, Brazil  169-89467669-9328923         2   \n",
       "32392  Neusa - Rio De Janeiro, Brazil  169-81662931-4781555         1   \n",
       "32393     Adriana - Sao Paulo, Brazil  169-07034355-9170295         2   \n",
       "\n",
       "       Subtotal Royalty Rate        Royalty Royalty (USD)   Status  \\\n",
       "0         $6.76        10.0%     $0.54 USD          $0.54  pending   \n",
       "1         $6.76        10.0%     $0.54 USD          $0.54  pending   \n",
       "2        $11.18        10.0%     $1.12 USD          $1.12  pending   \n",
       "3        $11.18        10.0%     $1.12 USD          $1.12  pending   \n",
       "4        $11.18        10.0%     $1.12 USD          $1.12  pending   \n",
       "...         ...          ...            ...           ...      ...   \n",
       "32389    $14.62       20.0%+     $2.92 USD          $2.92  cleared   \n",
       "32390  CHF51.55       25.0%+  CHF12.25 CHF         $12.53  cleared   \n",
       "32391    R$4.80       20.0%+    R$0.96 BRL          $0.45  cleared   \n",
       "32392   R$26.25        10.0%    R$2.63 BRL          $1.24  cleared   \n",
       "32393    R$4.80       20.0%+    R$0.96 BRL          $0.45  cleared   \n",
       "\n",
       "      Is Transferred Original Product Type  \n",
       "0                 No                   NaN  \n",
       "1                 No                   NaN  \n",
       "2                 No                   NaN  \n",
       "3                 No                   NaN  \n",
       "4                 No                   NaN  \n",
       "...              ...                   ...  \n",
       "32389             No                   NaN  \n",
       "32390             No                   NaN  \n",
       "32391            Yes      zazzle_postcard2  \n",
       "32392             No                   NaN  \n",
       "32393            Yes      zazzle_postcard2  \n",
       "\n",
       "[32394 rows x 18 columns]"
      ]
     },
     "metadata": {},
     "output_type": "display_data"
    }
   ],
   "source": [
    "# Visualiza os dados do dataframe.\n",
    "display(df)"
   ]
  },
  {
   "cell_type": "code",
   "execution_count": 8,
   "id": "83ab77a7",
   "metadata": {},
   "outputs": [],
   "source": [
    "# Vamos descartar a última coluna (\"Original Product Type\") pois seus dados não são necessários.\n",
    "df = df.drop(columns=[\"Original Product Type\"])"
   ]
  },
  {
   "cell_type": "code",
   "execution_count": 9,
   "id": "19895f07",
   "metadata": {},
   "outputs": [
    {
     "data": {
      "text/html": [
       "<div>\n",
       "<style scoped>\n",
       "    .dataframe tbody tr th:only-of-type {\n",
       "        vertical-align: middle;\n",
       "    }\n",
       "\n",
       "    .dataframe tbody tr th {\n",
       "        vertical-align: top;\n",
       "    }\n",
       "\n",
       "    .dataframe thead th {\n",
       "        text-align: right;\n",
       "    }\n",
       "</style>\n",
       "<table border=\"1\" class=\"dataframe\">\n",
       "  <thead>\n",
       "    <tr style=\"text-align: right;\">\n",
       "      <th></th>\n",
       "      <th>Date</th>\n",
       "      <th>Product ID</th>\n",
       "      <th>Product Title</th>\n",
       "      <th>Product Type</th>\n",
       "      <th>Is Customized</th>\n",
       "      <th>Is Canceled</th>\n",
       "      <th>Store</th>\n",
       "      <th>Referred</th>\n",
       "      <th>Shipped To</th>\n",
       "      <th>Order Item ID</th>\n",
       "      <th>Quantity</th>\n",
       "      <th>Subtotal</th>\n",
       "      <th>Royalty Rate</th>\n",
       "      <th>Royalty</th>\n",
       "      <th>Royalty (USD)</th>\n",
       "      <th>Status</th>\n",
       "      <th>Is Transferred</th>\n",
       "    </tr>\n",
       "  </thead>\n",
       "  <tbody>\n",
       "    <tr>\n",
       "      <th>0</th>\n",
       "      <td>9/10/2024 2:13:06 PM</td>\n",
       "      <td>217-02854107-2295764</td>\n",
       "      <td>Modern Minimalist Real Estate Black</td>\n",
       "      <td>zazzle_sticker</td>\n",
       "      <td>Yes</td>\n",
       "      <td>No</td>\n",
       "      <td>RicardoArtes</td>\n",
       "      <td>3rd Party</td>\n",
       "      <td>Krista - Wellington, FL</td>\n",
       "      <td>169-81207300-8095920</td>\n",
       "      <td>1</td>\n",
       "      <td>$6.76</td>\n",
       "      <td>10.0%</td>\n",
       "      <td>$0.54 USD</td>\n",
       "      <td>$0.54</td>\n",
       "      <td>pending</td>\n",
       "      <td>No</td>\n",
       "    </tr>\n",
       "    <tr>\n",
       "      <th>1</th>\n",
       "      <td>9/10/2024 2:13:06 PM</td>\n",
       "      <td>217-02854107-2295764</td>\n",
       "      <td>Modern Minimalist Real Estate Black</td>\n",
       "      <td>zazzle_sticker</td>\n",
       "      <td>Yes</td>\n",
       "      <td>No</td>\n",
       "      <td>RicardoArtes</td>\n",
       "      <td>3rd Party</td>\n",
       "      <td>Krista - Wellington, FL</td>\n",
       "      <td>169-49976541-2896161</td>\n",
       "      <td>1</td>\n",
       "      <td>$6.76</td>\n",
       "      <td>10.0%</td>\n",
       "      <td>$0.54 USD</td>\n",
       "      <td>$0.54</td>\n",
       "      <td>pending</td>\n",
       "      <td>No</td>\n",
       "    </tr>\n",
       "    <tr>\n",
       "      <th>2</th>\n",
       "      <td>9/10/2024 2:01:50 PM</td>\n",
       "      <td>256-50771486-3204370</td>\n",
       "      <td>Personalized Teacher Name</td>\n",
       "      <td>hamptontech_selfinkingstamp</td>\n",
       "      <td>Yes</td>\n",
       "      <td>No</td>\n",
       "      <td>RicardoArtes</td>\n",
       "      <td>NaN</td>\n",
       "      <td>Ann - Edgewood, WA</td>\n",
       "      <td>169-90893214-5598241</td>\n",
       "      <td>1</td>\n",
       "      <td>$11.18</td>\n",
       "      <td>10.0%</td>\n",
       "      <td>$1.12 USD</td>\n",
       "      <td>$1.12</td>\n",
       "      <td>pending</td>\n",
       "      <td>No</td>\n",
       "    </tr>\n",
       "    <tr>\n",
       "      <th>3</th>\n",
       "      <td>9/10/2024 2:01:50 PM</td>\n",
       "      <td>256-50771486-3204370</td>\n",
       "      <td>Personalized Teacher Name</td>\n",
       "      <td>hamptontech_selfinkingstamp</td>\n",
       "      <td>Yes</td>\n",
       "      <td>No</td>\n",
       "      <td>RicardoArtes</td>\n",
       "      <td>NaN</td>\n",
       "      <td>Ann - Edgewood, WA</td>\n",
       "      <td>169-74006166-4120061</td>\n",
       "      <td>1</td>\n",
       "      <td>$11.18</td>\n",
       "      <td>10.0%</td>\n",
       "      <td>$1.12 USD</td>\n",
       "      <td>$1.12</td>\n",
       "      <td>pending</td>\n",
       "      <td>No</td>\n",
       "    </tr>\n",
       "    <tr>\n",
       "      <th>4</th>\n",
       "      <td>9/10/2024 2:01:50 PM</td>\n",
       "      <td>256-50771486-3204370</td>\n",
       "      <td>Personalized Teacher Name</td>\n",
       "      <td>hamptontech_selfinkingstamp</td>\n",
       "      <td>Yes</td>\n",
       "      <td>No</td>\n",
       "      <td>RicardoArtes</td>\n",
       "      <td>NaN</td>\n",
       "      <td>Ann - Edgewood, WA</td>\n",
       "      <td>169-58758080-3397052</td>\n",
       "      <td>1</td>\n",
       "      <td>$11.18</td>\n",
       "      <td>10.0%</td>\n",
       "      <td>$1.12 USD</td>\n",
       "      <td>$1.12</td>\n",
       "      <td>pending</td>\n",
       "      <td>No</td>\n",
       "    </tr>\n",
       "  </tbody>\n",
       "</table>\n",
       "</div>"
      ],
      "text/plain": [
       "                   Date            Product ID  \\\n",
       "0  9/10/2024 2:13:06 PM  217-02854107-2295764   \n",
       "1  9/10/2024 2:13:06 PM  217-02854107-2295764   \n",
       "2  9/10/2024 2:01:50 PM  256-50771486-3204370   \n",
       "3  9/10/2024 2:01:50 PM  256-50771486-3204370   \n",
       "4  9/10/2024 2:01:50 PM  256-50771486-3204370   \n",
       "\n",
       "                         Product Title                 Product Type  \\\n",
       "0  Modern Minimalist Real Estate Black               zazzle_sticker   \n",
       "1  Modern Minimalist Real Estate Black               zazzle_sticker   \n",
       "2            Personalized Teacher Name  hamptontech_selfinkingstamp   \n",
       "3            Personalized Teacher Name  hamptontech_selfinkingstamp   \n",
       "4            Personalized Teacher Name  hamptontech_selfinkingstamp   \n",
       "\n",
       "  Is Customized Is Canceled         Store   Referred               Shipped To  \\\n",
       "0           Yes          No  RicardoArtes  3rd Party  Krista - Wellington, FL   \n",
       "1           Yes          No  RicardoArtes  3rd Party  Krista - Wellington, FL   \n",
       "2           Yes          No  RicardoArtes        NaN       Ann - Edgewood, WA   \n",
       "3           Yes          No  RicardoArtes        NaN       Ann - Edgewood, WA   \n",
       "4           Yes          No  RicardoArtes        NaN       Ann - Edgewood, WA   \n",
       "\n",
       "          Order Item ID  Quantity Subtotal Royalty Rate     Royalty  \\\n",
       "0  169-81207300-8095920         1    $6.76        10.0%  $0.54 USD    \n",
       "1  169-49976541-2896161         1    $6.76        10.0%  $0.54 USD    \n",
       "2  169-90893214-5598241         1   $11.18        10.0%  $1.12 USD    \n",
       "3  169-74006166-4120061         1   $11.18        10.0%  $1.12 USD    \n",
       "4  169-58758080-3397052         1   $11.18        10.0%  $1.12 USD    \n",
       "\n",
       "  Royalty (USD)   Status Is Transferred  \n",
       "0         $0.54  pending             No  \n",
       "1         $0.54  pending             No  \n",
       "2         $1.12  pending             No  \n",
       "3         $1.12  pending             No  \n",
       "4         $1.12  pending             No  "
      ]
     },
     "execution_count": 9,
     "metadata": {},
     "output_type": "execute_result"
    }
   ],
   "source": [
    "# Vamos visualizar como ficou o topo da tabela após a exclusão.\n",
    "df.head()"
   ]
  },
  {
   "cell_type": "code",
   "execution_count": 10,
   "id": "eca34b72",
   "metadata": {},
   "outputs": [
    {
     "data": {
      "text/html": [
       "<div>\n",
       "<style scoped>\n",
       "    .dataframe tbody tr th:only-of-type {\n",
       "        vertical-align: middle;\n",
       "    }\n",
       "\n",
       "    .dataframe tbody tr th {\n",
       "        vertical-align: top;\n",
       "    }\n",
       "\n",
       "    .dataframe thead th {\n",
       "        text-align: right;\n",
       "    }\n",
       "</style>\n",
       "<table border=\"1\" class=\"dataframe\">\n",
       "  <thead>\n",
       "    <tr style=\"text-align: right;\">\n",
       "      <th></th>\n",
       "      <th>Date</th>\n",
       "      <th>Product ID</th>\n",
       "      <th>Product Title</th>\n",
       "      <th>Product Type</th>\n",
       "      <th>Is Customized</th>\n",
       "      <th>Is Canceled</th>\n",
       "      <th>Store</th>\n",
       "      <th>Referred</th>\n",
       "      <th>Shipped To</th>\n",
       "      <th>Order Item ID</th>\n",
       "      <th>Quantity</th>\n",
       "      <th>Subtotal</th>\n",
       "      <th>Royalty Rate</th>\n",
       "      <th>Royalty</th>\n",
       "      <th>Royalty (USD)</th>\n",
       "      <th>Status</th>\n",
       "      <th>Is Transferred</th>\n",
       "    </tr>\n",
       "  </thead>\n",
       "  <tbody>\n",
       "    <tr>\n",
       "      <th>32389</th>\n",
       "      <td>6/21/2012 9:51:00 AM</td>\n",
       "      <td>240-36297848-8052705</td>\n",
       "      <td>Cartão Elegante</td>\n",
       "      <td>zazzle_profilecard</td>\n",
       "      <td>Yes</td>\n",
       "      <td>Yes</td>\n",
       "      <td>RicardoArtes</td>\n",
       "      <td>NaN</td>\n",
       "      <td>Erdogan - Ridgefield, NJ</td>\n",
       "      <td>169-02825211-9211579</td>\n",
       "      <td>1</td>\n",
       "      <td>$14.62</td>\n",
       "      <td>20.0%+</td>\n",
       "      <td>$2.92 USD</td>\n",
       "      <td>$2.92</td>\n",
       "      <td>cleared</td>\n",
       "      <td>No</td>\n",
       "    </tr>\n",
       "    <tr>\n",
       "      <th>32390</th>\n",
       "      <td>3/23/2012 5:13:30 PM</td>\n",
       "      <td>240-48013704-5084466</td>\n",
       "      <td>Grécia Contemporânea</td>\n",
       "      <td>zazzle_profilecard</td>\n",
       "      <td>Yes</td>\n",
       "      <td>Yes</td>\n",
       "      <td>RicardoArtes</td>\n",
       "      <td>NaN</td>\n",
       "      <td>Marcello - Lugano, Switzerland</td>\n",
       "      <td>169-07935009-6598567</td>\n",
       "      <td>5</td>\n",
       "      <td>CHF51.55</td>\n",
       "      <td>25.0%+</td>\n",
       "      <td>CHF12.25 CHF</td>\n",
       "      <td>$12.53</td>\n",
       "      <td>cleared</td>\n",
       "      <td>No</td>\n",
       "    </tr>\n",
       "    <tr>\n",
       "      <th>32391</th>\n",
       "      <td>1/25/2012 1:32:32 PM</td>\n",
       "      <td>239-89217540-7970094</td>\n",
       "      <td>Aparecida do Norte</td>\n",
       "      <td>zazzle_postcard</td>\n",
       "      <td>Yes</td>\n",
       "      <td>No</td>\n",
       "      <td>RicardoArtes</td>\n",
       "      <td>NaN</td>\n",
       "      <td>Adriana - São Paulo, Brazil</td>\n",
       "      <td>169-89467669-9328923</td>\n",
       "      <td>2</td>\n",
       "      <td>R$4.80</td>\n",
       "      <td>20.0%+</td>\n",
       "      <td>R$0.96 BRL</td>\n",
       "      <td>$0.45</td>\n",
       "      <td>cleared</td>\n",
       "      <td>Yes</td>\n",
       "    </tr>\n",
       "    <tr>\n",
       "      <th>32392</th>\n",
       "      <td>12/14/2011 4:51:41 AM</td>\n",
       "      <td>149-99118322-0835239</td>\n",
       "      <td>Nossa Senhora da Conceição Aparecida</td>\n",
       "      <td>zazzle_bag</td>\n",
       "      <td>Yes</td>\n",
       "      <td>No</td>\n",
       "      <td>RicardoArtes</td>\n",
       "      <td>NaN</td>\n",
       "      <td>Neusa - Rio De Janeiro, Brazil</td>\n",
       "      <td>169-81662931-4781555</td>\n",
       "      <td>1</td>\n",
       "      <td>R$26.25</td>\n",
       "      <td>10.0%</td>\n",
       "      <td>R$2.63 BRL</td>\n",
       "      <td>$1.24</td>\n",
       "      <td>cleared</td>\n",
       "      <td>No</td>\n",
       "    </tr>\n",
       "    <tr>\n",
       "      <th>32393</th>\n",
       "      <td>12/10/2011 4:48:28 PM</td>\n",
       "      <td>239-89217540-7970094</td>\n",
       "      <td>Aparecida do Norte</td>\n",
       "      <td>zazzle_postcard</td>\n",
       "      <td>Yes</td>\n",
       "      <td>No</td>\n",
       "      <td>RicardoArtes</td>\n",
       "      <td>NaN</td>\n",
       "      <td>Adriana - Sao Paulo, Brazil</td>\n",
       "      <td>169-07034355-9170295</td>\n",
       "      <td>2</td>\n",
       "      <td>R$4.80</td>\n",
       "      <td>20.0%+</td>\n",
       "      <td>R$0.96 BRL</td>\n",
       "      <td>$0.45</td>\n",
       "      <td>cleared</td>\n",
       "      <td>Yes</td>\n",
       "    </tr>\n",
       "  </tbody>\n",
       "</table>\n",
       "</div>"
      ],
      "text/plain": [
       "                        Date            Product ID  \\\n",
       "32389   6/21/2012 9:51:00 AM  240-36297848-8052705   \n",
       "32390   3/23/2012 5:13:30 PM  240-48013704-5084466   \n",
       "32391   1/25/2012 1:32:32 PM  239-89217540-7970094   \n",
       "32392  12/14/2011 4:51:41 AM  149-99118322-0835239   \n",
       "32393  12/10/2011 4:48:28 PM  239-89217540-7970094   \n",
       "\n",
       "                              Product Title        Product Type Is Customized  \\\n",
       "32389                       Cartão Elegante  zazzle_profilecard           Yes   \n",
       "32390                  Grécia Contemporânea  zazzle_profilecard           Yes   \n",
       "32391                    Aparecida do Norte     zazzle_postcard           Yes   \n",
       "32392  Nossa Senhora da Conceição Aparecida          zazzle_bag           Yes   \n",
       "32393                    Aparecida do Norte     zazzle_postcard           Yes   \n",
       "\n",
       "      Is Canceled         Store Referred                      Shipped To  \\\n",
       "32389         Yes  RicardoArtes      NaN        Erdogan - Ridgefield, NJ   \n",
       "32390         Yes  RicardoArtes      NaN  Marcello - Lugano, Switzerland   \n",
       "32391          No  RicardoArtes      NaN     Adriana - São Paulo, Brazil   \n",
       "32392          No  RicardoArtes      NaN  Neusa - Rio De Janeiro, Brazil   \n",
       "32393          No  RicardoArtes      NaN     Adriana - Sao Paulo, Brazil   \n",
       "\n",
       "              Order Item ID  Quantity  Subtotal Royalty Rate        Royalty  \\\n",
       "32389  169-02825211-9211579         1    $14.62       20.0%+     $2.92 USD    \n",
       "32390  169-07935009-6598567         5  CHF51.55       25.0%+  CHF12.25 CHF    \n",
       "32391  169-89467669-9328923         2    R$4.80       20.0%+    R$0.96 BRL    \n",
       "32392  169-81662931-4781555         1   R$26.25        10.0%    R$2.63 BRL    \n",
       "32393  169-07034355-9170295         2    R$4.80       20.0%+    R$0.96 BRL    \n",
       "\n",
       "      Royalty (USD)   Status Is Transferred  \n",
       "32389         $2.92  cleared             No  \n",
       "32390        $12.53  cleared             No  \n",
       "32391         $0.45  cleared            Yes  \n",
       "32392         $1.24  cleared             No  \n",
       "32393         $0.45  cleared            Yes  "
      ]
     },
     "execution_count": 10,
     "metadata": {},
     "output_type": "execute_result"
    }
   ],
   "source": [
    "# Vamos visualizar o fim da tabela após a exclusão.\n",
    "df.tail()"
   ]
  },
  {
   "cell_type": "code",
   "execution_count": null,
   "id": "d044b850",
   "metadata": {},
   "outputs": [],
   "source": [
    "# Buscamos obter a informação do total de vendas por pais. A coluna \"Shipped To\"\n",
    "# nos fornece esssa informação. Mas ela necessita de tratamentos.\n",
    "# Recebi do proprietário a informação de que provavelmente haverá um grande número de pedidos\n",
    "# dos EUA pois a filial da Zazzle é na Califórnia. (Zazzle é o serviço que a RicardoArtes utiliza\n",
    "# na confecção dos produtos ). Vou focar inicialmente no tratamento dos pedidos dos EUA.\n",
    "\n",
    "# Vamos analizar a linha 32389\n",
    "# Erdogan - Ridgefield, NJ\n",
    "# Há um padrão que parece repetir (nome_usuario - Distrito - Sigla Estado )\n",
    "# Ridgefield é um Distrito em New Jersey.\n",
    "# Se observarmos outras linhas esse padrão repete logo:"
   ]
  },
  {
   "cell_type": "code",
   "execution_count": 11,
   "id": "991ed52f",
   "metadata": {},
   "outputs": [],
   "source": [
    "import  re # Importa a biblioteca de expressões regulares (regex).\n",
    "\n",
    "# Tratamento dados EUA.\n",
    "estados_validos = [\n",
    "    'AL', 'AK', 'AZ', 'AR', 'CA', 'CO', 'CT', 'DE', 'FL', 'GA',\n",
    "    'HI', 'ID', 'IL', 'IN', 'IA', 'KS', 'KY', 'LA', 'ME', 'MD',\n",
    "    'MA', 'MI', 'MN', 'MS', 'MO', 'MT', 'NE', 'NV', 'NH', 'NJ',\n",
    "    'NM', 'NY', 'NC', 'ND', 'OH', 'OK', 'OR', 'PA', 'RI', 'SC',\n",
    "    'SD', 'TN', 'TX', 'UT', 'VT', 'VA', 'WA', 'WV', 'WI', 'WY',\n",
    "    'DC'\n",
    "]\n",
    "\n",
    "# Percorre o dataframe verificando o padrão na coluna \"Shipped To\".\n",
    "# Se os dois útimos caracteres do padrão representarem um estado válido\n",
    "# atualiza a coluna com o nome do país.\n",
    "\n",
    "for i in range(len(df)):\n",
    "    enviado_para = df.at[i, 'Shipped To']\n",
    "    match = re.match(r\"[^-]+ - [^,]+, ([A-Z]{2})\", enviado_para)\n",
    "    if match:\n",
    "        estado = match.group(1)\n",
    "        if estado in estados_validos:\n",
    "            df.at[i, 'Shipped To'] = 'United States'"
   ]
  },
  {
   "cell_type": "code",
   "execution_count": 13,
   "id": "1eb6f31e",
   "metadata": {},
   "outputs": [
    {
     "data": {
      "text/html": [
       "<div>\n",
       "<style scoped>\n",
       "    .dataframe tbody tr th:only-of-type {\n",
       "        vertical-align: middle;\n",
       "    }\n",
       "\n",
       "    .dataframe tbody tr th {\n",
       "        vertical-align: top;\n",
       "    }\n",
       "\n",
       "    .dataframe thead th {\n",
       "        text-align: right;\n",
       "    }\n",
       "</style>\n",
       "<table border=\"1\" class=\"dataframe\">\n",
       "  <thead>\n",
       "    <tr style=\"text-align: right;\">\n",
       "      <th></th>\n",
       "      <th>Date</th>\n",
       "      <th>Product ID</th>\n",
       "      <th>Product Title</th>\n",
       "      <th>Product Type</th>\n",
       "      <th>Is Customized</th>\n",
       "      <th>Is Canceled</th>\n",
       "      <th>Store</th>\n",
       "      <th>Referred</th>\n",
       "      <th>Shipped To</th>\n",
       "      <th>Order Item ID</th>\n",
       "      <th>Quantity</th>\n",
       "      <th>Subtotal</th>\n",
       "      <th>Royalty Rate</th>\n",
       "      <th>Royalty</th>\n",
       "      <th>Royalty (USD)</th>\n",
       "      <th>Status</th>\n",
       "      <th>Is Transferred</th>\n",
       "    </tr>\n",
       "  </thead>\n",
       "  <tbody>\n",
       "    <tr>\n",
       "      <th>0</th>\n",
       "      <td>9/10/2024 2:13:06 PM</td>\n",
       "      <td>217-02854107-2295764</td>\n",
       "      <td>Modern Minimalist Real Estate Black</td>\n",
       "      <td>zazzle_sticker</td>\n",
       "      <td>Yes</td>\n",
       "      <td>No</td>\n",
       "      <td>RicardoArtes</td>\n",
       "      <td>3rd Party</td>\n",
       "      <td>United States</td>\n",
       "      <td>169-81207300-8095920</td>\n",
       "      <td>1</td>\n",
       "      <td>$6.76</td>\n",
       "      <td>10.0%</td>\n",
       "      <td>$0.54 USD</td>\n",
       "      <td>$0.54</td>\n",
       "      <td>pending</td>\n",
       "      <td>No</td>\n",
       "    </tr>\n",
       "    <tr>\n",
       "      <th>1</th>\n",
       "      <td>9/10/2024 2:13:06 PM</td>\n",
       "      <td>217-02854107-2295764</td>\n",
       "      <td>Modern Minimalist Real Estate Black</td>\n",
       "      <td>zazzle_sticker</td>\n",
       "      <td>Yes</td>\n",
       "      <td>No</td>\n",
       "      <td>RicardoArtes</td>\n",
       "      <td>3rd Party</td>\n",
       "      <td>United States</td>\n",
       "      <td>169-49976541-2896161</td>\n",
       "      <td>1</td>\n",
       "      <td>$6.76</td>\n",
       "      <td>10.0%</td>\n",
       "      <td>$0.54 USD</td>\n",
       "      <td>$0.54</td>\n",
       "      <td>pending</td>\n",
       "      <td>No</td>\n",
       "    </tr>\n",
       "    <tr>\n",
       "      <th>2</th>\n",
       "      <td>9/10/2024 2:01:50 PM</td>\n",
       "      <td>256-50771486-3204370</td>\n",
       "      <td>Personalized Teacher Name</td>\n",
       "      <td>hamptontech_selfinkingstamp</td>\n",
       "      <td>Yes</td>\n",
       "      <td>No</td>\n",
       "      <td>RicardoArtes</td>\n",
       "      <td>NaN</td>\n",
       "      <td>United States</td>\n",
       "      <td>169-90893214-5598241</td>\n",
       "      <td>1</td>\n",
       "      <td>$11.18</td>\n",
       "      <td>10.0%</td>\n",
       "      <td>$1.12 USD</td>\n",
       "      <td>$1.12</td>\n",
       "      <td>pending</td>\n",
       "      <td>No</td>\n",
       "    </tr>\n",
       "    <tr>\n",
       "      <th>3</th>\n",
       "      <td>9/10/2024 2:01:50 PM</td>\n",
       "      <td>256-50771486-3204370</td>\n",
       "      <td>Personalized Teacher Name</td>\n",
       "      <td>hamptontech_selfinkingstamp</td>\n",
       "      <td>Yes</td>\n",
       "      <td>No</td>\n",
       "      <td>RicardoArtes</td>\n",
       "      <td>NaN</td>\n",
       "      <td>United States</td>\n",
       "      <td>169-74006166-4120061</td>\n",
       "      <td>1</td>\n",
       "      <td>$11.18</td>\n",
       "      <td>10.0%</td>\n",
       "      <td>$1.12 USD</td>\n",
       "      <td>$1.12</td>\n",
       "      <td>pending</td>\n",
       "      <td>No</td>\n",
       "    </tr>\n",
       "    <tr>\n",
       "      <th>4</th>\n",
       "      <td>9/10/2024 2:01:50 PM</td>\n",
       "      <td>256-50771486-3204370</td>\n",
       "      <td>Personalized Teacher Name</td>\n",
       "      <td>hamptontech_selfinkingstamp</td>\n",
       "      <td>Yes</td>\n",
       "      <td>No</td>\n",
       "      <td>RicardoArtes</td>\n",
       "      <td>NaN</td>\n",
       "      <td>United States</td>\n",
       "      <td>169-58758080-3397052</td>\n",
       "      <td>1</td>\n",
       "      <td>$11.18</td>\n",
       "      <td>10.0%</td>\n",
       "      <td>$1.12 USD</td>\n",
       "      <td>$1.12</td>\n",
       "      <td>pending</td>\n",
       "      <td>No</td>\n",
       "    </tr>\n",
       "    <tr>\n",
       "      <th>...</th>\n",
       "      <td>...</td>\n",
       "      <td>...</td>\n",
       "      <td>...</td>\n",
       "      <td>...</td>\n",
       "      <td>...</td>\n",
       "      <td>...</td>\n",
       "      <td>...</td>\n",
       "      <td>...</td>\n",
       "      <td>...</td>\n",
       "      <td>...</td>\n",
       "      <td>...</td>\n",
       "      <td>...</td>\n",
       "      <td>...</td>\n",
       "      <td>...</td>\n",
       "      <td>...</td>\n",
       "      <td>...</td>\n",
       "      <td>...</td>\n",
       "    </tr>\n",
       "    <tr>\n",
       "      <th>32389</th>\n",
       "      <td>6/21/2012 9:51:00 AM</td>\n",
       "      <td>240-36297848-8052705</td>\n",
       "      <td>Cartão Elegante</td>\n",
       "      <td>zazzle_profilecard</td>\n",
       "      <td>Yes</td>\n",
       "      <td>Yes</td>\n",
       "      <td>RicardoArtes</td>\n",
       "      <td>NaN</td>\n",
       "      <td>United States</td>\n",
       "      <td>169-02825211-9211579</td>\n",
       "      <td>1</td>\n",
       "      <td>$14.62</td>\n",
       "      <td>20.0%+</td>\n",
       "      <td>$2.92 USD</td>\n",
       "      <td>$2.92</td>\n",
       "      <td>cleared</td>\n",
       "      <td>No</td>\n",
       "    </tr>\n",
       "    <tr>\n",
       "      <th>32390</th>\n",
       "      <td>3/23/2012 5:13:30 PM</td>\n",
       "      <td>240-48013704-5084466</td>\n",
       "      <td>Grécia Contemporânea</td>\n",
       "      <td>zazzle_profilecard</td>\n",
       "      <td>Yes</td>\n",
       "      <td>Yes</td>\n",
       "      <td>RicardoArtes</td>\n",
       "      <td>NaN</td>\n",
       "      <td>Marcello - Lugano, Switzerland</td>\n",
       "      <td>169-07935009-6598567</td>\n",
       "      <td>5</td>\n",
       "      <td>CHF51.55</td>\n",
       "      <td>25.0%+</td>\n",
       "      <td>CHF12.25 CHF</td>\n",
       "      <td>$12.53</td>\n",
       "      <td>cleared</td>\n",
       "      <td>No</td>\n",
       "    </tr>\n",
       "    <tr>\n",
       "      <th>32391</th>\n",
       "      <td>1/25/2012 1:32:32 PM</td>\n",
       "      <td>239-89217540-7970094</td>\n",
       "      <td>Aparecida do Norte</td>\n",
       "      <td>zazzle_postcard</td>\n",
       "      <td>Yes</td>\n",
       "      <td>No</td>\n",
       "      <td>RicardoArtes</td>\n",
       "      <td>NaN</td>\n",
       "      <td>Adriana - São Paulo, Brazil</td>\n",
       "      <td>169-89467669-9328923</td>\n",
       "      <td>2</td>\n",
       "      <td>R$4.80</td>\n",
       "      <td>20.0%+</td>\n",
       "      <td>R$0.96 BRL</td>\n",
       "      <td>$0.45</td>\n",
       "      <td>cleared</td>\n",
       "      <td>Yes</td>\n",
       "    </tr>\n",
       "    <tr>\n",
       "      <th>32392</th>\n",
       "      <td>12/14/2011 4:51:41 AM</td>\n",
       "      <td>149-99118322-0835239</td>\n",
       "      <td>Nossa Senhora da Conceição Aparecida</td>\n",
       "      <td>zazzle_bag</td>\n",
       "      <td>Yes</td>\n",
       "      <td>No</td>\n",
       "      <td>RicardoArtes</td>\n",
       "      <td>NaN</td>\n",
       "      <td>Neusa - Rio De Janeiro, Brazil</td>\n",
       "      <td>169-81662931-4781555</td>\n",
       "      <td>1</td>\n",
       "      <td>R$26.25</td>\n",
       "      <td>10.0%</td>\n",
       "      <td>R$2.63 BRL</td>\n",
       "      <td>$1.24</td>\n",
       "      <td>cleared</td>\n",
       "      <td>No</td>\n",
       "    </tr>\n",
       "    <tr>\n",
       "      <th>32393</th>\n",
       "      <td>12/10/2011 4:48:28 PM</td>\n",
       "      <td>239-89217540-7970094</td>\n",
       "      <td>Aparecida do Norte</td>\n",
       "      <td>zazzle_postcard</td>\n",
       "      <td>Yes</td>\n",
       "      <td>No</td>\n",
       "      <td>RicardoArtes</td>\n",
       "      <td>NaN</td>\n",
       "      <td>Adriana - Sao Paulo, Brazil</td>\n",
       "      <td>169-07034355-9170295</td>\n",
       "      <td>2</td>\n",
       "      <td>R$4.80</td>\n",
       "      <td>20.0%+</td>\n",
       "      <td>R$0.96 BRL</td>\n",
       "      <td>$0.45</td>\n",
       "      <td>cleared</td>\n",
       "      <td>Yes</td>\n",
       "    </tr>\n",
       "  </tbody>\n",
       "</table>\n",
       "<p>32394 rows × 17 columns</p>\n",
       "</div>"
      ],
      "text/plain": [
       "                        Date            Product ID  \\\n",
       "0       9/10/2024 2:13:06 PM  217-02854107-2295764   \n",
       "1       9/10/2024 2:13:06 PM  217-02854107-2295764   \n",
       "2       9/10/2024 2:01:50 PM  256-50771486-3204370   \n",
       "3       9/10/2024 2:01:50 PM  256-50771486-3204370   \n",
       "4       9/10/2024 2:01:50 PM  256-50771486-3204370   \n",
       "...                      ...                   ...   \n",
       "32389   6/21/2012 9:51:00 AM  240-36297848-8052705   \n",
       "32390   3/23/2012 5:13:30 PM  240-48013704-5084466   \n",
       "32391   1/25/2012 1:32:32 PM  239-89217540-7970094   \n",
       "32392  12/14/2011 4:51:41 AM  149-99118322-0835239   \n",
       "32393  12/10/2011 4:48:28 PM  239-89217540-7970094   \n",
       "\n",
       "                              Product Title                 Product Type  \\\n",
       "0       Modern Minimalist Real Estate Black               zazzle_sticker   \n",
       "1       Modern Minimalist Real Estate Black               zazzle_sticker   \n",
       "2                 Personalized Teacher Name  hamptontech_selfinkingstamp   \n",
       "3                 Personalized Teacher Name  hamptontech_selfinkingstamp   \n",
       "4                 Personalized Teacher Name  hamptontech_selfinkingstamp   \n",
       "...                                     ...                          ...   \n",
       "32389                       Cartão Elegante           zazzle_profilecard   \n",
       "32390                  Grécia Contemporânea           zazzle_profilecard   \n",
       "32391                    Aparecida do Norte              zazzle_postcard   \n",
       "32392  Nossa Senhora da Conceição Aparecida                   zazzle_bag   \n",
       "32393                    Aparecida do Norte              zazzle_postcard   \n",
       "\n",
       "      Is Customized Is Canceled         Store   Referred  \\\n",
       "0               Yes          No  RicardoArtes  3rd Party   \n",
       "1               Yes          No  RicardoArtes  3rd Party   \n",
       "2               Yes          No  RicardoArtes        NaN   \n",
       "3               Yes          No  RicardoArtes        NaN   \n",
       "4               Yes          No  RicardoArtes        NaN   \n",
       "...             ...         ...           ...        ...   \n",
       "32389           Yes         Yes  RicardoArtes        NaN   \n",
       "32390           Yes         Yes  RicardoArtes        NaN   \n",
       "32391           Yes          No  RicardoArtes        NaN   \n",
       "32392           Yes          No  RicardoArtes        NaN   \n",
       "32393           Yes          No  RicardoArtes        NaN   \n",
       "\n",
       "                           Shipped To         Order Item ID  Quantity  \\\n",
       "0                       United States  169-81207300-8095920         1   \n",
       "1                       United States  169-49976541-2896161         1   \n",
       "2                       United States  169-90893214-5598241         1   \n",
       "3                       United States  169-74006166-4120061         1   \n",
       "4                       United States  169-58758080-3397052         1   \n",
       "...                               ...                   ...       ...   \n",
       "32389                   United States  169-02825211-9211579         1   \n",
       "32390  Marcello - Lugano, Switzerland  169-07935009-6598567         5   \n",
       "32391     Adriana - São Paulo, Brazil  169-89467669-9328923         2   \n",
       "32392  Neusa - Rio De Janeiro, Brazil  169-81662931-4781555         1   \n",
       "32393     Adriana - Sao Paulo, Brazil  169-07034355-9170295         2   \n",
       "\n",
       "       Subtotal Royalty Rate        Royalty Royalty (USD)   Status  \\\n",
       "0         $6.76        10.0%     $0.54 USD          $0.54  pending   \n",
       "1         $6.76        10.0%     $0.54 USD          $0.54  pending   \n",
       "2        $11.18        10.0%     $1.12 USD          $1.12  pending   \n",
       "3        $11.18        10.0%     $1.12 USD          $1.12  pending   \n",
       "4        $11.18        10.0%     $1.12 USD          $1.12  pending   \n",
       "...         ...          ...            ...           ...      ...   \n",
       "32389    $14.62       20.0%+     $2.92 USD          $2.92  cleared   \n",
       "32390  CHF51.55       25.0%+  CHF12.25 CHF         $12.53  cleared   \n",
       "32391    R$4.80       20.0%+    R$0.96 BRL          $0.45  cleared   \n",
       "32392   R$26.25        10.0%    R$2.63 BRL          $1.24  cleared   \n",
       "32393    R$4.80       20.0%+    R$0.96 BRL          $0.45  cleared   \n",
       "\n",
       "      Is Transferred  \n",
       "0                 No  \n",
       "1                 No  \n",
       "2                 No  \n",
       "3                 No  \n",
       "4                 No  \n",
       "...              ...  \n",
       "32389             No  \n",
       "32390             No  \n",
       "32391            Yes  \n",
       "32392             No  \n",
       "32393            Yes  \n",
       "\n",
       "[32394 rows x 17 columns]"
      ]
     },
     "metadata": {},
     "output_type": "display_data"
    }
   ],
   "source": [
    "# Vamos ver como ficou o dataframe.\n",
    "display(df)"
   ]
  },
  {
   "cell_type": "code",
   "execution_count": 15,
   "id": "68725637",
   "metadata": {},
   "outputs": [
    {
     "data": {
      "text/html": [
       "<div>\n",
       "<style scoped>\n",
       "    .dataframe tbody tr th:only-of-type {\n",
       "        vertical-align: middle;\n",
       "    }\n",
       "\n",
       "    .dataframe tbody tr th {\n",
       "        vertical-align: top;\n",
       "    }\n",
       "\n",
       "    .dataframe thead th {\n",
       "        text-align: right;\n",
       "    }\n",
       "</style>\n",
       "<table border=\"1\" class=\"dataframe\">\n",
       "  <thead>\n",
       "    <tr style=\"text-align: right;\">\n",
       "      <th></th>\n",
       "      <th>Date</th>\n",
       "      <th>Product ID</th>\n",
       "      <th>Product Title</th>\n",
       "      <th>Product Type</th>\n",
       "      <th>Is Customized</th>\n",
       "      <th>Is Canceled</th>\n",
       "      <th>Store</th>\n",
       "      <th>Referred</th>\n",
       "      <th>Shipped To</th>\n",
       "      <th>Order Item ID</th>\n",
       "      <th>Quantity</th>\n",
       "      <th>Subtotal</th>\n",
       "      <th>Royalty Rate</th>\n",
       "      <th>Royalty</th>\n",
       "      <th>Royalty (USD)</th>\n",
       "      <th>Status</th>\n",
       "      <th>Is Transferred</th>\n",
       "    </tr>\n",
       "  </thead>\n",
       "  <tbody>\n",
       "    <tr>\n",
       "      <th>0</th>\n",
       "      <td>9/10/2024 2:13:06 PM</td>\n",
       "      <td>217-02854107-2295764</td>\n",
       "      <td>Modern Minimalist Real Estate Black</td>\n",
       "      <td>zazzle_sticker</td>\n",
       "      <td>Yes</td>\n",
       "      <td>No</td>\n",
       "      <td>RicardoArtes</td>\n",
       "      <td>3rd Party</td>\n",
       "      <td>United States</td>\n",
       "      <td>169-81207300-8095920</td>\n",
       "      <td>1</td>\n",
       "      <td>$6.76</td>\n",
       "      <td>10.0%</td>\n",
       "      <td>$0.54 USD</td>\n",
       "      <td>$0.54</td>\n",
       "      <td>pending</td>\n",
       "      <td>No</td>\n",
       "    </tr>\n",
       "    <tr>\n",
       "      <th>1</th>\n",
       "      <td>9/10/2024 2:13:06 PM</td>\n",
       "      <td>217-02854107-2295764</td>\n",
       "      <td>Modern Minimalist Real Estate Black</td>\n",
       "      <td>zazzle_sticker</td>\n",
       "      <td>Yes</td>\n",
       "      <td>No</td>\n",
       "      <td>RicardoArtes</td>\n",
       "      <td>3rd Party</td>\n",
       "      <td>United States</td>\n",
       "      <td>169-49976541-2896161</td>\n",
       "      <td>1</td>\n",
       "      <td>$6.76</td>\n",
       "      <td>10.0%</td>\n",
       "      <td>$0.54 USD</td>\n",
       "      <td>$0.54</td>\n",
       "      <td>pending</td>\n",
       "      <td>No</td>\n",
       "    </tr>\n",
       "    <tr>\n",
       "      <th>2</th>\n",
       "      <td>9/10/2024 2:01:50 PM</td>\n",
       "      <td>256-50771486-3204370</td>\n",
       "      <td>Personalized Teacher Name</td>\n",
       "      <td>hamptontech_selfinkingstamp</td>\n",
       "      <td>Yes</td>\n",
       "      <td>No</td>\n",
       "      <td>RicardoArtes</td>\n",
       "      <td>NaN</td>\n",
       "      <td>United States</td>\n",
       "      <td>169-90893214-5598241</td>\n",
       "      <td>1</td>\n",
       "      <td>$11.18</td>\n",
       "      <td>10.0%</td>\n",
       "      <td>$1.12 USD</td>\n",
       "      <td>$1.12</td>\n",
       "      <td>pending</td>\n",
       "      <td>No</td>\n",
       "    </tr>\n",
       "    <tr>\n",
       "      <th>3</th>\n",
       "      <td>9/10/2024 2:01:50 PM</td>\n",
       "      <td>256-50771486-3204370</td>\n",
       "      <td>Personalized Teacher Name</td>\n",
       "      <td>hamptontech_selfinkingstamp</td>\n",
       "      <td>Yes</td>\n",
       "      <td>No</td>\n",
       "      <td>RicardoArtes</td>\n",
       "      <td>NaN</td>\n",
       "      <td>United States</td>\n",
       "      <td>169-74006166-4120061</td>\n",
       "      <td>1</td>\n",
       "      <td>$11.18</td>\n",
       "      <td>10.0%</td>\n",
       "      <td>$1.12 USD</td>\n",
       "      <td>$1.12</td>\n",
       "      <td>pending</td>\n",
       "      <td>No</td>\n",
       "    </tr>\n",
       "    <tr>\n",
       "      <th>4</th>\n",
       "      <td>9/10/2024 2:01:50 PM</td>\n",
       "      <td>256-50771486-3204370</td>\n",
       "      <td>Personalized Teacher Name</td>\n",
       "      <td>hamptontech_selfinkingstamp</td>\n",
       "      <td>Yes</td>\n",
       "      <td>No</td>\n",
       "      <td>RicardoArtes</td>\n",
       "      <td>NaN</td>\n",
       "      <td>United States</td>\n",
       "      <td>169-58758080-3397052</td>\n",
       "      <td>1</td>\n",
       "      <td>$11.18</td>\n",
       "      <td>10.0%</td>\n",
       "      <td>$1.12 USD</td>\n",
       "      <td>$1.12</td>\n",
       "      <td>pending</td>\n",
       "      <td>No</td>\n",
       "    </tr>\n",
       "    <tr>\n",
       "      <th>5</th>\n",
       "      <td>9/10/2024 2:01:50 PM</td>\n",
       "      <td>256-50771486-3204370</td>\n",
       "      <td>Personalized Teacher Name</td>\n",
       "      <td>hamptontech_selfinkingstamp</td>\n",
       "      <td>Yes</td>\n",
       "      <td>No</td>\n",
       "      <td>RicardoArtes</td>\n",
       "      <td>NaN</td>\n",
       "      <td>United States</td>\n",
       "      <td>169-61178968-9587070</td>\n",
       "      <td>1</td>\n",
       "      <td>$11.18</td>\n",
       "      <td>10.0%</td>\n",
       "      <td>$1.12 USD</td>\n",
       "      <td>$1.12</td>\n",
       "      <td>pending</td>\n",
       "      <td>No</td>\n",
       "    </tr>\n",
       "    <tr>\n",
       "      <th>6</th>\n",
       "      <td>9/10/2024 2:01:50 PM</td>\n",
       "      <td>256-50771486-3204370</td>\n",
       "      <td>Personalized Teacher Name</td>\n",
       "      <td>hamptontech_selfinkingstamp</td>\n",
       "      <td>Yes</td>\n",
       "      <td>No</td>\n",
       "      <td>RicardoArtes</td>\n",
       "      <td>NaN</td>\n",
       "      <td>United States</td>\n",
       "      <td>169-54099369-9337645</td>\n",
       "      <td>1</td>\n",
       "      <td>$11.18</td>\n",
       "      <td>10.0%</td>\n",
       "      <td>$1.12 USD</td>\n",
       "      <td>$1.12</td>\n",
       "      <td>pending</td>\n",
       "      <td>No</td>\n",
       "    </tr>\n",
       "    <tr>\n",
       "      <th>7</th>\n",
       "      <td>9/10/2024 2:01:50 PM</td>\n",
       "      <td>256-50771486-3204370</td>\n",
       "      <td>Personalized Teacher Name</td>\n",
       "      <td>hamptontech_selfinkingstamp</td>\n",
       "      <td>Yes</td>\n",
       "      <td>No</td>\n",
       "      <td>RicardoArtes</td>\n",
       "      <td>NaN</td>\n",
       "      <td>United States</td>\n",
       "      <td>169-08265809-1186820</td>\n",
       "      <td>1</td>\n",
       "      <td>$11.18</td>\n",
       "      <td>10.0%</td>\n",
       "      <td>$1.12 USD</td>\n",
       "      <td>$1.12</td>\n",
       "      <td>pending</td>\n",
       "      <td>No</td>\n",
       "    </tr>\n",
       "    <tr>\n",
       "      <th>8</th>\n",
       "      <td>9/10/2024 10:44:52 AM</td>\n",
       "      <td>256-10893432-1682747</td>\n",
       "      <td>Professional Chic Elegant Plain and Monogram</td>\n",
       "      <td>visualpromotions_folder</td>\n",
       "      <td>Yes</td>\n",
       "      <td>No</td>\n",
       "      <td>RicardoArtes</td>\n",
       "      <td>NaN</td>\n",
       "      <td>United States</td>\n",
       "      <td>169-03838267-3563825</td>\n",
       "      <td>1</td>\n",
       "      <td>$21.55</td>\n",
       "      <td>10.0%</td>\n",
       "      <td>$2.16 USD</td>\n",
       "      <td>$2.16</td>\n",
       "      <td>pending</td>\n",
       "      <td>No</td>\n",
       "    </tr>\n",
       "    <tr>\n",
       "      <th>9</th>\n",
       "      <td>9/10/2024 1:29:07 AM</td>\n",
       "      <td>240-71784709-9740850</td>\n",
       "      <td>Elegant Minimal Plain Professional Black</td>\n",
       "      <td>zazzle_businesscard</td>\n",
       "      <td>Yes</td>\n",
       "      <td>No</td>\n",
       "      <td>RicardoArtes</td>\n",
       "      <td>NaN</td>\n",
       "      <td>Daniela - Stadl-paura, Austria</td>\n",
       "      <td>169-56003445-6055249</td>\n",
       "      <td>1</td>\n",
       "      <td>€20.01</td>\n",
       "      <td>10.0%</td>\n",
       "      <td>€1.60 EUR++ at</td>\n",
       "      <td>$1.67**</td>\n",
       "      <td>pending</td>\n",
       "      <td>No</td>\n",
       "    </tr>\n",
       "    <tr>\n",
       "      <th>10</th>\n",
       "      <td>9/9/2024 11:53:50 PM</td>\n",
       "      <td>217-86366175-7539770</td>\n",
       "      <td>Round Custom Your Company Logo</td>\n",
       "      <td>zazzle_sticker</td>\n",
       "      <td>Yes</td>\n",
       "      <td>No</td>\n",
       "      <td>RicardoArtes</td>\n",
       "      <td>NaN</td>\n",
       "      <td>United States</td>\n",
       "      <td>169-03814505-1489444</td>\n",
       "      <td>3</td>\n",
       "      <td>$20.10</td>\n",
       "      <td>10.0%</td>\n",
       "      <td>$2.07 USD</td>\n",
       "      <td>$2.07</td>\n",
       "      <td>pending</td>\n",
       "      <td>No</td>\n",
       "    </tr>\n",
       "    <tr>\n",
       "      <th>11</th>\n",
       "      <td>9/9/2024 11:53:50 PM</td>\n",
       "      <td>217-86366175-7539770</td>\n",
       "      <td>Round Custom Your Company Logo</td>\n",
       "      <td>zazzle_sticker</td>\n",
       "      <td>Yes</td>\n",
       "      <td>No</td>\n",
       "      <td>RicardoArtes</td>\n",
       "      <td>NaN</td>\n",
       "      <td>United States</td>\n",
       "      <td>169-03814505-1489444</td>\n",
       "      <td>3</td>\n",
       "      <td>$1.20</td>\n",
       "      <td>5.0%</td>\n",
       "      <td>See Above</td>\n",
       "      <td>See Above</td>\n",
       "      <td>pending</td>\n",
       "      <td>No</td>\n",
       "    </tr>\n",
       "    <tr>\n",
       "      <th>12</th>\n",
       "      <td>9/9/2024 11:53:50 PM</td>\n",
       "      <td>217-86366175-7539770</td>\n",
       "      <td>Round Custom Your Company Logo</td>\n",
       "      <td>zazzle_sticker</td>\n",
       "      <td>Yes</td>\n",
       "      <td>No</td>\n",
       "      <td>RicardoArtes</td>\n",
       "      <td>NaN</td>\n",
       "      <td>United States</td>\n",
       "      <td>169-07678231-6056679</td>\n",
       "      <td>1</td>\n",
       "      <td>$6.70</td>\n",
       "      <td>10.0%</td>\n",
       "      <td>$0.69 USD</td>\n",
       "      <td>$0.69</td>\n",
       "      <td>pending</td>\n",
       "      <td>No</td>\n",
       "    </tr>\n",
       "    <tr>\n",
       "      <th>13</th>\n",
       "      <td>9/9/2024 11:53:50 PM</td>\n",
       "      <td>217-86366175-7539770</td>\n",
       "      <td>Round Custom Your Company Logo</td>\n",
       "      <td>zazzle_sticker</td>\n",
       "      <td>Yes</td>\n",
       "      <td>No</td>\n",
       "      <td>RicardoArtes</td>\n",
       "      <td>NaN</td>\n",
       "      <td>United States</td>\n",
       "      <td>169-07678231-6056679</td>\n",
       "      <td>1</td>\n",
       "      <td>$0.40</td>\n",
       "      <td>5.0%</td>\n",
       "      <td>See Above</td>\n",
       "      <td>See Above</td>\n",
       "      <td>pending</td>\n",
       "      <td>No</td>\n",
       "    </tr>\n",
       "    <tr>\n",
       "      <th>14</th>\n",
       "      <td>9/9/2024 6:35:20 PM</td>\n",
       "      <td>240-71198261-7218569</td>\n",
       "      <td>Minimalist Modern Elegant Loyalty Discount</td>\n",
       "      <td>zazzle_flatloyaltycard</td>\n",
       "      <td>Yes</td>\n",
       "      <td>No</td>\n",
       "      <td>RicardoArtes</td>\n",
       "      <td>3rd Party</td>\n",
       "      <td>Stacey - Banksia Beach, Australia</td>\n",
       "      <td>169-05198520-5009191</td>\n",
       "      <td>3</td>\n",
       "      <td>$73.71</td>\n",
       "      <td>10.0%</td>\n",
       "      <td>$4.74 AUD++</td>\n",
       "      <td>$2.99**</td>\n",
       "      <td>pending</td>\n",
       "      <td>No</td>\n",
       "    </tr>\n",
       "  </tbody>\n",
       "</table>\n",
       "</div>"
      ],
      "text/plain": [
       "                     Date            Product ID  \\\n",
       "0    9/10/2024 2:13:06 PM  217-02854107-2295764   \n",
       "1    9/10/2024 2:13:06 PM  217-02854107-2295764   \n",
       "2    9/10/2024 2:01:50 PM  256-50771486-3204370   \n",
       "3    9/10/2024 2:01:50 PM  256-50771486-3204370   \n",
       "4    9/10/2024 2:01:50 PM  256-50771486-3204370   \n",
       "5    9/10/2024 2:01:50 PM  256-50771486-3204370   \n",
       "6    9/10/2024 2:01:50 PM  256-50771486-3204370   \n",
       "7    9/10/2024 2:01:50 PM  256-50771486-3204370   \n",
       "8   9/10/2024 10:44:52 AM  256-10893432-1682747   \n",
       "9    9/10/2024 1:29:07 AM  240-71784709-9740850   \n",
       "10   9/9/2024 11:53:50 PM  217-86366175-7539770   \n",
       "11   9/9/2024 11:53:50 PM  217-86366175-7539770   \n",
       "12   9/9/2024 11:53:50 PM  217-86366175-7539770   \n",
       "13   9/9/2024 11:53:50 PM  217-86366175-7539770   \n",
       "14    9/9/2024 6:35:20 PM  240-71198261-7218569   \n",
       "\n",
       "                                   Product Title                 Product Type  \\\n",
       "0            Modern Minimalist Real Estate Black               zazzle_sticker   \n",
       "1            Modern Minimalist Real Estate Black               zazzle_sticker   \n",
       "2                      Personalized Teacher Name  hamptontech_selfinkingstamp   \n",
       "3                      Personalized Teacher Name  hamptontech_selfinkingstamp   \n",
       "4                      Personalized Teacher Name  hamptontech_selfinkingstamp   \n",
       "5                      Personalized Teacher Name  hamptontech_selfinkingstamp   \n",
       "6                      Personalized Teacher Name  hamptontech_selfinkingstamp   \n",
       "7                      Personalized Teacher Name  hamptontech_selfinkingstamp   \n",
       "8   Professional Chic Elegant Plain and Monogram      visualpromotions_folder   \n",
       "9       Elegant Minimal Plain Professional Black          zazzle_businesscard   \n",
       "10                Round Custom Your Company Logo               zazzle_sticker   \n",
       "11                Round Custom Your Company Logo               zazzle_sticker   \n",
       "12                Round Custom Your Company Logo               zazzle_sticker   \n",
       "13                Round Custom Your Company Logo               zazzle_sticker   \n",
       "14    Minimalist Modern Elegant Loyalty Discount       zazzle_flatloyaltycard   \n",
       "\n",
       "   Is Customized Is Canceled         Store   Referred  \\\n",
       "0            Yes          No  RicardoArtes  3rd Party   \n",
       "1            Yes          No  RicardoArtes  3rd Party   \n",
       "2            Yes          No  RicardoArtes        NaN   \n",
       "3            Yes          No  RicardoArtes        NaN   \n",
       "4            Yes          No  RicardoArtes        NaN   \n",
       "5            Yes          No  RicardoArtes        NaN   \n",
       "6            Yes          No  RicardoArtes        NaN   \n",
       "7            Yes          No  RicardoArtes        NaN   \n",
       "8            Yes          No  RicardoArtes        NaN   \n",
       "9            Yes          No  RicardoArtes        NaN   \n",
       "10           Yes          No  RicardoArtes        NaN   \n",
       "11           Yes          No  RicardoArtes        NaN   \n",
       "12           Yes          No  RicardoArtes        NaN   \n",
       "13           Yes          No  RicardoArtes        NaN   \n",
       "14           Yes          No  RicardoArtes  3rd Party   \n",
       "\n",
       "                           Shipped To         Order Item ID  Quantity  \\\n",
       "0                       United States  169-81207300-8095920         1   \n",
       "1                       United States  169-49976541-2896161         1   \n",
       "2                       United States  169-90893214-5598241         1   \n",
       "3                       United States  169-74006166-4120061         1   \n",
       "4                       United States  169-58758080-3397052         1   \n",
       "5                       United States  169-61178968-9587070         1   \n",
       "6                       United States  169-54099369-9337645         1   \n",
       "7                       United States  169-08265809-1186820         1   \n",
       "8                       United States  169-03838267-3563825         1   \n",
       "9      Daniela - Stadl-paura, Austria  169-56003445-6055249         1   \n",
       "10                      United States  169-03814505-1489444         3   \n",
       "11                      United States  169-03814505-1489444         3   \n",
       "12                      United States  169-07678231-6056679         1   \n",
       "13                      United States  169-07678231-6056679         1   \n",
       "14  Stacey - Banksia Beach, Australia  169-05198520-5009191         3   \n",
       "\n",
       "   Subtotal Royalty Rate         Royalty Royalty (USD)   Status Is Transferred  \n",
       "0     $6.76        10.0%      $0.54 USD          $0.54  pending             No  \n",
       "1     $6.76        10.0%      $0.54 USD          $0.54  pending             No  \n",
       "2    $11.18        10.0%      $1.12 USD          $1.12  pending             No  \n",
       "3    $11.18        10.0%      $1.12 USD          $1.12  pending             No  \n",
       "4    $11.18        10.0%      $1.12 USD          $1.12  pending             No  \n",
       "5    $11.18        10.0%      $1.12 USD          $1.12  pending             No  \n",
       "6    $11.18        10.0%      $1.12 USD          $1.12  pending             No  \n",
       "7    $11.18        10.0%      $1.12 USD          $1.12  pending             No  \n",
       "8    $21.55        10.0%      $2.16 USD          $2.16  pending             No  \n",
       "9    €20.01        10.0%  €1.60 EUR++ at       $1.67**  pending             No  \n",
       "10   $20.10        10.0%      $2.07 USD          $2.07  pending             No  \n",
       "11    $1.20         5.0%      See Above      See Above  pending             No  \n",
       "12    $6.70        10.0%      $0.69 USD          $0.69  pending             No  \n",
       "13    $0.40         5.0%      See Above      See Above  pending             No  \n",
       "14   $73.71        10.0%    $4.74 AUD++        $2.99**  pending             No  "
      ]
     },
     "execution_count": 15,
     "metadata": {},
     "output_type": "execute_result"
    }
   ],
   "source": [
    "# Vamos ver as 15 primeiras linhas.\n",
    "df.head(15)"
   ]
  },
  {
   "cell_type": "code",
   "execution_count": 16,
   "id": "54bca698",
   "metadata": {},
   "outputs": [
    {
     "data": {
      "text/html": [
       "<div>\n",
       "<style scoped>\n",
       "    .dataframe tbody tr th:only-of-type {\n",
       "        vertical-align: middle;\n",
       "    }\n",
       "\n",
       "    .dataframe tbody tr th {\n",
       "        vertical-align: top;\n",
       "    }\n",
       "\n",
       "    .dataframe thead th {\n",
       "        text-align: right;\n",
       "    }\n",
       "</style>\n",
       "<table border=\"1\" class=\"dataframe\">\n",
       "  <thead>\n",
       "    <tr style=\"text-align: right;\">\n",
       "      <th></th>\n",
       "      <th>Date</th>\n",
       "      <th>Product ID</th>\n",
       "      <th>Product Title</th>\n",
       "      <th>Product Type</th>\n",
       "      <th>Is Customized</th>\n",
       "      <th>Is Canceled</th>\n",
       "      <th>Store</th>\n",
       "      <th>Referred</th>\n",
       "      <th>Shipped To</th>\n",
       "      <th>Order Item ID</th>\n",
       "      <th>Quantity</th>\n",
       "      <th>Subtotal</th>\n",
       "      <th>Royalty Rate</th>\n",
       "      <th>Royalty</th>\n",
       "      <th>Royalty (USD)</th>\n",
       "      <th>Status</th>\n",
       "      <th>Is Transferred</th>\n",
       "    </tr>\n",
       "  </thead>\n",
       "  <tbody>\n",
       "    <tr>\n",
       "      <th>32379</th>\n",
       "      <td>10/5/2012 3:11:06 AM</td>\n",
       "      <td>240-99921669-9837741</td>\n",
       "      <td>Elegante 2</td>\n",
       "      <td>zazzle_profilecard</td>\n",
       "      <td>Yes</td>\n",
       "      <td>No</td>\n",
       "      <td>RicardoArtes</td>\n",
       "      <td>NaN</td>\n",
       "      <td>Peter - Waldbröl, Germany</td>\n",
       "      <td>169-42732429-6459387</td>\n",
       "      <td>1</td>\n",
       "      <td>€23.90</td>\n",
       "      <td>20.0%+</td>\n",
       "      <td>€4.78 EUR de</td>\n",
       "      <td>$5.99</td>\n",
       "      <td>cleared</td>\n",
       "      <td>Yes</td>\n",
       "    </tr>\n",
       "    <tr>\n",
       "      <th>32380</th>\n",
       "      <td>9/29/2012 7:23:14 AM</td>\n",
       "      <td>240-27050935-7725549</td>\n",
       "      <td>Nouveau graphite</td>\n",
       "      <td>zazzle_profilecard</td>\n",
       "      <td>Yes</td>\n",
       "      <td>No</td>\n",
       "      <td>RicardoArtes</td>\n",
       "      <td>NaN</td>\n",
       "      <td>Judith - Berlin, Germany</td>\n",
       "      <td>169-55460700-1242458</td>\n",
       "      <td>1</td>\n",
       "      <td>€13.70</td>\n",
       "      <td>21.7%+</td>\n",
       "      <td>€2.82 EUR de</td>\n",
       "      <td>$3.53</td>\n",
       "      <td>cleared</td>\n",
       "      <td>Yes</td>\n",
       "    </tr>\n",
       "    <tr>\n",
       "      <th>32381</th>\n",
       "      <td>9/29/2012 7:23:14 AM</td>\n",
       "      <td>240-27050935-7725549</td>\n",
       "      <td>Nouveau graphite</td>\n",
       "      <td>zazzle_profilecard</td>\n",
       "      <td>Yes</td>\n",
       "      <td>No</td>\n",
       "      <td>RicardoArtes</td>\n",
       "      <td>NaN</td>\n",
       "      <td>Judith - Berlin, Germany</td>\n",
       "      <td>169-26723724-9072562</td>\n",
       "      <td>1</td>\n",
       "      <td>€13.70</td>\n",
       "      <td>21.7%+</td>\n",
       "      <td>€2.82 EUR de</td>\n",
       "      <td>$3.53</td>\n",
       "      <td>cleared</td>\n",
       "      <td>Yes</td>\n",
       "    </tr>\n",
       "    <tr>\n",
       "      <th>32382</th>\n",
       "      <td>9/28/2012 9:30:49 AM</td>\n",
       "      <td>240-27050935-7725549</td>\n",
       "      <td>Nouveau graphite</td>\n",
       "      <td>zazzle_profilecard</td>\n",
       "      <td>Yes</td>\n",
       "      <td>No</td>\n",
       "      <td>RicardoArtes</td>\n",
       "      <td>NaN</td>\n",
       "      <td>Enis - Hildrizhausen, Germany</td>\n",
       "      <td>169-49495972-3022464</td>\n",
       "      <td>1</td>\n",
       "      <td>€15.85</td>\n",
       "      <td>21.7%+</td>\n",
       "      <td>€3.27 EUR de</td>\n",
       "      <td>$4.09</td>\n",
       "      <td>cleared</td>\n",
       "      <td>Yes</td>\n",
       "    </tr>\n",
       "    <tr>\n",
       "      <th>32383</th>\n",
       "      <td>9/27/2012 11:33:40 PM</td>\n",
       "      <td>240-96436692-6877736</td>\n",
       "      <td>Verde Nouveau</td>\n",
       "      <td>zazzle_profilecard</td>\n",
       "      <td>Yes</td>\n",
       "      <td>No</td>\n",
       "      <td>RicardoArtes</td>\n",
       "      <td>NaN</td>\n",
       "      <td>Sonja - Gießen, Germany</td>\n",
       "      <td>169-21093046-5755614</td>\n",
       "      <td>1</td>\n",
       "      <td>€15.85</td>\n",
       "      <td>21.7%+</td>\n",
       "      <td>€3.27 EUR de</td>\n",
       "      <td>$4.09</td>\n",
       "      <td>cleared</td>\n",
       "      <td>Yes</td>\n",
       "    </tr>\n",
       "    <tr>\n",
       "      <th>32384</th>\n",
       "      <td>9/12/2012 6:00:45 PM</td>\n",
       "      <td>240-27050935-7725549</td>\n",
       "      <td>Nouveau graphite</td>\n",
       "      <td>zazzle_profilecard</td>\n",
       "      <td>Yes</td>\n",
       "      <td>No</td>\n",
       "      <td>RicardoArtes</td>\n",
       "      <td>NaN</td>\n",
       "      <td>Mike - Dachau, Germany</td>\n",
       "      <td>169-03228966-4552669</td>\n",
       "      <td>1</td>\n",
       "      <td>€15.85</td>\n",
       "      <td>21.7%+</td>\n",
       "      <td>€3.27 EUR de</td>\n",
       "      <td>$4.09</td>\n",
       "      <td>cleared</td>\n",
       "      <td>Yes</td>\n",
       "    </tr>\n",
       "    <tr>\n",
       "      <th>32385</th>\n",
       "      <td>9/7/2012 8:39:04 PM</td>\n",
       "      <td>240-99921669-9837741</td>\n",
       "      <td>Elegante 2</td>\n",
       "      <td>zazzle_profilecard</td>\n",
       "      <td>Yes</td>\n",
       "      <td>No</td>\n",
       "      <td>RicardoArtes</td>\n",
       "      <td>NaN</td>\n",
       "      <td>United States</td>\n",
       "      <td>169-82393615-4974728</td>\n",
       "      <td>1</td>\n",
       "      <td>$21.35</td>\n",
       "      <td>20.0%+</td>\n",
       "      <td>$4.27 USD</td>\n",
       "      <td>$4.27</td>\n",
       "      <td>cleared</td>\n",
       "      <td>Yes</td>\n",
       "    </tr>\n",
       "    <tr>\n",
       "      <th>32386</th>\n",
       "      <td>8/21/2012 3:38:54 PM</td>\n",
       "      <td>240-27050935-7725549</td>\n",
       "      <td>Nouveau graphite</td>\n",
       "      <td>zazzle_profilecard</td>\n",
       "      <td>Yes</td>\n",
       "      <td>No</td>\n",
       "      <td>RicardoArtes</td>\n",
       "      <td>NaN</td>\n",
       "      <td>Nasser - Zürich, Switzerland</td>\n",
       "      <td>169-29930272-7692397</td>\n",
       "      <td>1</td>\n",
       "      <td>€15.85</td>\n",
       "      <td>21.7%+</td>\n",
       "      <td>€3.27 EUR de</td>\n",
       "      <td>$4.09</td>\n",
       "      <td>cleared</td>\n",
       "      <td>Yes</td>\n",
       "    </tr>\n",
       "    <tr>\n",
       "      <th>32387</th>\n",
       "      <td>7/20/2012 8:29:12 AM</td>\n",
       "      <td>240-27050935-7725549</td>\n",
       "      <td>Nouveau graphite</td>\n",
       "      <td>zazzle_profilecard</td>\n",
       "      <td>Yes</td>\n",
       "      <td>No</td>\n",
       "      <td>RicardoArtes</td>\n",
       "      <td>3rd Party</td>\n",
       "      <td>United States</td>\n",
       "      <td>169-85679716-9837316</td>\n",
       "      <td>1</td>\n",
       "      <td>$19.50</td>\n",
       "      <td>21.7%+</td>\n",
       "      <td>$3.17 USD</td>\n",
       "      <td>$3.17</td>\n",
       "      <td>cleared</td>\n",
       "      <td>Yes</td>\n",
       "    </tr>\n",
       "    <tr>\n",
       "      <th>32388</th>\n",
       "      <td>6/21/2012 9:51:00 AM</td>\n",
       "      <td>240-48013704-5084466</td>\n",
       "      <td>Grécia Contemporânea</td>\n",
       "      <td>zazzle_profilecard</td>\n",
       "      <td>Yes</td>\n",
       "      <td>Yes</td>\n",
       "      <td>RicardoArtes</td>\n",
       "      <td>NaN</td>\n",
       "      <td>United States</td>\n",
       "      <td>169-26501880-2522478</td>\n",
       "      <td>1</td>\n",
       "      <td>$5.37</td>\n",
       "      <td>25.0%+</td>\n",
       "      <td>$1.27 USD</td>\n",
       "      <td>$1.27</td>\n",
       "      <td>cleared</td>\n",
       "      <td>No</td>\n",
       "    </tr>\n",
       "    <tr>\n",
       "      <th>32389</th>\n",
       "      <td>6/21/2012 9:51:00 AM</td>\n",
       "      <td>240-36297848-8052705</td>\n",
       "      <td>Cartão Elegante</td>\n",
       "      <td>zazzle_profilecard</td>\n",
       "      <td>Yes</td>\n",
       "      <td>Yes</td>\n",
       "      <td>RicardoArtes</td>\n",
       "      <td>NaN</td>\n",
       "      <td>United States</td>\n",
       "      <td>169-02825211-9211579</td>\n",
       "      <td>1</td>\n",
       "      <td>$14.62</td>\n",
       "      <td>20.0%+</td>\n",
       "      <td>$2.92 USD</td>\n",
       "      <td>$2.92</td>\n",
       "      <td>cleared</td>\n",
       "      <td>No</td>\n",
       "    </tr>\n",
       "    <tr>\n",
       "      <th>32390</th>\n",
       "      <td>3/23/2012 5:13:30 PM</td>\n",
       "      <td>240-48013704-5084466</td>\n",
       "      <td>Grécia Contemporânea</td>\n",
       "      <td>zazzle_profilecard</td>\n",
       "      <td>Yes</td>\n",
       "      <td>Yes</td>\n",
       "      <td>RicardoArtes</td>\n",
       "      <td>NaN</td>\n",
       "      <td>Marcello - Lugano, Switzerland</td>\n",
       "      <td>169-07935009-6598567</td>\n",
       "      <td>5</td>\n",
       "      <td>CHF51.55</td>\n",
       "      <td>25.0%+</td>\n",
       "      <td>CHF12.25 CHF</td>\n",
       "      <td>$12.53</td>\n",
       "      <td>cleared</td>\n",
       "      <td>No</td>\n",
       "    </tr>\n",
       "    <tr>\n",
       "      <th>32391</th>\n",
       "      <td>1/25/2012 1:32:32 PM</td>\n",
       "      <td>239-89217540-7970094</td>\n",
       "      <td>Aparecida do Norte</td>\n",
       "      <td>zazzle_postcard</td>\n",
       "      <td>Yes</td>\n",
       "      <td>No</td>\n",
       "      <td>RicardoArtes</td>\n",
       "      <td>NaN</td>\n",
       "      <td>Adriana - São Paulo, Brazil</td>\n",
       "      <td>169-89467669-9328923</td>\n",
       "      <td>2</td>\n",
       "      <td>R$4.80</td>\n",
       "      <td>20.0%+</td>\n",
       "      <td>R$0.96 BRL</td>\n",
       "      <td>$0.45</td>\n",
       "      <td>cleared</td>\n",
       "      <td>Yes</td>\n",
       "    </tr>\n",
       "    <tr>\n",
       "      <th>32392</th>\n",
       "      <td>12/14/2011 4:51:41 AM</td>\n",
       "      <td>149-99118322-0835239</td>\n",
       "      <td>Nossa Senhora da Conceição Aparecida</td>\n",
       "      <td>zazzle_bag</td>\n",
       "      <td>Yes</td>\n",
       "      <td>No</td>\n",
       "      <td>RicardoArtes</td>\n",
       "      <td>NaN</td>\n",
       "      <td>Neusa - Rio De Janeiro, Brazil</td>\n",
       "      <td>169-81662931-4781555</td>\n",
       "      <td>1</td>\n",
       "      <td>R$26.25</td>\n",
       "      <td>10.0%</td>\n",
       "      <td>R$2.63 BRL</td>\n",
       "      <td>$1.24</td>\n",
       "      <td>cleared</td>\n",
       "      <td>No</td>\n",
       "    </tr>\n",
       "    <tr>\n",
       "      <th>32393</th>\n",
       "      <td>12/10/2011 4:48:28 PM</td>\n",
       "      <td>239-89217540-7970094</td>\n",
       "      <td>Aparecida do Norte</td>\n",
       "      <td>zazzle_postcard</td>\n",
       "      <td>Yes</td>\n",
       "      <td>No</td>\n",
       "      <td>RicardoArtes</td>\n",
       "      <td>NaN</td>\n",
       "      <td>Adriana - Sao Paulo, Brazil</td>\n",
       "      <td>169-07034355-9170295</td>\n",
       "      <td>2</td>\n",
       "      <td>R$4.80</td>\n",
       "      <td>20.0%+</td>\n",
       "      <td>R$0.96 BRL</td>\n",
       "      <td>$0.45</td>\n",
       "      <td>cleared</td>\n",
       "      <td>Yes</td>\n",
       "    </tr>\n",
       "  </tbody>\n",
       "</table>\n",
       "</div>"
      ],
      "text/plain": [
       "                        Date            Product ID  \\\n",
       "32379   10/5/2012 3:11:06 AM  240-99921669-9837741   \n",
       "32380   9/29/2012 7:23:14 AM  240-27050935-7725549   \n",
       "32381   9/29/2012 7:23:14 AM  240-27050935-7725549   \n",
       "32382   9/28/2012 9:30:49 AM  240-27050935-7725549   \n",
       "32383  9/27/2012 11:33:40 PM  240-96436692-6877736   \n",
       "32384   9/12/2012 6:00:45 PM  240-27050935-7725549   \n",
       "32385    9/7/2012 8:39:04 PM  240-99921669-9837741   \n",
       "32386   8/21/2012 3:38:54 PM  240-27050935-7725549   \n",
       "32387   7/20/2012 8:29:12 AM  240-27050935-7725549   \n",
       "32388   6/21/2012 9:51:00 AM  240-48013704-5084466   \n",
       "32389   6/21/2012 9:51:00 AM  240-36297848-8052705   \n",
       "32390   3/23/2012 5:13:30 PM  240-48013704-5084466   \n",
       "32391   1/25/2012 1:32:32 PM  239-89217540-7970094   \n",
       "32392  12/14/2011 4:51:41 AM  149-99118322-0835239   \n",
       "32393  12/10/2011 4:48:28 PM  239-89217540-7970094   \n",
       "\n",
       "                              Product Title        Product Type Is Customized  \\\n",
       "32379                            Elegante 2  zazzle_profilecard           Yes   \n",
       "32380                      Nouveau graphite  zazzle_profilecard           Yes   \n",
       "32381                      Nouveau graphite  zazzle_profilecard           Yes   \n",
       "32382                      Nouveau graphite  zazzle_profilecard           Yes   \n",
       "32383                         Verde Nouveau  zazzle_profilecard           Yes   \n",
       "32384                      Nouveau graphite  zazzle_profilecard           Yes   \n",
       "32385                            Elegante 2  zazzle_profilecard           Yes   \n",
       "32386                      Nouveau graphite  zazzle_profilecard           Yes   \n",
       "32387                      Nouveau graphite  zazzle_profilecard           Yes   \n",
       "32388                  Grécia Contemporânea  zazzle_profilecard           Yes   \n",
       "32389                       Cartão Elegante  zazzle_profilecard           Yes   \n",
       "32390                  Grécia Contemporânea  zazzle_profilecard           Yes   \n",
       "32391                    Aparecida do Norte     zazzle_postcard           Yes   \n",
       "32392  Nossa Senhora da Conceição Aparecida          zazzle_bag           Yes   \n",
       "32393                    Aparecida do Norte     zazzle_postcard           Yes   \n",
       "\n",
       "      Is Canceled         Store   Referred                      Shipped To  \\\n",
       "32379          No  RicardoArtes        NaN       Peter - Waldbröl, Germany   \n",
       "32380          No  RicardoArtes        NaN        Judith - Berlin, Germany   \n",
       "32381          No  RicardoArtes        NaN        Judith - Berlin, Germany   \n",
       "32382          No  RicardoArtes        NaN   Enis - Hildrizhausen, Germany   \n",
       "32383          No  RicardoArtes        NaN         Sonja - Gießen, Germany   \n",
       "32384          No  RicardoArtes        NaN          Mike - Dachau, Germany   \n",
       "32385          No  RicardoArtes        NaN                   United States   \n",
       "32386          No  RicardoArtes        NaN    Nasser - Zürich, Switzerland   \n",
       "32387          No  RicardoArtes  3rd Party                   United States   \n",
       "32388         Yes  RicardoArtes        NaN                   United States   \n",
       "32389         Yes  RicardoArtes        NaN                   United States   \n",
       "32390         Yes  RicardoArtes        NaN  Marcello - Lugano, Switzerland   \n",
       "32391          No  RicardoArtes        NaN     Adriana - São Paulo, Brazil   \n",
       "32392          No  RicardoArtes        NaN  Neusa - Rio De Janeiro, Brazil   \n",
       "32393          No  RicardoArtes        NaN     Adriana - Sao Paulo, Brazil   \n",
       "\n",
       "              Order Item ID  Quantity  Subtotal Royalty Rate        Royalty  \\\n",
       "32379  169-42732429-6459387         1    €23.90       20.0%+   €4.78 EUR de   \n",
       "32380  169-55460700-1242458         1    €13.70       21.7%+   €2.82 EUR de   \n",
       "32381  169-26723724-9072562         1    €13.70       21.7%+   €2.82 EUR de   \n",
       "32382  169-49495972-3022464         1    €15.85       21.7%+   €3.27 EUR de   \n",
       "32383  169-21093046-5755614         1    €15.85       21.7%+   €3.27 EUR de   \n",
       "32384  169-03228966-4552669         1    €15.85       21.7%+   €3.27 EUR de   \n",
       "32385  169-82393615-4974728         1    $21.35       20.0%+     $4.27 USD    \n",
       "32386  169-29930272-7692397         1    €15.85       21.7%+   €3.27 EUR de   \n",
       "32387  169-85679716-9837316         1    $19.50       21.7%+     $3.17 USD    \n",
       "32388  169-26501880-2522478         1     $5.37       25.0%+     $1.27 USD    \n",
       "32389  169-02825211-9211579         1    $14.62       20.0%+     $2.92 USD    \n",
       "32390  169-07935009-6598567         5  CHF51.55       25.0%+  CHF12.25 CHF    \n",
       "32391  169-89467669-9328923         2    R$4.80       20.0%+    R$0.96 BRL    \n",
       "32392  169-81662931-4781555         1   R$26.25        10.0%    R$2.63 BRL    \n",
       "32393  169-07034355-9170295         2    R$4.80       20.0%+    R$0.96 BRL    \n",
       "\n",
       "      Royalty (USD)   Status Is Transferred  \n",
       "32379         $5.99  cleared            Yes  \n",
       "32380         $3.53  cleared            Yes  \n",
       "32381         $3.53  cleared            Yes  \n",
       "32382         $4.09  cleared            Yes  \n",
       "32383         $4.09  cleared            Yes  \n",
       "32384         $4.09  cleared            Yes  \n",
       "32385         $4.27  cleared            Yes  \n",
       "32386         $4.09  cleared            Yes  \n",
       "32387         $3.17  cleared            Yes  \n",
       "32388         $1.27  cleared             No  \n",
       "32389         $2.92  cleared             No  \n",
       "32390        $12.53  cleared             No  \n",
       "32391         $0.45  cleared            Yes  \n",
       "32392         $1.24  cleared             No  \n",
       "32393         $0.45  cleared            Yes  "
      ]
     },
     "execution_count": 16,
     "metadata": {},
     "output_type": "execute_result"
    }
   ],
   "source": [
    "# Agora as 15 linhas finais.\n",
    "df.tail(15)"
   ]
  },
  {
   "cell_type": "code",
   "execution_count": null,
   "id": "09c11c86",
   "metadata": {},
   "outputs": [],
   "source": [
    "# Vamos tratar os dados dos demais países.\n",
    "# Aqui mais um padrão ocorre:\n",
    "# Adriana - Sao Paulo, Brazil\n",
    "# Em alguns casos o nome do usuário não é informado:\n",
    "# - Japan\n",
    "# Há sempre uma constante: O nome do país é informado.\n",
    "# Podemos comparar o texto da célula e verificar se ele informa um país válido em algum ponto.\n",
    "# Se for localizado podemos substituir o valor da célula com o nome do país."
   ]
  },
  {
   "cell_type": "code",
   "execution_count": 17,
   "id": "b59b1c2d",
   "metadata": {},
   "outputs": [],
   "source": [
    "# Lista de países\n",
    "\n",
    "paises_validos = [\n",
    "    \"Afghanistan\", \"Albania\", \"Algeria\", \"Andorra\", \"Angola\", \"Antigua and Barbuda\", \"Argentina\", \"Armenia\",\n",
    "    \"Australia\", \"Austria\", \"Azerbaijan\", \"Bahamas\", \"Bahrain\", \"Bangladesh\", \"Barbados\", \"Belarus\", \"Belgium\",\n",
    "    \"Belize\", \"Benin\", \"Bhutan\", \"Bolivia\", \"Bosnia and Herzegovina\", \"Botswana\", \"Brazil\", \"Brunei\", \"Bulgaria\",\n",
    "    \"Burkina Faso\", \"Burundi\", \"Cabo Verde\", \"Cambodia\", \"Cameroon\", \"Canada\", \"Central African Republic\", \"Chad\",\n",
    "    \"Chile\", \"China\", \"Colombia\", \"Comoros\", \"Congo, Democratic Republic of the\", \"Congo, Republic of the\", \"Costa Rica\",\n",
    "    \"Croatia\", \"Cuba\", \"Cyprus\", \"Czech Republic\", \"Denmark\", \"Djibouti\", \"Dominica\", \"Dominican Republic\",\n",
    "    \"East Timor\", \"Ecuador\", \"Egypt\", \"El Salvador\", \"Equatorial Guinea\", \"Eritrea\", \"Estonia\", \"Eswatini\", \"Ethiopia\",\n",
    "    \"Fiji\", \"Finland\", \"France\", \"Gabon\", \"Gambia\", \"Georgia\", \"Germany\", \"Ghana\", \"Greece\", \"Grenada\", \"Guatemala\",\n",
    "    \"Guinea\", \"Guinea-Bissau\", \"Guyana\", \"Haiti\", \"Honduras\", \"Hungary\", \"Iceland\", \"India\", \"Indonesia\", \"Iran\", \"Iraq\",\n",
    "    \"Ireland\", \"Israel\", \"Italy\", \"Jamaica\", \"Japan\", \"Jordan\", \"Kazakhstan\", \"Kenya\", \"Kiribati\", \"Korea, North\",\n",
    "    \"Korea, South\", \"Kosovo\", \"Kuwait\", \"Kyrgyzstan\", \"Laos\", \"Latvia\", \"Lebanon\", \"Lesotho\", \"Liberia\", \"Libya\",\n",
    "    \"Liechtenstein\", \"Lithuania\", \"Luxembourg\", \"Madagascar\", \"Malawi\", \"Malaysia\", \"Maldives\", \"Mali\", \"Malta\",\n",
    "    \"Marshall Islands\", \"Mauritania\", \"Mauritius\", \"Mexico\", \"Micronesia\", \"Moldova\", \"Monaco\", \"Mongolia\",\n",
    "    \"Montenegro\", \"Morocco\", \"Mozambique\", \"Myanmar\", \"Namibia\", \"Nauru\", \"Nepal\", \"Netherlands\", \"New Zealand\",\n",
    "    \"Nicaragua\", \"Niger\", \"Nigeria\", \"North Macedonia\", \"Norway\", \"Oman\", \"Pakistan\", \"Palau\", \"Panama\",\n",
    "    \"Papua New Guinea\", \"Paraguay\", \"Peru\", \"Philippines\", \"Poland\", \"Portugal\", \"Qatar\", \"Romania\", \"Russia\",\n",
    "    \"Rwanda\", \"Saint Kitts and Nevis\", \"Saint Lucia\", \"Saint Vincent and the Grenadines\", \"Samoa\", \"San Marino\",\n",
    "    \"Sao Tome and Principe\", \"Saudi Arabia\", \"Senegal\", \"Serbia\", \"Seychelles\", \"Sierra Leone\", \"Singapore\",\n",
    "    \"Slovakia\", \"Slovenia\", \"Solomon Islands\", \"Somalia\", \"South Africa\", \"South Sudan\", \"Spain\", \"Sri Lanka\",\n",
    "    \"Sudan\", \"Suriname\", \"Sweden\", \"Switzerland\", \"Syria\", \"Taiwan\", \"Tajikistan\", \"Tanzania\", \"Thailand\",\n",
    "    \"Timor-Leste\", \"Togo\", \"Tonga\", \"Trinidad and Tobago\", \"Tunisia\", \"Turkey\", \"Turkmenistan\", \"Tuvalu\", \"Uganda\",\n",
    "    \"Ukraine\", \"United Arab Emirates\", \"United Kingdom\", \"United States\", \"Uruguay\", \"Uzbekistan\", \"Vanuatu\",\n",
    "    \"Vatican City\", \"Venezuela\", \"Vietnam\", \"Yemen\", \"Zambia\", \"Zimbabwe\"\n",
    "]\n",
    "\n",
    "dicionario_paises = {pais: pais for pais in paises_validos}\n",
    "\n",
    "for index, row in df.iterrows():\n",
    "    enviado_para = row['Shipped To']\n",
    "    for pais in dicionario_paises:\n",
    "        if pais in enviado_para:\n",
    "            df.at[index, 'Shipped To'] = pais\n",
    "            break"
   ]
  },
  {
   "cell_type": "code",
   "execution_count": 18,
   "id": "5896b10b",
   "metadata": {},
   "outputs": [
    {
     "data": {
      "text/html": [
       "<div>\n",
       "<style scoped>\n",
       "    .dataframe tbody tr th:only-of-type {\n",
       "        vertical-align: middle;\n",
       "    }\n",
       "\n",
       "    .dataframe tbody tr th {\n",
       "        vertical-align: top;\n",
       "    }\n",
       "\n",
       "    .dataframe thead th {\n",
       "        text-align: right;\n",
       "    }\n",
       "</style>\n",
       "<table border=\"1\" class=\"dataframe\">\n",
       "  <thead>\n",
       "    <tr style=\"text-align: right;\">\n",
       "      <th></th>\n",
       "      <th>Date</th>\n",
       "      <th>Product ID</th>\n",
       "      <th>Product Title</th>\n",
       "      <th>Product Type</th>\n",
       "      <th>Is Customized</th>\n",
       "      <th>Is Canceled</th>\n",
       "      <th>Store</th>\n",
       "      <th>Referred</th>\n",
       "      <th>Shipped To</th>\n",
       "      <th>Order Item ID</th>\n",
       "      <th>Quantity</th>\n",
       "      <th>Subtotal</th>\n",
       "      <th>Royalty Rate</th>\n",
       "      <th>Royalty</th>\n",
       "      <th>Royalty (USD)</th>\n",
       "      <th>Status</th>\n",
       "      <th>Is Transferred</th>\n",
       "    </tr>\n",
       "  </thead>\n",
       "  <tbody>\n",
       "    <tr>\n",
       "      <th>0</th>\n",
       "      <td>9/10/2024 2:13:06 PM</td>\n",
       "      <td>217-02854107-2295764</td>\n",
       "      <td>Modern Minimalist Real Estate Black</td>\n",
       "      <td>zazzle_sticker</td>\n",
       "      <td>Yes</td>\n",
       "      <td>No</td>\n",
       "      <td>RicardoArtes</td>\n",
       "      <td>3rd Party</td>\n",
       "      <td>United States</td>\n",
       "      <td>169-81207300-8095920</td>\n",
       "      <td>1</td>\n",
       "      <td>$6.76</td>\n",
       "      <td>10.0%</td>\n",
       "      <td>$0.54 USD</td>\n",
       "      <td>$0.54</td>\n",
       "      <td>pending</td>\n",
       "      <td>No</td>\n",
       "    </tr>\n",
       "    <tr>\n",
       "      <th>1</th>\n",
       "      <td>9/10/2024 2:13:06 PM</td>\n",
       "      <td>217-02854107-2295764</td>\n",
       "      <td>Modern Minimalist Real Estate Black</td>\n",
       "      <td>zazzle_sticker</td>\n",
       "      <td>Yes</td>\n",
       "      <td>No</td>\n",
       "      <td>RicardoArtes</td>\n",
       "      <td>3rd Party</td>\n",
       "      <td>United States</td>\n",
       "      <td>169-49976541-2896161</td>\n",
       "      <td>1</td>\n",
       "      <td>$6.76</td>\n",
       "      <td>10.0%</td>\n",
       "      <td>$0.54 USD</td>\n",
       "      <td>$0.54</td>\n",
       "      <td>pending</td>\n",
       "      <td>No</td>\n",
       "    </tr>\n",
       "    <tr>\n",
       "      <th>2</th>\n",
       "      <td>9/10/2024 2:01:50 PM</td>\n",
       "      <td>256-50771486-3204370</td>\n",
       "      <td>Personalized Teacher Name</td>\n",
       "      <td>hamptontech_selfinkingstamp</td>\n",
       "      <td>Yes</td>\n",
       "      <td>No</td>\n",
       "      <td>RicardoArtes</td>\n",
       "      <td>NaN</td>\n",
       "      <td>United States</td>\n",
       "      <td>169-90893214-5598241</td>\n",
       "      <td>1</td>\n",
       "      <td>$11.18</td>\n",
       "      <td>10.0%</td>\n",
       "      <td>$1.12 USD</td>\n",
       "      <td>$1.12</td>\n",
       "      <td>pending</td>\n",
       "      <td>No</td>\n",
       "    </tr>\n",
       "    <tr>\n",
       "      <th>3</th>\n",
       "      <td>9/10/2024 2:01:50 PM</td>\n",
       "      <td>256-50771486-3204370</td>\n",
       "      <td>Personalized Teacher Name</td>\n",
       "      <td>hamptontech_selfinkingstamp</td>\n",
       "      <td>Yes</td>\n",
       "      <td>No</td>\n",
       "      <td>RicardoArtes</td>\n",
       "      <td>NaN</td>\n",
       "      <td>United States</td>\n",
       "      <td>169-74006166-4120061</td>\n",
       "      <td>1</td>\n",
       "      <td>$11.18</td>\n",
       "      <td>10.0%</td>\n",
       "      <td>$1.12 USD</td>\n",
       "      <td>$1.12</td>\n",
       "      <td>pending</td>\n",
       "      <td>No</td>\n",
       "    </tr>\n",
       "    <tr>\n",
       "      <th>4</th>\n",
       "      <td>9/10/2024 2:01:50 PM</td>\n",
       "      <td>256-50771486-3204370</td>\n",
       "      <td>Personalized Teacher Name</td>\n",
       "      <td>hamptontech_selfinkingstamp</td>\n",
       "      <td>Yes</td>\n",
       "      <td>No</td>\n",
       "      <td>RicardoArtes</td>\n",
       "      <td>NaN</td>\n",
       "      <td>United States</td>\n",
       "      <td>169-58758080-3397052</td>\n",
       "      <td>1</td>\n",
       "      <td>$11.18</td>\n",
       "      <td>10.0%</td>\n",
       "      <td>$1.12 USD</td>\n",
       "      <td>$1.12</td>\n",
       "      <td>pending</td>\n",
       "      <td>No</td>\n",
       "    </tr>\n",
       "    <tr>\n",
       "      <th>5</th>\n",
       "      <td>9/10/2024 2:01:50 PM</td>\n",
       "      <td>256-50771486-3204370</td>\n",
       "      <td>Personalized Teacher Name</td>\n",
       "      <td>hamptontech_selfinkingstamp</td>\n",
       "      <td>Yes</td>\n",
       "      <td>No</td>\n",
       "      <td>RicardoArtes</td>\n",
       "      <td>NaN</td>\n",
       "      <td>United States</td>\n",
       "      <td>169-61178968-9587070</td>\n",
       "      <td>1</td>\n",
       "      <td>$11.18</td>\n",
       "      <td>10.0%</td>\n",
       "      <td>$1.12 USD</td>\n",
       "      <td>$1.12</td>\n",
       "      <td>pending</td>\n",
       "      <td>No</td>\n",
       "    </tr>\n",
       "    <tr>\n",
       "      <th>6</th>\n",
       "      <td>9/10/2024 2:01:50 PM</td>\n",
       "      <td>256-50771486-3204370</td>\n",
       "      <td>Personalized Teacher Name</td>\n",
       "      <td>hamptontech_selfinkingstamp</td>\n",
       "      <td>Yes</td>\n",
       "      <td>No</td>\n",
       "      <td>RicardoArtes</td>\n",
       "      <td>NaN</td>\n",
       "      <td>United States</td>\n",
       "      <td>169-54099369-9337645</td>\n",
       "      <td>1</td>\n",
       "      <td>$11.18</td>\n",
       "      <td>10.0%</td>\n",
       "      <td>$1.12 USD</td>\n",
       "      <td>$1.12</td>\n",
       "      <td>pending</td>\n",
       "      <td>No</td>\n",
       "    </tr>\n",
       "    <tr>\n",
       "      <th>7</th>\n",
       "      <td>9/10/2024 2:01:50 PM</td>\n",
       "      <td>256-50771486-3204370</td>\n",
       "      <td>Personalized Teacher Name</td>\n",
       "      <td>hamptontech_selfinkingstamp</td>\n",
       "      <td>Yes</td>\n",
       "      <td>No</td>\n",
       "      <td>RicardoArtes</td>\n",
       "      <td>NaN</td>\n",
       "      <td>United States</td>\n",
       "      <td>169-08265809-1186820</td>\n",
       "      <td>1</td>\n",
       "      <td>$11.18</td>\n",
       "      <td>10.0%</td>\n",
       "      <td>$1.12 USD</td>\n",
       "      <td>$1.12</td>\n",
       "      <td>pending</td>\n",
       "      <td>No</td>\n",
       "    </tr>\n",
       "    <tr>\n",
       "      <th>8</th>\n",
       "      <td>9/10/2024 10:44:52 AM</td>\n",
       "      <td>256-10893432-1682747</td>\n",
       "      <td>Professional Chic Elegant Plain and Monogram</td>\n",
       "      <td>visualpromotions_folder</td>\n",
       "      <td>Yes</td>\n",
       "      <td>No</td>\n",
       "      <td>RicardoArtes</td>\n",
       "      <td>NaN</td>\n",
       "      <td>United States</td>\n",
       "      <td>169-03838267-3563825</td>\n",
       "      <td>1</td>\n",
       "      <td>$21.55</td>\n",
       "      <td>10.0%</td>\n",
       "      <td>$2.16 USD</td>\n",
       "      <td>$2.16</td>\n",
       "      <td>pending</td>\n",
       "      <td>No</td>\n",
       "    </tr>\n",
       "    <tr>\n",
       "      <th>9</th>\n",
       "      <td>9/10/2024 1:29:07 AM</td>\n",
       "      <td>240-71784709-9740850</td>\n",
       "      <td>Elegant Minimal Plain Professional Black</td>\n",
       "      <td>zazzle_businesscard</td>\n",
       "      <td>Yes</td>\n",
       "      <td>No</td>\n",
       "      <td>RicardoArtes</td>\n",
       "      <td>NaN</td>\n",
       "      <td>Austria</td>\n",
       "      <td>169-56003445-6055249</td>\n",
       "      <td>1</td>\n",
       "      <td>€20.01</td>\n",
       "      <td>10.0%</td>\n",
       "      <td>€1.60 EUR++ at</td>\n",
       "      <td>$1.67**</td>\n",
       "      <td>pending</td>\n",
       "      <td>No</td>\n",
       "    </tr>\n",
       "    <tr>\n",
       "      <th>10</th>\n",
       "      <td>9/9/2024 11:53:50 PM</td>\n",
       "      <td>217-86366175-7539770</td>\n",
       "      <td>Round Custom Your Company Logo</td>\n",
       "      <td>zazzle_sticker</td>\n",
       "      <td>Yes</td>\n",
       "      <td>No</td>\n",
       "      <td>RicardoArtes</td>\n",
       "      <td>NaN</td>\n",
       "      <td>United States</td>\n",
       "      <td>169-03814505-1489444</td>\n",
       "      <td>3</td>\n",
       "      <td>$20.10</td>\n",
       "      <td>10.0%</td>\n",
       "      <td>$2.07 USD</td>\n",
       "      <td>$2.07</td>\n",
       "      <td>pending</td>\n",
       "      <td>No</td>\n",
       "    </tr>\n",
       "    <tr>\n",
       "      <th>11</th>\n",
       "      <td>9/9/2024 11:53:50 PM</td>\n",
       "      <td>217-86366175-7539770</td>\n",
       "      <td>Round Custom Your Company Logo</td>\n",
       "      <td>zazzle_sticker</td>\n",
       "      <td>Yes</td>\n",
       "      <td>No</td>\n",
       "      <td>RicardoArtes</td>\n",
       "      <td>NaN</td>\n",
       "      <td>United States</td>\n",
       "      <td>169-03814505-1489444</td>\n",
       "      <td>3</td>\n",
       "      <td>$1.20</td>\n",
       "      <td>5.0%</td>\n",
       "      <td>See Above</td>\n",
       "      <td>See Above</td>\n",
       "      <td>pending</td>\n",
       "      <td>No</td>\n",
       "    </tr>\n",
       "    <tr>\n",
       "      <th>12</th>\n",
       "      <td>9/9/2024 11:53:50 PM</td>\n",
       "      <td>217-86366175-7539770</td>\n",
       "      <td>Round Custom Your Company Logo</td>\n",
       "      <td>zazzle_sticker</td>\n",
       "      <td>Yes</td>\n",
       "      <td>No</td>\n",
       "      <td>RicardoArtes</td>\n",
       "      <td>NaN</td>\n",
       "      <td>United States</td>\n",
       "      <td>169-07678231-6056679</td>\n",
       "      <td>1</td>\n",
       "      <td>$6.70</td>\n",
       "      <td>10.0%</td>\n",
       "      <td>$0.69 USD</td>\n",
       "      <td>$0.69</td>\n",
       "      <td>pending</td>\n",
       "      <td>No</td>\n",
       "    </tr>\n",
       "    <tr>\n",
       "      <th>13</th>\n",
       "      <td>9/9/2024 11:53:50 PM</td>\n",
       "      <td>217-86366175-7539770</td>\n",
       "      <td>Round Custom Your Company Logo</td>\n",
       "      <td>zazzle_sticker</td>\n",
       "      <td>Yes</td>\n",
       "      <td>No</td>\n",
       "      <td>RicardoArtes</td>\n",
       "      <td>NaN</td>\n",
       "      <td>United States</td>\n",
       "      <td>169-07678231-6056679</td>\n",
       "      <td>1</td>\n",
       "      <td>$0.40</td>\n",
       "      <td>5.0%</td>\n",
       "      <td>See Above</td>\n",
       "      <td>See Above</td>\n",
       "      <td>pending</td>\n",
       "      <td>No</td>\n",
       "    </tr>\n",
       "    <tr>\n",
       "      <th>14</th>\n",
       "      <td>9/9/2024 6:35:20 PM</td>\n",
       "      <td>240-71198261-7218569</td>\n",
       "      <td>Minimalist Modern Elegant Loyalty Discount</td>\n",
       "      <td>zazzle_flatloyaltycard</td>\n",
       "      <td>Yes</td>\n",
       "      <td>No</td>\n",
       "      <td>RicardoArtes</td>\n",
       "      <td>3rd Party</td>\n",
       "      <td>Australia</td>\n",
       "      <td>169-05198520-5009191</td>\n",
       "      <td>3</td>\n",
       "      <td>$73.71</td>\n",
       "      <td>10.0%</td>\n",
       "      <td>$4.74 AUD++</td>\n",
       "      <td>$2.99**</td>\n",
       "      <td>pending</td>\n",
       "      <td>No</td>\n",
       "    </tr>\n",
       "  </tbody>\n",
       "</table>\n",
       "</div>"
      ],
      "text/plain": [
       "                     Date            Product ID  \\\n",
       "0    9/10/2024 2:13:06 PM  217-02854107-2295764   \n",
       "1    9/10/2024 2:13:06 PM  217-02854107-2295764   \n",
       "2    9/10/2024 2:01:50 PM  256-50771486-3204370   \n",
       "3    9/10/2024 2:01:50 PM  256-50771486-3204370   \n",
       "4    9/10/2024 2:01:50 PM  256-50771486-3204370   \n",
       "5    9/10/2024 2:01:50 PM  256-50771486-3204370   \n",
       "6    9/10/2024 2:01:50 PM  256-50771486-3204370   \n",
       "7    9/10/2024 2:01:50 PM  256-50771486-3204370   \n",
       "8   9/10/2024 10:44:52 AM  256-10893432-1682747   \n",
       "9    9/10/2024 1:29:07 AM  240-71784709-9740850   \n",
       "10   9/9/2024 11:53:50 PM  217-86366175-7539770   \n",
       "11   9/9/2024 11:53:50 PM  217-86366175-7539770   \n",
       "12   9/9/2024 11:53:50 PM  217-86366175-7539770   \n",
       "13   9/9/2024 11:53:50 PM  217-86366175-7539770   \n",
       "14    9/9/2024 6:35:20 PM  240-71198261-7218569   \n",
       "\n",
       "                                   Product Title                 Product Type  \\\n",
       "0            Modern Minimalist Real Estate Black               zazzle_sticker   \n",
       "1            Modern Minimalist Real Estate Black               zazzle_sticker   \n",
       "2                      Personalized Teacher Name  hamptontech_selfinkingstamp   \n",
       "3                      Personalized Teacher Name  hamptontech_selfinkingstamp   \n",
       "4                      Personalized Teacher Name  hamptontech_selfinkingstamp   \n",
       "5                      Personalized Teacher Name  hamptontech_selfinkingstamp   \n",
       "6                      Personalized Teacher Name  hamptontech_selfinkingstamp   \n",
       "7                      Personalized Teacher Name  hamptontech_selfinkingstamp   \n",
       "8   Professional Chic Elegant Plain and Monogram      visualpromotions_folder   \n",
       "9       Elegant Minimal Plain Professional Black          zazzle_businesscard   \n",
       "10                Round Custom Your Company Logo               zazzle_sticker   \n",
       "11                Round Custom Your Company Logo               zazzle_sticker   \n",
       "12                Round Custom Your Company Logo               zazzle_sticker   \n",
       "13                Round Custom Your Company Logo               zazzle_sticker   \n",
       "14    Minimalist Modern Elegant Loyalty Discount       zazzle_flatloyaltycard   \n",
       "\n",
       "   Is Customized Is Canceled         Store   Referred     Shipped To  \\\n",
       "0            Yes          No  RicardoArtes  3rd Party  United States   \n",
       "1            Yes          No  RicardoArtes  3rd Party  United States   \n",
       "2            Yes          No  RicardoArtes        NaN  United States   \n",
       "3            Yes          No  RicardoArtes        NaN  United States   \n",
       "4            Yes          No  RicardoArtes        NaN  United States   \n",
       "5            Yes          No  RicardoArtes        NaN  United States   \n",
       "6            Yes          No  RicardoArtes        NaN  United States   \n",
       "7            Yes          No  RicardoArtes        NaN  United States   \n",
       "8            Yes          No  RicardoArtes        NaN  United States   \n",
       "9            Yes          No  RicardoArtes        NaN        Austria   \n",
       "10           Yes          No  RicardoArtes        NaN  United States   \n",
       "11           Yes          No  RicardoArtes        NaN  United States   \n",
       "12           Yes          No  RicardoArtes        NaN  United States   \n",
       "13           Yes          No  RicardoArtes        NaN  United States   \n",
       "14           Yes          No  RicardoArtes  3rd Party      Australia   \n",
       "\n",
       "           Order Item ID  Quantity Subtotal Royalty Rate         Royalty  \\\n",
       "0   169-81207300-8095920         1    $6.76        10.0%      $0.54 USD    \n",
       "1   169-49976541-2896161         1    $6.76        10.0%      $0.54 USD    \n",
       "2   169-90893214-5598241         1   $11.18        10.0%      $1.12 USD    \n",
       "3   169-74006166-4120061         1   $11.18        10.0%      $1.12 USD    \n",
       "4   169-58758080-3397052         1   $11.18        10.0%      $1.12 USD    \n",
       "5   169-61178968-9587070         1   $11.18        10.0%      $1.12 USD    \n",
       "6   169-54099369-9337645         1   $11.18        10.0%      $1.12 USD    \n",
       "7   169-08265809-1186820         1   $11.18        10.0%      $1.12 USD    \n",
       "8   169-03838267-3563825         1   $21.55        10.0%      $2.16 USD    \n",
       "9   169-56003445-6055249         1   €20.01        10.0%  €1.60 EUR++ at   \n",
       "10  169-03814505-1489444         3   $20.10        10.0%      $2.07 USD    \n",
       "11  169-03814505-1489444         3    $1.20         5.0%      See Above    \n",
       "12  169-07678231-6056679         1    $6.70        10.0%      $0.69 USD    \n",
       "13  169-07678231-6056679         1    $0.40         5.0%      See Above    \n",
       "14  169-05198520-5009191         3   $73.71        10.0%    $4.74 AUD++    \n",
       "\n",
       "   Royalty (USD)   Status Is Transferred  \n",
       "0          $0.54  pending             No  \n",
       "1          $0.54  pending             No  \n",
       "2          $1.12  pending             No  \n",
       "3          $1.12  pending             No  \n",
       "4          $1.12  pending             No  \n",
       "5          $1.12  pending             No  \n",
       "6          $1.12  pending             No  \n",
       "7          $1.12  pending             No  \n",
       "8          $2.16  pending             No  \n",
       "9        $1.67**  pending             No  \n",
       "10         $2.07  pending             No  \n",
       "11     See Above  pending             No  \n",
       "12         $0.69  pending             No  \n",
       "13     See Above  pending             No  \n",
       "14       $2.99**  pending             No  "
      ]
     },
     "execution_count": 18,
     "metadata": {},
     "output_type": "execute_result"
    }
   ],
   "source": [
    "# Vamos analisar o topo do dataframe após o processamento.\n",
    "df.head(15)"
   ]
  },
  {
   "cell_type": "code",
   "execution_count": 19,
   "id": "2b654bd6",
   "metadata": {},
   "outputs": [
    {
     "data": {
      "text/html": [
       "<div>\n",
       "<style scoped>\n",
       "    .dataframe tbody tr th:only-of-type {\n",
       "        vertical-align: middle;\n",
       "    }\n",
       "\n",
       "    .dataframe tbody tr th {\n",
       "        vertical-align: top;\n",
       "    }\n",
       "\n",
       "    .dataframe thead th {\n",
       "        text-align: right;\n",
       "    }\n",
       "</style>\n",
       "<table border=\"1\" class=\"dataframe\">\n",
       "  <thead>\n",
       "    <tr style=\"text-align: right;\">\n",
       "      <th></th>\n",
       "      <th>Date</th>\n",
       "      <th>Product ID</th>\n",
       "      <th>Product Title</th>\n",
       "      <th>Product Type</th>\n",
       "      <th>Is Customized</th>\n",
       "      <th>Is Canceled</th>\n",
       "      <th>Store</th>\n",
       "      <th>Referred</th>\n",
       "      <th>Shipped To</th>\n",
       "      <th>Order Item ID</th>\n",
       "      <th>Quantity</th>\n",
       "      <th>Subtotal</th>\n",
       "      <th>Royalty Rate</th>\n",
       "      <th>Royalty</th>\n",
       "      <th>Royalty (USD)</th>\n",
       "      <th>Status</th>\n",
       "      <th>Is Transferred</th>\n",
       "    </tr>\n",
       "  </thead>\n",
       "  <tbody>\n",
       "    <tr>\n",
       "      <th>32379</th>\n",
       "      <td>10/5/2012 3:11:06 AM</td>\n",
       "      <td>240-99921669-9837741</td>\n",
       "      <td>Elegante 2</td>\n",
       "      <td>zazzle_profilecard</td>\n",
       "      <td>Yes</td>\n",
       "      <td>No</td>\n",
       "      <td>RicardoArtes</td>\n",
       "      <td>NaN</td>\n",
       "      <td>Germany</td>\n",
       "      <td>169-42732429-6459387</td>\n",
       "      <td>1</td>\n",
       "      <td>€23.90</td>\n",
       "      <td>20.0%+</td>\n",
       "      <td>€4.78 EUR de</td>\n",
       "      <td>$5.99</td>\n",
       "      <td>cleared</td>\n",
       "      <td>Yes</td>\n",
       "    </tr>\n",
       "    <tr>\n",
       "      <th>32380</th>\n",
       "      <td>9/29/2012 7:23:14 AM</td>\n",
       "      <td>240-27050935-7725549</td>\n",
       "      <td>Nouveau graphite</td>\n",
       "      <td>zazzle_profilecard</td>\n",
       "      <td>Yes</td>\n",
       "      <td>No</td>\n",
       "      <td>RicardoArtes</td>\n",
       "      <td>NaN</td>\n",
       "      <td>Germany</td>\n",
       "      <td>169-55460700-1242458</td>\n",
       "      <td>1</td>\n",
       "      <td>€13.70</td>\n",
       "      <td>21.7%+</td>\n",
       "      <td>€2.82 EUR de</td>\n",
       "      <td>$3.53</td>\n",
       "      <td>cleared</td>\n",
       "      <td>Yes</td>\n",
       "    </tr>\n",
       "    <tr>\n",
       "      <th>32381</th>\n",
       "      <td>9/29/2012 7:23:14 AM</td>\n",
       "      <td>240-27050935-7725549</td>\n",
       "      <td>Nouveau graphite</td>\n",
       "      <td>zazzle_profilecard</td>\n",
       "      <td>Yes</td>\n",
       "      <td>No</td>\n",
       "      <td>RicardoArtes</td>\n",
       "      <td>NaN</td>\n",
       "      <td>Germany</td>\n",
       "      <td>169-26723724-9072562</td>\n",
       "      <td>1</td>\n",
       "      <td>€13.70</td>\n",
       "      <td>21.7%+</td>\n",
       "      <td>€2.82 EUR de</td>\n",
       "      <td>$3.53</td>\n",
       "      <td>cleared</td>\n",
       "      <td>Yes</td>\n",
       "    </tr>\n",
       "    <tr>\n",
       "      <th>32382</th>\n",
       "      <td>9/28/2012 9:30:49 AM</td>\n",
       "      <td>240-27050935-7725549</td>\n",
       "      <td>Nouveau graphite</td>\n",
       "      <td>zazzle_profilecard</td>\n",
       "      <td>Yes</td>\n",
       "      <td>No</td>\n",
       "      <td>RicardoArtes</td>\n",
       "      <td>NaN</td>\n",
       "      <td>Germany</td>\n",
       "      <td>169-49495972-3022464</td>\n",
       "      <td>1</td>\n",
       "      <td>€15.85</td>\n",
       "      <td>21.7%+</td>\n",
       "      <td>€3.27 EUR de</td>\n",
       "      <td>$4.09</td>\n",
       "      <td>cleared</td>\n",
       "      <td>Yes</td>\n",
       "    </tr>\n",
       "    <tr>\n",
       "      <th>32383</th>\n",
       "      <td>9/27/2012 11:33:40 PM</td>\n",
       "      <td>240-96436692-6877736</td>\n",
       "      <td>Verde Nouveau</td>\n",
       "      <td>zazzle_profilecard</td>\n",
       "      <td>Yes</td>\n",
       "      <td>No</td>\n",
       "      <td>RicardoArtes</td>\n",
       "      <td>NaN</td>\n",
       "      <td>Germany</td>\n",
       "      <td>169-21093046-5755614</td>\n",
       "      <td>1</td>\n",
       "      <td>€15.85</td>\n",
       "      <td>21.7%+</td>\n",
       "      <td>€3.27 EUR de</td>\n",
       "      <td>$4.09</td>\n",
       "      <td>cleared</td>\n",
       "      <td>Yes</td>\n",
       "    </tr>\n",
       "    <tr>\n",
       "      <th>32384</th>\n",
       "      <td>9/12/2012 6:00:45 PM</td>\n",
       "      <td>240-27050935-7725549</td>\n",
       "      <td>Nouveau graphite</td>\n",
       "      <td>zazzle_profilecard</td>\n",
       "      <td>Yes</td>\n",
       "      <td>No</td>\n",
       "      <td>RicardoArtes</td>\n",
       "      <td>NaN</td>\n",
       "      <td>Germany</td>\n",
       "      <td>169-03228966-4552669</td>\n",
       "      <td>1</td>\n",
       "      <td>€15.85</td>\n",
       "      <td>21.7%+</td>\n",
       "      <td>€3.27 EUR de</td>\n",
       "      <td>$4.09</td>\n",
       "      <td>cleared</td>\n",
       "      <td>Yes</td>\n",
       "    </tr>\n",
       "    <tr>\n",
       "      <th>32385</th>\n",
       "      <td>9/7/2012 8:39:04 PM</td>\n",
       "      <td>240-99921669-9837741</td>\n",
       "      <td>Elegante 2</td>\n",
       "      <td>zazzle_profilecard</td>\n",
       "      <td>Yes</td>\n",
       "      <td>No</td>\n",
       "      <td>RicardoArtes</td>\n",
       "      <td>NaN</td>\n",
       "      <td>United States</td>\n",
       "      <td>169-82393615-4974728</td>\n",
       "      <td>1</td>\n",
       "      <td>$21.35</td>\n",
       "      <td>20.0%+</td>\n",
       "      <td>$4.27 USD</td>\n",
       "      <td>$4.27</td>\n",
       "      <td>cleared</td>\n",
       "      <td>Yes</td>\n",
       "    </tr>\n",
       "    <tr>\n",
       "      <th>32386</th>\n",
       "      <td>8/21/2012 3:38:54 PM</td>\n",
       "      <td>240-27050935-7725549</td>\n",
       "      <td>Nouveau graphite</td>\n",
       "      <td>zazzle_profilecard</td>\n",
       "      <td>Yes</td>\n",
       "      <td>No</td>\n",
       "      <td>RicardoArtes</td>\n",
       "      <td>NaN</td>\n",
       "      <td>Switzerland</td>\n",
       "      <td>169-29930272-7692397</td>\n",
       "      <td>1</td>\n",
       "      <td>€15.85</td>\n",
       "      <td>21.7%+</td>\n",
       "      <td>€3.27 EUR de</td>\n",
       "      <td>$4.09</td>\n",
       "      <td>cleared</td>\n",
       "      <td>Yes</td>\n",
       "    </tr>\n",
       "    <tr>\n",
       "      <th>32387</th>\n",
       "      <td>7/20/2012 8:29:12 AM</td>\n",
       "      <td>240-27050935-7725549</td>\n",
       "      <td>Nouveau graphite</td>\n",
       "      <td>zazzle_profilecard</td>\n",
       "      <td>Yes</td>\n",
       "      <td>No</td>\n",
       "      <td>RicardoArtes</td>\n",
       "      <td>3rd Party</td>\n",
       "      <td>United States</td>\n",
       "      <td>169-85679716-9837316</td>\n",
       "      <td>1</td>\n",
       "      <td>$19.50</td>\n",
       "      <td>21.7%+</td>\n",
       "      <td>$3.17 USD</td>\n",
       "      <td>$3.17</td>\n",
       "      <td>cleared</td>\n",
       "      <td>Yes</td>\n",
       "    </tr>\n",
       "    <tr>\n",
       "      <th>32388</th>\n",
       "      <td>6/21/2012 9:51:00 AM</td>\n",
       "      <td>240-48013704-5084466</td>\n",
       "      <td>Grécia Contemporânea</td>\n",
       "      <td>zazzle_profilecard</td>\n",
       "      <td>Yes</td>\n",
       "      <td>Yes</td>\n",
       "      <td>RicardoArtes</td>\n",
       "      <td>NaN</td>\n",
       "      <td>United States</td>\n",
       "      <td>169-26501880-2522478</td>\n",
       "      <td>1</td>\n",
       "      <td>$5.37</td>\n",
       "      <td>25.0%+</td>\n",
       "      <td>$1.27 USD</td>\n",
       "      <td>$1.27</td>\n",
       "      <td>cleared</td>\n",
       "      <td>No</td>\n",
       "    </tr>\n",
       "    <tr>\n",
       "      <th>32389</th>\n",
       "      <td>6/21/2012 9:51:00 AM</td>\n",
       "      <td>240-36297848-8052705</td>\n",
       "      <td>Cartão Elegante</td>\n",
       "      <td>zazzle_profilecard</td>\n",
       "      <td>Yes</td>\n",
       "      <td>Yes</td>\n",
       "      <td>RicardoArtes</td>\n",
       "      <td>NaN</td>\n",
       "      <td>United States</td>\n",
       "      <td>169-02825211-9211579</td>\n",
       "      <td>1</td>\n",
       "      <td>$14.62</td>\n",
       "      <td>20.0%+</td>\n",
       "      <td>$2.92 USD</td>\n",
       "      <td>$2.92</td>\n",
       "      <td>cleared</td>\n",
       "      <td>No</td>\n",
       "    </tr>\n",
       "    <tr>\n",
       "      <th>32390</th>\n",
       "      <td>3/23/2012 5:13:30 PM</td>\n",
       "      <td>240-48013704-5084466</td>\n",
       "      <td>Grécia Contemporânea</td>\n",
       "      <td>zazzle_profilecard</td>\n",
       "      <td>Yes</td>\n",
       "      <td>Yes</td>\n",
       "      <td>RicardoArtes</td>\n",
       "      <td>NaN</td>\n",
       "      <td>Switzerland</td>\n",
       "      <td>169-07935009-6598567</td>\n",
       "      <td>5</td>\n",
       "      <td>CHF51.55</td>\n",
       "      <td>25.0%+</td>\n",
       "      <td>CHF12.25 CHF</td>\n",
       "      <td>$12.53</td>\n",
       "      <td>cleared</td>\n",
       "      <td>No</td>\n",
       "    </tr>\n",
       "    <tr>\n",
       "      <th>32391</th>\n",
       "      <td>1/25/2012 1:32:32 PM</td>\n",
       "      <td>239-89217540-7970094</td>\n",
       "      <td>Aparecida do Norte</td>\n",
       "      <td>zazzle_postcard</td>\n",
       "      <td>Yes</td>\n",
       "      <td>No</td>\n",
       "      <td>RicardoArtes</td>\n",
       "      <td>NaN</td>\n",
       "      <td>Brazil</td>\n",
       "      <td>169-89467669-9328923</td>\n",
       "      <td>2</td>\n",
       "      <td>R$4.80</td>\n",
       "      <td>20.0%+</td>\n",
       "      <td>R$0.96 BRL</td>\n",
       "      <td>$0.45</td>\n",
       "      <td>cleared</td>\n",
       "      <td>Yes</td>\n",
       "    </tr>\n",
       "    <tr>\n",
       "      <th>32392</th>\n",
       "      <td>12/14/2011 4:51:41 AM</td>\n",
       "      <td>149-99118322-0835239</td>\n",
       "      <td>Nossa Senhora da Conceição Aparecida</td>\n",
       "      <td>zazzle_bag</td>\n",
       "      <td>Yes</td>\n",
       "      <td>No</td>\n",
       "      <td>RicardoArtes</td>\n",
       "      <td>NaN</td>\n",
       "      <td>Brazil</td>\n",
       "      <td>169-81662931-4781555</td>\n",
       "      <td>1</td>\n",
       "      <td>R$26.25</td>\n",
       "      <td>10.0%</td>\n",
       "      <td>R$2.63 BRL</td>\n",
       "      <td>$1.24</td>\n",
       "      <td>cleared</td>\n",
       "      <td>No</td>\n",
       "    </tr>\n",
       "    <tr>\n",
       "      <th>32393</th>\n",
       "      <td>12/10/2011 4:48:28 PM</td>\n",
       "      <td>239-89217540-7970094</td>\n",
       "      <td>Aparecida do Norte</td>\n",
       "      <td>zazzle_postcard</td>\n",
       "      <td>Yes</td>\n",
       "      <td>No</td>\n",
       "      <td>RicardoArtes</td>\n",
       "      <td>NaN</td>\n",
       "      <td>Brazil</td>\n",
       "      <td>169-07034355-9170295</td>\n",
       "      <td>2</td>\n",
       "      <td>R$4.80</td>\n",
       "      <td>20.0%+</td>\n",
       "      <td>R$0.96 BRL</td>\n",
       "      <td>$0.45</td>\n",
       "      <td>cleared</td>\n",
       "      <td>Yes</td>\n",
       "    </tr>\n",
       "  </tbody>\n",
       "</table>\n",
       "</div>"
      ],
      "text/plain": [
       "                        Date            Product ID  \\\n",
       "32379   10/5/2012 3:11:06 AM  240-99921669-9837741   \n",
       "32380   9/29/2012 7:23:14 AM  240-27050935-7725549   \n",
       "32381   9/29/2012 7:23:14 AM  240-27050935-7725549   \n",
       "32382   9/28/2012 9:30:49 AM  240-27050935-7725549   \n",
       "32383  9/27/2012 11:33:40 PM  240-96436692-6877736   \n",
       "32384   9/12/2012 6:00:45 PM  240-27050935-7725549   \n",
       "32385    9/7/2012 8:39:04 PM  240-99921669-9837741   \n",
       "32386   8/21/2012 3:38:54 PM  240-27050935-7725549   \n",
       "32387   7/20/2012 8:29:12 AM  240-27050935-7725549   \n",
       "32388   6/21/2012 9:51:00 AM  240-48013704-5084466   \n",
       "32389   6/21/2012 9:51:00 AM  240-36297848-8052705   \n",
       "32390   3/23/2012 5:13:30 PM  240-48013704-5084466   \n",
       "32391   1/25/2012 1:32:32 PM  239-89217540-7970094   \n",
       "32392  12/14/2011 4:51:41 AM  149-99118322-0835239   \n",
       "32393  12/10/2011 4:48:28 PM  239-89217540-7970094   \n",
       "\n",
       "                              Product Title        Product Type Is Customized  \\\n",
       "32379                            Elegante 2  zazzle_profilecard           Yes   \n",
       "32380                      Nouveau graphite  zazzle_profilecard           Yes   \n",
       "32381                      Nouveau graphite  zazzle_profilecard           Yes   \n",
       "32382                      Nouveau graphite  zazzle_profilecard           Yes   \n",
       "32383                         Verde Nouveau  zazzle_profilecard           Yes   \n",
       "32384                      Nouveau graphite  zazzle_profilecard           Yes   \n",
       "32385                            Elegante 2  zazzle_profilecard           Yes   \n",
       "32386                      Nouveau graphite  zazzle_profilecard           Yes   \n",
       "32387                      Nouveau graphite  zazzle_profilecard           Yes   \n",
       "32388                  Grécia Contemporânea  zazzle_profilecard           Yes   \n",
       "32389                       Cartão Elegante  zazzle_profilecard           Yes   \n",
       "32390                  Grécia Contemporânea  zazzle_profilecard           Yes   \n",
       "32391                    Aparecida do Norte     zazzle_postcard           Yes   \n",
       "32392  Nossa Senhora da Conceição Aparecida          zazzle_bag           Yes   \n",
       "32393                    Aparecida do Norte     zazzle_postcard           Yes   \n",
       "\n",
       "      Is Canceled         Store   Referred     Shipped To  \\\n",
       "32379          No  RicardoArtes        NaN        Germany   \n",
       "32380          No  RicardoArtes        NaN        Germany   \n",
       "32381          No  RicardoArtes        NaN        Germany   \n",
       "32382          No  RicardoArtes        NaN        Germany   \n",
       "32383          No  RicardoArtes        NaN        Germany   \n",
       "32384          No  RicardoArtes        NaN        Germany   \n",
       "32385          No  RicardoArtes        NaN  United States   \n",
       "32386          No  RicardoArtes        NaN    Switzerland   \n",
       "32387          No  RicardoArtes  3rd Party  United States   \n",
       "32388         Yes  RicardoArtes        NaN  United States   \n",
       "32389         Yes  RicardoArtes        NaN  United States   \n",
       "32390         Yes  RicardoArtes        NaN    Switzerland   \n",
       "32391          No  RicardoArtes        NaN         Brazil   \n",
       "32392          No  RicardoArtes        NaN         Brazil   \n",
       "32393          No  RicardoArtes        NaN         Brazil   \n",
       "\n",
       "              Order Item ID  Quantity  Subtotal Royalty Rate        Royalty  \\\n",
       "32379  169-42732429-6459387         1    €23.90       20.0%+   €4.78 EUR de   \n",
       "32380  169-55460700-1242458         1    €13.70       21.7%+   €2.82 EUR de   \n",
       "32381  169-26723724-9072562         1    €13.70       21.7%+   €2.82 EUR de   \n",
       "32382  169-49495972-3022464         1    €15.85       21.7%+   €3.27 EUR de   \n",
       "32383  169-21093046-5755614         1    €15.85       21.7%+   €3.27 EUR de   \n",
       "32384  169-03228966-4552669         1    €15.85       21.7%+   €3.27 EUR de   \n",
       "32385  169-82393615-4974728         1    $21.35       20.0%+     $4.27 USD    \n",
       "32386  169-29930272-7692397         1    €15.85       21.7%+   €3.27 EUR de   \n",
       "32387  169-85679716-9837316         1    $19.50       21.7%+     $3.17 USD    \n",
       "32388  169-26501880-2522478         1     $5.37       25.0%+     $1.27 USD    \n",
       "32389  169-02825211-9211579         1    $14.62       20.0%+     $2.92 USD    \n",
       "32390  169-07935009-6598567         5  CHF51.55       25.0%+  CHF12.25 CHF    \n",
       "32391  169-89467669-9328923         2    R$4.80       20.0%+    R$0.96 BRL    \n",
       "32392  169-81662931-4781555         1   R$26.25        10.0%    R$2.63 BRL    \n",
       "32393  169-07034355-9170295         2    R$4.80       20.0%+    R$0.96 BRL    \n",
       "\n",
       "      Royalty (USD)   Status Is Transferred  \n",
       "32379         $5.99  cleared            Yes  \n",
       "32380         $3.53  cleared            Yes  \n",
       "32381         $3.53  cleared            Yes  \n",
       "32382         $4.09  cleared            Yes  \n",
       "32383         $4.09  cleared            Yes  \n",
       "32384         $4.09  cleared            Yes  \n",
       "32385         $4.27  cleared            Yes  \n",
       "32386         $4.09  cleared            Yes  \n",
       "32387         $3.17  cleared            Yes  \n",
       "32388         $1.27  cleared             No  \n",
       "32389         $2.92  cleared             No  \n",
       "32390        $12.53  cleared             No  \n",
       "32391         $0.45  cleared            Yes  \n",
       "32392         $1.24  cleared             No  \n",
       "32393         $0.45  cleared            Yes  "
      ]
     },
     "execution_count": 19,
     "metadata": {},
     "output_type": "execute_result"
    }
   ],
   "source": [
    "# Vamos analisar o final do dataframe.\n",
    "df.tail(15)"
   ]
  },
  {
   "cell_type": "code",
   "execution_count": null,
   "id": "2dbab052",
   "metadata": {},
   "outputs": [],
   "source": [
    "# Vamos fazer o tratamento do restante dos dados. Com informações que tenho até aqui os dados\n",
    "# em sua grande maioria foram tratados.\n",
    "# Vamos automatizar a verificação do restante dos dados para constatar o estado atual:\n",
    "# Eu desejo preliminarmente obter uma lista de países que ocorrem nos meus dados\n",
    "# e a quantidade de linhas com erros."
   ]
  },
  {
   "cell_type": "code",
   "execution_count": 20,
   "id": "f038dae1",
   "metadata": {},
   "outputs": [
    {
     "name": "stdout",
     "output_type": "stream",
     "text": [
      "Quantidade de países diferentes e válidos encontrados: 47\n",
      "Quantidade de linhas com erros: 155\n",
      "Linhas que apresentam erro: [69, 108, 439, 773, 1033, 1322, 1591, 1760, 3119, 4088, 5207, 5208, 5209, 5210, 7763, 7802, 8515, 8729, 9219, 9567, 9568, 9569, 9570, 9571, 9572, 9573, 9579, 10444, 10573, 10698, 10785, 10904, 10905, 11080, 11285, 12089, 12182, 12848, 13084, 14275, 14446, 14447, 14449, 14693, 14958, 15140, 15169, 15324, 15496, 15566, 15568, 15569, 15597, 15769, 15770, 16418, 16958, 17132, 17327, 17328, 17553, 18573, 18885, 20154, 20262, 21467, 21923, 22264, 23018, 23100, 23259, 23260, 23261, 23262, 23263, 23264, 23265, 23266, 23267, 23856, 24022, 24069, 24593, 24623, 24670, 24824, 24825, 24826, 24827, 24828, 24829, 24830, 24831, 24832, 24833, 24834, 24835, 24836, 24837, 24838, 24839, 24840, 24841, 24842, 25518, 25743, 26021, 26022, 26023, 26024, 26216, 26217, 26959, 27584, 27585, 27586, 27587, 27588, 27589, 27590, 27591, 27592, 27593, 27594, 27595, 27596, 27597, 28025, 28118, 28127, 29714, 29911, 29912, 30272, 30377, 30467, 30488, 30611, 30640, 30684, 30726, 30745, 30746, 30858, 30958, 30961, 30987, 31094, 31614, 31615, 31634, 31709, 31970, 32225, 32261]\n",
      " Países válidos econtrados no DataFrame:\n",
      "['Argentina', 'Australia', 'Austria', 'Belgium', 'Brazil', 'Canada', 'Chile', 'Colombia', 'Croatia', 'Denmark', 'Egypt', 'Finland', 'France', 'Germany', 'Greece', 'Hungary', 'Ireland', 'Israel', 'Italy', 'Japan', 'Jordan', 'Kenya', 'Kuwait', 'Liechtenstein', 'Lithuania', 'Luxembourg', 'Malaysia', 'Mali', 'Mexico', 'Monaco', 'Morocco', 'Netherlands', 'New Zealand', 'Norway', 'Peru', 'Philippines', 'Portugal', 'Qatar', 'Singapore', 'Slovenia', 'Spain', 'Sweden', 'Switzerland', 'Taiwan', 'United Arab Emirates', 'United Kingdom', 'United States']\n"
     ]
    }
   ],
   "source": [
    "# Verificar o dataframe para checar quais linhas ainda apresentam erro.\n",
    "# E verificar de vale a pena tratá-las.\n",
    "\n",
    "# Armazena países válidos localizados.\n",
    "paises_encontrados = set()\n",
    "# Armazena as linhas que apresentam erros.\n",
    "linhas_erro = []\n",
    "\n",
    "for index, row in df.iterrows():\n",
    "    pais = row['Shipped To']\n",
    "    if pais in paises_validos:\n",
    "        paises_encontrados.add(pais)\n",
    "    else:\n",
    "        linhas_erro.append(index)\n",
    "\n",
    "# Numero de países válidos encontrados.\n",
    "quantidade_paises_validos = len(paises_encontrados)\n",
    "quantidade_linhas_erro = len(linhas_erro)\n",
    "\n",
    "# Exibir resultados\n",
    "print(\"Quantidade de países diferentes e válidos encontrados:\", quantidade_paises_validos)\n",
    "print(\"Quantidade de linhas com erros:\", quantidade_linhas_erro)\n",
    "print(\"Linhas que apresentam erro:\", linhas_erro)\n",
    "\n",
    "# Exibir lista com países válidos encontrados no dataframe.\n",
    "print(\" Países válidos econtrados no DataFrame:\")\n",
    "print(sorted(paises_encontrados))"
   ]
  },
  {
   "cell_type": "code",
   "execution_count": 21,
   "id": "a946d500",
   "metadata": {},
   "outputs": [
    {
     "data": {
      "text/plain": [
       "(32394, 17)"
      ]
     },
     "execution_count": 21,
     "metadata": {},
     "output_type": "execute_result"
    }
   ],
   "source": [
    "# Constatamos acima que possuímos uma lista de 47 países diferentes nos nossos dados.\n",
    "# Constamos também que há um total de 155 linhas com erros.\n",
    "# Vamos analizar se o custo de tratamento destas linhas restantes é viável.\n",
    "\n",
    "# Informaçẽos sobre o dataframe.\n",
    "df.shape"
   ]
  },
  {
   "cell_type": "code",
   "execution_count": null,
   "id": "6e7e4d8c",
   "metadata": {},
   "outputs": [],
   "source": [
    "# Nossos dados apresentam um total de 32394 registros \n",
    "# Porcentagem=(155/32394)×100\n",
    "# Logo :\n",
    "# 0.478\n",
    "# Então, 155 é aproximadamente 0.478% de 32.394 o que não representa\n",
    "# um valor significativo para o total de registros.\n",
    "# Logo, com o consentimento do gestor tomei a iniciativa de descartar esses dados da análise."
   ]
  },
  {
   "cell_type": "code",
   "execution_count": 22,
   "id": "60a29eae",
   "metadata": {},
   "outputs": [],
   "source": [
    "# Processo de eliminação das linhas com erro:\n",
    "# Vamos aproveitar aquela lista de linhas que apresentaram defeito.\n",
    "\n",
    "indices_remocao = [69, 108, 439, 773, 1033, 1322, 1591, 1760, 3119, 4088, 5207, 5208, 5209, 5210, 7763, 7802, 8515, 8729, 9219, 9567, 9568, 9569, 9570, 9571, 9572, 9573, 9579, 10444, 10573, 10698, 10785, 10904, 10905, 11080, 11285, 12089, 12182, 12848, 13084, 14275, 14446, 14447, 14449, 14693, 14958, 15140, 15169, 15324, 15496, 15566, 15568, 15569, 15597, 15769, 15770, 16418, 16958, 17132, 17327, 17328, 17553, 18573, 18885, 20154, 20262, 21467, 21923, 22264, 23018, 23100, 23259, 23260, 23261, 23262, 23263, 23264, 23265, 23266, 23267, 23856, 24022, 24069, 24593, 24623, 24670, 24824, 24825, 24826, 24827, 24828, 24829, 24830, 24831, 24832, 24833, 24834, 24835, 24836, 24837, 24838, 24839, 24840, 24841, 24842, 25518, 25743, 26021, 26022, 26023, 26024, 26216, 26217, 26959, 27584, 27585, 27586, 27587, 27588, 27589, 27590, 27591, 27592, 27593, 27594, 27595, 27596, 27597, 28025, 28118, 28127, 29714, 29911, 29912, 30272, 30377, 30467, 30488, 30611, 30640, 30684, 30726, 30745, 30746, 30858, 30958, 30961, 30987, 31094, 31614, 31615, 31634, 31709, 31970, 32225, 32261]\n",
    "\n",
    "# Remover as linhas indesejadas do dataframe e armazenar em um novo.\n",
    "df_limpo = df.drop(indices_remocao, errors='ignore')"
   ]
  },
  {
   "cell_type": "code",
   "execution_count": null,
   "id": "35183eb6",
   "metadata": {},
   "outputs": [],
   "source": [
    "# Vamos comparar os dados antes e após a remoção:"
   ]
  },
  {
   "cell_type": "code",
   "execution_count": 23,
   "id": "ce3eb388",
   "metadata": {},
   "outputs": [
    {
     "data": {
      "text/plain": [
       "(32394, 17)"
      ]
     },
     "execution_count": 23,
     "metadata": {},
     "output_type": "execute_result"
    }
   ],
   "source": [
    "# Antes da remoção:\n",
    "df.shape"
   ]
  },
  {
   "cell_type": "code",
   "execution_count": 24,
   "id": "0ba3de8d",
   "metadata": {},
   "outputs": [
    {
     "data": {
      "text/plain": [
       "(32239, 17)"
      ]
     },
     "execution_count": 24,
     "metadata": {},
     "output_type": "execute_result"
    }
   ],
   "source": [
    "# Após a remocação:\n",
    "df_limpo.shape"
   ]
  },
  {
   "cell_type": "code",
   "execution_count": null,
   "id": "7ba9fcc9",
   "metadata": {},
   "outputs": [],
   "source": [
    "# Logo\n",
    "# 32394 - 32239 = 155\n",
    "# As 155 linhas com erros foram descartadas."
   ]
  },
  {
   "cell_type": "code",
   "execution_count": 25,
   "id": "f2d16ea7",
   "metadata": {},
   "outputs": [],
   "source": [
    "# Vamos armazenar o novo dataframe em um arquivo diferente para trabalhar com ele mais a frente:\n",
    "df_limpo.to_csv(\"DadosZazzleComTratamento.csv\")"
   ]
  },
  {
   "cell_type": "code",
   "execution_count": 26,
   "id": "24fa83f0",
   "metadata": {},
   "outputs": [],
   "source": [
    "# Vamos capturar os dados do novo arquivo para um dataframe.\n",
    "df = pd.read_csv(\"DadosZazzleComTratamento.csv\")"
   ]
  },
  {
   "cell_type": "code",
   "execution_count": 27,
   "id": "c9d311b0",
   "metadata": {},
   "outputs": [
    {
     "data": {
      "text/plain": [
       "(32239, 18)"
      ]
     },
     "execution_count": 27,
     "metadata": {},
     "output_type": "execute_result"
    }
   ],
   "source": [
    "# Vamos visulizar as linhas deste dataframe.\n",
    "df.shape"
   ]
  },
  {
   "cell_type": "code",
   "execution_count": 37,
   "id": "cc5e138d",
   "metadata": {},
   "outputs": [
    {
     "name": "stdout",
     "output_type": "stream",
     "text": [
      "Collecting plotly==5.24.1\n",
      "  Using cached plotly-5.24.1-py3-none-any.whl.metadata (7.3 kB)\n",
      "Collecting tenacity>=6.2.0 (from plotly==5.24.1)\n",
      "  Using cached tenacity-9.0.0-py3-none-any.whl.metadata (1.2 kB)\n",
      "Requirement already satisfied: packaging in /home/leonardo/Jupyter/ambientes/padrao/lib/python3.11/site-packages (from plotly==5.24.1) (24.1)\n",
      "Using cached plotly-5.24.1-py3-none-any.whl (19.1 MB)\n",
      "Using cached tenacity-9.0.0-py3-none-any.whl (28 kB)\n",
      "Installing collected packages: tenacity, plotly\n",
      "Successfully installed plotly-5.24.1 tenacity-9.0.0\n",
      "Note: you may need to restart the kernel to use updated packages.\n"
     ]
    }
   ],
   "source": [
    "pip install plotly==5.24.1 # Biblioteca para gerar gráficos."
   ]
  },
  {
   "cell_type": "code",
   "execution_count": 85,
   "id": "d988c014",
   "metadata": {
    "scrolled": true
   },
   "outputs": [
    {
     "data": {
      "application/vnd.plotly.v1+json": {
       "config": {
        "plotlyServerURL": "https://plot.ly"
       },
       "data": [
        {
         "coloraxis": "coloraxis",
         "geo": "geo",
         "hovertemplate": "Pais=%{location}<br>Pedidos=%{z}<extra></extra>",
         "locationmode": "country names",
         "locations": [
          "United States",
          "Australia",
          "Germany",
          "Canada",
          "Japan",
          "United Kingdom",
          "Netherlands",
          "France",
          "Belgium",
          "Switzerland",
          "Spain",
          "Austria",
          "Sweden",
          "Brazil",
          "New Zealand",
          "Portugal",
          "Italy",
          "Singapore",
          "Ireland",
          "Luxembourg",
          "Norway",
          "Mexico",
          "Hungary",
          "United Arab Emirates",
          "Peru",
          "Israel",
          "Greece",
          "Malaysia",
          "Monaco",
          "Croatia",
          "Argentina",
          "Slovenia",
          "Chile",
          "Liechtenstein",
          "Morocco",
          "Jordan",
          "Taiwan",
          "Qatar",
          "Kuwait",
          "Finland",
          "Colombia",
          "Lithuania",
          "Mali",
          "Denmark",
          "Egypt",
          "Philippines",
          "Kenya"
         ],
         "name": "",
         "type": "choropleth",
         "z": [
          23692,
          1624,
          1368,
          1044,
          1010,
          770,
          548,
          492,
          475,
          302,
          258,
          177,
          131,
          111,
          79,
          25,
          25,
          20,
          16,
          10,
          7,
          7,
          5,
          5,
          3,
          3,
          3,
          3,
          2,
          2,
          2,
          2,
          2,
          2,
          2,
          1,
          1,
          1,
          1,
          1,
          1,
          1,
          1,
          1,
          1,
          1,
          1
         ]
        }
       ],
       "layout": {
        "coloraxis": {
         "colorbar": {
          "title": {
           "text": "Pedidos"
          }
         },
         "colorscale": [
          [
           0,
           "rgb(150,0,90)"
          ],
          [
           0.125,
           "rgb(0,0,200)"
          ],
          [
           0.25,
           "rgb(0,25,255)"
          ],
          [
           0.375,
           "rgb(0,152,255)"
          ],
          [
           0.5,
           "rgb(44,255,150)"
          ],
          [
           0.625,
           "rgb(151,255,0)"
          ],
          [
           0.75,
           "rgb(255,234,0)"
          ],
          [
           0.875,
           "rgb(255,111,0)"
          ],
          [
           1,
           "rgb(255,0,0)"
          ]
         ]
        },
        "geo": {
         "center": {},
         "domain": {
          "x": [
           0,
           1
          ],
          "y": [
           0,
           1
          ]
         }
        },
        "legend": {
         "tracegroupgap": 0
        },
        "template": {
         "data": {
          "bar": [
           {
            "error_x": {
             "color": "#2a3f5f"
            },
            "error_y": {
             "color": "#2a3f5f"
            },
            "marker": {
             "line": {
              "color": "#E5ECF6",
              "width": 0.5
             },
             "pattern": {
              "fillmode": "overlay",
              "size": 10,
              "solidity": 0.2
             }
            },
            "type": "bar"
           }
          ],
          "barpolar": [
           {
            "marker": {
             "line": {
              "color": "#E5ECF6",
              "width": 0.5
             },
             "pattern": {
              "fillmode": "overlay",
              "size": 10,
              "solidity": 0.2
             }
            },
            "type": "barpolar"
           }
          ],
          "carpet": [
           {
            "aaxis": {
             "endlinecolor": "#2a3f5f",
             "gridcolor": "white",
             "linecolor": "white",
             "minorgridcolor": "white",
             "startlinecolor": "#2a3f5f"
            },
            "baxis": {
             "endlinecolor": "#2a3f5f",
             "gridcolor": "white",
             "linecolor": "white",
             "minorgridcolor": "white",
             "startlinecolor": "#2a3f5f"
            },
            "type": "carpet"
           }
          ],
          "choropleth": [
           {
            "colorbar": {
             "outlinewidth": 0,
             "ticks": ""
            },
            "type": "choropleth"
           }
          ],
          "contour": [
           {
            "colorbar": {
             "outlinewidth": 0,
             "ticks": ""
            },
            "colorscale": [
             [
              0,
              "#0d0887"
             ],
             [
              0.1111111111111111,
              "#46039f"
             ],
             [
              0.2222222222222222,
              "#7201a8"
             ],
             [
              0.3333333333333333,
              "#9c179e"
             ],
             [
              0.4444444444444444,
              "#bd3786"
             ],
             [
              0.5555555555555556,
              "#d8576b"
             ],
             [
              0.6666666666666666,
              "#ed7953"
             ],
             [
              0.7777777777777778,
              "#fb9f3a"
             ],
             [
              0.8888888888888888,
              "#fdca26"
             ],
             [
              1,
              "#f0f921"
             ]
            ],
            "type": "contour"
           }
          ],
          "contourcarpet": [
           {
            "colorbar": {
             "outlinewidth": 0,
             "ticks": ""
            },
            "type": "contourcarpet"
           }
          ],
          "heatmap": [
           {
            "colorbar": {
             "outlinewidth": 0,
             "ticks": ""
            },
            "colorscale": [
             [
              0,
              "#0d0887"
             ],
             [
              0.1111111111111111,
              "#46039f"
             ],
             [
              0.2222222222222222,
              "#7201a8"
             ],
             [
              0.3333333333333333,
              "#9c179e"
             ],
             [
              0.4444444444444444,
              "#bd3786"
             ],
             [
              0.5555555555555556,
              "#d8576b"
             ],
             [
              0.6666666666666666,
              "#ed7953"
             ],
             [
              0.7777777777777778,
              "#fb9f3a"
             ],
             [
              0.8888888888888888,
              "#fdca26"
             ],
             [
              1,
              "#f0f921"
             ]
            ],
            "type": "heatmap"
           }
          ],
          "heatmapgl": [
           {
            "colorbar": {
             "outlinewidth": 0,
             "ticks": ""
            },
            "colorscale": [
             [
              0,
              "#0d0887"
             ],
             [
              0.1111111111111111,
              "#46039f"
             ],
             [
              0.2222222222222222,
              "#7201a8"
             ],
             [
              0.3333333333333333,
              "#9c179e"
             ],
             [
              0.4444444444444444,
              "#bd3786"
             ],
             [
              0.5555555555555556,
              "#d8576b"
             ],
             [
              0.6666666666666666,
              "#ed7953"
             ],
             [
              0.7777777777777778,
              "#fb9f3a"
             ],
             [
              0.8888888888888888,
              "#fdca26"
             ],
             [
              1,
              "#f0f921"
             ]
            ],
            "type": "heatmapgl"
           }
          ],
          "histogram": [
           {
            "marker": {
             "pattern": {
              "fillmode": "overlay",
              "size": 10,
              "solidity": 0.2
             }
            },
            "type": "histogram"
           }
          ],
          "histogram2d": [
           {
            "colorbar": {
             "outlinewidth": 0,
             "ticks": ""
            },
            "colorscale": [
             [
              0,
              "#0d0887"
             ],
             [
              0.1111111111111111,
              "#46039f"
             ],
             [
              0.2222222222222222,
              "#7201a8"
             ],
             [
              0.3333333333333333,
              "#9c179e"
             ],
             [
              0.4444444444444444,
              "#bd3786"
             ],
             [
              0.5555555555555556,
              "#d8576b"
             ],
             [
              0.6666666666666666,
              "#ed7953"
             ],
             [
              0.7777777777777778,
              "#fb9f3a"
             ],
             [
              0.8888888888888888,
              "#fdca26"
             ],
             [
              1,
              "#f0f921"
             ]
            ],
            "type": "histogram2d"
           }
          ],
          "histogram2dcontour": [
           {
            "colorbar": {
             "outlinewidth": 0,
             "ticks": ""
            },
            "colorscale": [
             [
              0,
              "#0d0887"
             ],
             [
              0.1111111111111111,
              "#46039f"
             ],
             [
              0.2222222222222222,
              "#7201a8"
             ],
             [
              0.3333333333333333,
              "#9c179e"
             ],
             [
              0.4444444444444444,
              "#bd3786"
             ],
             [
              0.5555555555555556,
              "#d8576b"
             ],
             [
              0.6666666666666666,
              "#ed7953"
             ],
             [
              0.7777777777777778,
              "#fb9f3a"
             ],
             [
              0.8888888888888888,
              "#fdca26"
             ],
             [
              1,
              "#f0f921"
             ]
            ],
            "type": "histogram2dcontour"
           }
          ],
          "mesh3d": [
           {
            "colorbar": {
             "outlinewidth": 0,
             "ticks": ""
            },
            "type": "mesh3d"
           }
          ],
          "parcoords": [
           {
            "line": {
             "colorbar": {
              "outlinewidth": 0,
              "ticks": ""
             }
            },
            "type": "parcoords"
           }
          ],
          "pie": [
           {
            "automargin": true,
            "type": "pie"
           }
          ],
          "scatter": [
           {
            "fillpattern": {
             "fillmode": "overlay",
             "size": 10,
             "solidity": 0.2
            },
            "type": "scatter"
           }
          ],
          "scatter3d": [
           {
            "line": {
             "colorbar": {
              "outlinewidth": 0,
              "ticks": ""
             }
            },
            "marker": {
             "colorbar": {
              "outlinewidth": 0,
              "ticks": ""
             }
            },
            "type": "scatter3d"
           }
          ],
          "scattercarpet": [
           {
            "marker": {
             "colorbar": {
              "outlinewidth": 0,
              "ticks": ""
             }
            },
            "type": "scattercarpet"
           }
          ],
          "scattergeo": [
           {
            "marker": {
             "colorbar": {
              "outlinewidth": 0,
              "ticks": ""
             }
            },
            "type": "scattergeo"
           }
          ],
          "scattergl": [
           {
            "marker": {
             "colorbar": {
              "outlinewidth": 0,
              "ticks": ""
             }
            },
            "type": "scattergl"
           }
          ],
          "scattermapbox": [
           {
            "marker": {
             "colorbar": {
              "outlinewidth": 0,
              "ticks": ""
             }
            },
            "type": "scattermapbox"
           }
          ],
          "scatterpolar": [
           {
            "marker": {
             "colorbar": {
              "outlinewidth": 0,
              "ticks": ""
             }
            },
            "type": "scatterpolar"
           }
          ],
          "scatterpolargl": [
           {
            "marker": {
             "colorbar": {
              "outlinewidth": 0,
              "ticks": ""
             }
            },
            "type": "scatterpolargl"
           }
          ],
          "scatterternary": [
           {
            "marker": {
             "colorbar": {
              "outlinewidth": 0,
              "ticks": ""
             }
            },
            "type": "scatterternary"
           }
          ],
          "surface": [
           {
            "colorbar": {
             "outlinewidth": 0,
             "ticks": ""
            },
            "colorscale": [
             [
              0,
              "#0d0887"
             ],
             [
              0.1111111111111111,
              "#46039f"
             ],
             [
              0.2222222222222222,
              "#7201a8"
             ],
             [
              0.3333333333333333,
              "#9c179e"
             ],
             [
              0.4444444444444444,
              "#bd3786"
             ],
             [
              0.5555555555555556,
              "#d8576b"
             ],
             [
              0.6666666666666666,
              "#ed7953"
             ],
             [
              0.7777777777777778,
              "#fb9f3a"
             ],
             [
              0.8888888888888888,
              "#fdca26"
             ],
             [
              1,
              "#f0f921"
             ]
            ],
            "type": "surface"
           }
          ],
          "table": [
           {
            "cells": {
             "fill": {
              "color": "#EBF0F8"
             },
             "line": {
              "color": "white"
             }
            },
            "header": {
             "fill": {
              "color": "#C8D4E3"
             },
             "line": {
              "color": "white"
             }
            },
            "type": "table"
           }
          ]
         },
         "layout": {
          "annotationdefaults": {
           "arrowcolor": "#2a3f5f",
           "arrowhead": 0,
           "arrowwidth": 1
          },
          "autotypenumbers": "strict",
          "coloraxis": {
           "colorbar": {
            "outlinewidth": 0,
            "ticks": ""
           }
          },
          "colorscale": {
           "diverging": [
            [
             0,
             "#8e0152"
            ],
            [
             0.1,
             "#c51b7d"
            ],
            [
             0.2,
             "#de77ae"
            ],
            [
             0.3,
             "#f1b6da"
            ],
            [
             0.4,
             "#fde0ef"
            ],
            [
             0.5,
             "#f7f7f7"
            ],
            [
             0.6,
             "#e6f5d0"
            ],
            [
             0.7,
             "#b8e186"
            ],
            [
             0.8,
             "#7fbc41"
            ],
            [
             0.9,
             "#4d9221"
            ],
            [
             1,
             "#276419"
            ]
           ],
           "sequential": [
            [
             0,
             "#0d0887"
            ],
            [
             0.1111111111111111,
             "#46039f"
            ],
            [
             0.2222222222222222,
             "#7201a8"
            ],
            [
             0.3333333333333333,
             "#9c179e"
            ],
            [
             0.4444444444444444,
             "#bd3786"
            ],
            [
             0.5555555555555556,
             "#d8576b"
            ],
            [
             0.6666666666666666,
             "#ed7953"
            ],
            [
             0.7777777777777778,
             "#fb9f3a"
            ],
            [
             0.8888888888888888,
             "#fdca26"
            ],
            [
             1,
             "#f0f921"
            ]
           ],
           "sequentialminus": [
            [
             0,
             "#0d0887"
            ],
            [
             0.1111111111111111,
             "#46039f"
            ],
            [
             0.2222222222222222,
             "#7201a8"
            ],
            [
             0.3333333333333333,
             "#9c179e"
            ],
            [
             0.4444444444444444,
             "#bd3786"
            ],
            [
             0.5555555555555556,
             "#d8576b"
            ],
            [
             0.6666666666666666,
             "#ed7953"
            ],
            [
             0.7777777777777778,
             "#fb9f3a"
            ],
            [
             0.8888888888888888,
             "#fdca26"
            ],
            [
             1,
             "#f0f921"
            ]
           ]
          },
          "colorway": [
           "#636efa",
           "#EF553B",
           "#00cc96",
           "#ab63fa",
           "#FFA15A",
           "#19d3f3",
           "#FF6692",
           "#B6E880",
           "#FF97FF",
           "#FECB52"
          ],
          "font": {
           "color": "#2a3f5f"
          },
          "geo": {
           "bgcolor": "white",
           "lakecolor": "white",
           "landcolor": "#E5ECF6",
           "showlakes": true,
           "showland": true,
           "subunitcolor": "white"
          },
          "hoverlabel": {
           "align": "left"
          },
          "hovermode": "closest",
          "mapbox": {
           "style": "light"
          },
          "paper_bgcolor": "white",
          "plot_bgcolor": "#E5ECF6",
          "polar": {
           "angularaxis": {
            "gridcolor": "white",
            "linecolor": "white",
            "ticks": ""
           },
           "bgcolor": "#E5ECF6",
           "radialaxis": {
            "gridcolor": "white",
            "linecolor": "white",
            "ticks": ""
           }
          },
          "scene": {
           "xaxis": {
            "backgroundcolor": "#E5ECF6",
            "gridcolor": "white",
            "gridwidth": 2,
            "linecolor": "white",
            "showbackground": true,
            "ticks": "",
            "zerolinecolor": "white"
           },
           "yaxis": {
            "backgroundcolor": "#E5ECF6",
            "gridcolor": "white",
            "gridwidth": 2,
            "linecolor": "white",
            "showbackground": true,
            "ticks": "",
            "zerolinecolor": "white"
           },
           "zaxis": {
            "backgroundcolor": "#E5ECF6",
            "gridcolor": "white",
            "gridwidth": 2,
            "linecolor": "white",
            "showbackground": true,
            "ticks": "",
            "zerolinecolor": "white"
           }
          },
          "shapedefaults": {
           "line": {
            "color": "#2a3f5f"
           }
          },
          "ternary": {
           "aaxis": {
            "gridcolor": "white",
            "linecolor": "white",
            "ticks": ""
           },
           "baxis": {
            "gridcolor": "white",
            "linecolor": "white",
            "ticks": ""
           },
           "bgcolor": "#E5ECF6",
           "caxis": {
            "gridcolor": "white",
            "linecolor": "white",
            "ticks": ""
           }
          },
          "title": {
           "x": 0.05
          },
          "xaxis": {
           "automargin": true,
           "gridcolor": "white",
           "linecolor": "white",
           "ticks": "",
           "title": {
            "standoff": 15
           },
           "zerolinecolor": "white",
           "zerolinewidth": 2
          },
          "yaxis": {
           "automargin": true,
           "gridcolor": "white",
           "linecolor": "white",
           "ticks": "",
           "title": {
            "standoff": 15
           },
           "zerolinecolor": "white",
           "zerolinewidth": 2
          }
         }
        },
        "title": {
         "text": "Número de Pedidos por País"
        }
       }
      },
      "text/html": [
       "<div>                            <div id=\"a55fd864-bdb1-4bb0-9d74-9a677e8e4e9a\" class=\"plotly-graph-div\" style=\"height:525px; width:100%;\"></div>            <script type=\"text/javascript\">                require([\"plotly\"], function(Plotly) {                    window.PLOTLYENV=window.PLOTLYENV || {};                                    if (document.getElementById(\"a55fd864-bdb1-4bb0-9d74-9a677e8e4e9a\")) {                    Plotly.newPlot(                        \"a55fd864-bdb1-4bb0-9d74-9a677e8e4e9a\",                        [{\"coloraxis\":\"coloraxis\",\"geo\":\"geo\",\"hovertemplate\":\"Pais=%{location}\\u003cbr\\u003ePedidos=%{z}\\u003cextra\\u003e\\u003c\\u002fextra\\u003e\",\"locationmode\":\"country names\",\"locations\":[\"United States\",\"Australia\",\"Germany\",\"Canada\",\"Japan\",\"United Kingdom\",\"Netherlands\",\"France\",\"Belgium\",\"Switzerland\",\"Spain\",\"Austria\",\"Sweden\",\"Brazil\",\"New Zealand\",\"Portugal\",\"Italy\",\"Singapore\",\"Ireland\",\"Luxembourg\",\"Norway\",\"Mexico\",\"Hungary\",\"United Arab Emirates\",\"Peru\",\"Israel\",\"Greece\",\"Malaysia\",\"Monaco\",\"Croatia\",\"Argentina\",\"Slovenia\",\"Chile\",\"Liechtenstein\",\"Morocco\",\"Jordan\",\"Taiwan\",\"Qatar\",\"Kuwait\",\"Finland\",\"Colombia\",\"Lithuania\",\"Mali\",\"Denmark\",\"Egypt\",\"Philippines\",\"Kenya\"],\"name\":\"\",\"z\":[23692,1624,1368,1044,1010,770,548,492,475,302,258,177,131,111,79,25,25,20,16,10,7,7,5,5,3,3,3,3,2,2,2,2,2,2,2,1,1,1,1,1,1,1,1,1,1,1,1],\"type\":\"choropleth\"}],                        {\"template\":{\"data\":{\"histogram2dcontour\":[{\"type\":\"histogram2dcontour\",\"colorbar\":{\"outlinewidth\":0,\"ticks\":\"\"},\"colorscale\":[[0.0,\"#0d0887\"],[0.1111111111111111,\"#46039f\"],[0.2222222222222222,\"#7201a8\"],[0.3333333333333333,\"#9c179e\"],[0.4444444444444444,\"#bd3786\"],[0.5555555555555556,\"#d8576b\"],[0.6666666666666666,\"#ed7953\"],[0.7777777777777778,\"#fb9f3a\"],[0.8888888888888888,\"#fdca26\"],[1.0,\"#f0f921\"]]}],\"choropleth\":[{\"type\":\"choropleth\",\"colorbar\":{\"outlinewidth\":0,\"ticks\":\"\"}}],\"histogram2d\":[{\"type\":\"histogram2d\",\"colorbar\":{\"outlinewidth\":0,\"ticks\":\"\"},\"colorscale\":[[0.0,\"#0d0887\"],[0.1111111111111111,\"#46039f\"],[0.2222222222222222,\"#7201a8\"],[0.3333333333333333,\"#9c179e\"],[0.4444444444444444,\"#bd3786\"],[0.5555555555555556,\"#d8576b\"],[0.6666666666666666,\"#ed7953\"],[0.7777777777777778,\"#fb9f3a\"],[0.8888888888888888,\"#fdca26\"],[1.0,\"#f0f921\"]]}],\"heatmap\":[{\"type\":\"heatmap\",\"colorbar\":{\"outlinewidth\":0,\"ticks\":\"\"},\"colorscale\":[[0.0,\"#0d0887\"],[0.1111111111111111,\"#46039f\"],[0.2222222222222222,\"#7201a8\"],[0.3333333333333333,\"#9c179e\"],[0.4444444444444444,\"#bd3786\"],[0.5555555555555556,\"#d8576b\"],[0.6666666666666666,\"#ed7953\"],[0.7777777777777778,\"#fb9f3a\"],[0.8888888888888888,\"#fdca26\"],[1.0,\"#f0f921\"]]}],\"heatmapgl\":[{\"type\":\"heatmapgl\",\"colorbar\":{\"outlinewidth\":0,\"ticks\":\"\"},\"colorscale\":[[0.0,\"#0d0887\"],[0.1111111111111111,\"#46039f\"],[0.2222222222222222,\"#7201a8\"],[0.3333333333333333,\"#9c179e\"],[0.4444444444444444,\"#bd3786\"],[0.5555555555555556,\"#d8576b\"],[0.6666666666666666,\"#ed7953\"],[0.7777777777777778,\"#fb9f3a\"],[0.8888888888888888,\"#fdca26\"],[1.0,\"#f0f921\"]]}],\"contourcarpet\":[{\"type\":\"contourcarpet\",\"colorbar\":{\"outlinewidth\":0,\"ticks\":\"\"}}],\"contour\":[{\"type\":\"contour\",\"colorbar\":{\"outlinewidth\":0,\"ticks\":\"\"},\"colorscale\":[[0.0,\"#0d0887\"],[0.1111111111111111,\"#46039f\"],[0.2222222222222222,\"#7201a8\"],[0.3333333333333333,\"#9c179e\"],[0.4444444444444444,\"#bd3786\"],[0.5555555555555556,\"#d8576b\"],[0.6666666666666666,\"#ed7953\"],[0.7777777777777778,\"#fb9f3a\"],[0.8888888888888888,\"#fdca26\"],[1.0,\"#f0f921\"]]}],\"surface\":[{\"type\":\"surface\",\"colorbar\":{\"outlinewidth\":0,\"ticks\":\"\"},\"colorscale\":[[0.0,\"#0d0887\"],[0.1111111111111111,\"#46039f\"],[0.2222222222222222,\"#7201a8\"],[0.3333333333333333,\"#9c179e\"],[0.4444444444444444,\"#bd3786\"],[0.5555555555555556,\"#d8576b\"],[0.6666666666666666,\"#ed7953\"],[0.7777777777777778,\"#fb9f3a\"],[0.8888888888888888,\"#fdca26\"],[1.0,\"#f0f921\"]]}],\"mesh3d\":[{\"type\":\"mesh3d\",\"colorbar\":{\"outlinewidth\":0,\"ticks\":\"\"}}],\"scatter\":[{\"fillpattern\":{\"fillmode\":\"overlay\",\"size\":10,\"solidity\":0.2},\"type\":\"scatter\"}],\"parcoords\":[{\"type\":\"parcoords\",\"line\":{\"colorbar\":{\"outlinewidth\":0,\"ticks\":\"\"}}}],\"scatterpolargl\":[{\"type\":\"scatterpolargl\",\"marker\":{\"colorbar\":{\"outlinewidth\":0,\"ticks\":\"\"}}}],\"bar\":[{\"error_x\":{\"color\":\"#2a3f5f\"},\"error_y\":{\"color\":\"#2a3f5f\"},\"marker\":{\"line\":{\"color\":\"#E5ECF6\",\"width\":0.5},\"pattern\":{\"fillmode\":\"overlay\",\"size\":10,\"solidity\":0.2}},\"type\":\"bar\"}],\"scattergeo\":[{\"type\":\"scattergeo\",\"marker\":{\"colorbar\":{\"outlinewidth\":0,\"ticks\":\"\"}}}],\"scatterpolar\":[{\"type\":\"scatterpolar\",\"marker\":{\"colorbar\":{\"outlinewidth\":0,\"ticks\":\"\"}}}],\"histogram\":[{\"marker\":{\"pattern\":{\"fillmode\":\"overlay\",\"size\":10,\"solidity\":0.2}},\"type\":\"histogram\"}],\"scattergl\":[{\"type\":\"scattergl\",\"marker\":{\"colorbar\":{\"outlinewidth\":0,\"ticks\":\"\"}}}],\"scatter3d\":[{\"type\":\"scatter3d\",\"line\":{\"colorbar\":{\"outlinewidth\":0,\"ticks\":\"\"}},\"marker\":{\"colorbar\":{\"outlinewidth\":0,\"ticks\":\"\"}}}],\"scattermapbox\":[{\"type\":\"scattermapbox\",\"marker\":{\"colorbar\":{\"outlinewidth\":0,\"ticks\":\"\"}}}],\"scatterternary\":[{\"type\":\"scatterternary\",\"marker\":{\"colorbar\":{\"outlinewidth\":0,\"ticks\":\"\"}}}],\"scattercarpet\":[{\"type\":\"scattercarpet\",\"marker\":{\"colorbar\":{\"outlinewidth\":0,\"ticks\":\"\"}}}],\"carpet\":[{\"aaxis\":{\"endlinecolor\":\"#2a3f5f\",\"gridcolor\":\"white\",\"linecolor\":\"white\",\"minorgridcolor\":\"white\",\"startlinecolor\":\"#2a3f5f\"},\"baxis\":{\"endlinecolor\":\"#2a3f5f\",\"gridcolor\":\"white\",\"linecolor\":\"white\",\"minorgridcolor\":\"white\",\"startlinecolor\":\"#2a3f5f\"},\"type\":\"carpet\"}],\"table\":[{\"cells\":{\"fill\":{\"color\":\"#EBF0F8\"},\"line\":{\"color\":\"white\"}},\"header\":{\"fill\":{\"color\":\"#C8D4E3\"},\"line\":{\"color\":\"white\"}},\"type\":\"table\"}],\"barpolar\":[{\"marker\":{\"line\":{\"color\":\"#E5ECF6\",\"width\":0.5},\"pattern\":{\"fillmode\":\"overlay\",\"size\":10,\"solidity\":0.2}},\"type\":\"barpolar\"}],\"pie\":[{\"automargin\":true,\"type\":\"pie\"}]},\"layout\":{\"autotypenumbers\":\"strict\",\"colorway\":[\"#636efa\",\"#EF553B\",\"#00cc96\",\"#ab63fa\",\"#FFA15A\",\"#19d3f3\",\"#FF6692\",\"#B6E880\",\"#FF97FF\",\"#FECB52\"],\"font\":{\"color\":\"#2a3f5f\"},\"hovermode\":\"closest\",\"hoverlabel\":{\"align\":\"left\"},\"paper_bgcolor\":\"white\",\"plot_bgcolor\":\"#E5ECF6\",\"polar\":{\"bgcolor\":\"#E5ECF6\",\"angularaxis\":{\"gridcolor\":\"white\",\"linecolor\":\"white\",\"ticks\":\"\"},\"radialaxis\":{\"gridcolor\":\"white\",\"linecolor\":\"white\",\"ticks\":\"\"}},\"ternary\":{\"bgcolor\":\"#E5ECF6\",\"aaxis\":{\"gridcolor\":\"white\",\"linecolor\":\"white\",\"ticks\":\"\"},\"baxis\":{\"gridcolor\":\"white\",\"linecolor\":\"white\",\"ticks\":\"\"},\"caxis\":{\"gridcolor\":\"white\",\"linecolor\":\"white\",\"ticks\":\"\"}},\"coloraxis\":{\"colorbar\":{\"outlinewidth\":0,\"ticks\":\"\"}},\"colorscale\":{\"sequential\":[[0.0,\"#0d0887\"],[0.1111111111111111,\"#46039f\"],[0.2222222222222222,\"#7201a8\"],[0.3333333333333333,\"#9c179e\"],[0.4444444444444444,\"#bd3786\"],[0.5555555555555556,\"#d8576b\"],[0.6666666666666666,\"#ed7953\"],[0.7777777777777778,\"#fb9f3a\"],[0.8888888888888888,\"#fdca26\"],[1.0,\"#f0f921\"]],\"sequentialminus\":[[0.0,\"#0d0887\"],[0.1111111111111111,\"#46039f\"],[0.2222222222222222,\"#7201a8\"],[0.3333333333333333,\"#9c179e\"],[0.4444444444444444,\"#bd3786\"],[0.5555555555555556,\"#d8576b\"],[0.6666666666666666,\"#ed7953\"],[0.7777777777777778,\"#fb9f3a\"],[0.8888888888888888,\"#fdca26\"],[1.0,\"#f0f921\"]],\"diverging\":[[0,\"#8e0152\"],[0.1,\"#c51b7d\"],[0.2,\"#de77ae\"],[0.3,\"#f1b6da\"],[0.4,\"#fde0ef\"],[0.5,\"#f7f7f7\"],[0.6,\"#e6f5d0\"],[0.7,\"#b8e186\"],[0.8,\"#7fbc41\"],[0.9,\"#4d9221\"],[1,\"#276419\"]]},\"xaxis\":{\"gridcolor\":\"white\",\"linecolor\":\"white\",\"ticks\":\"\",\"title\":{\"standoff\":15},\"zerolinecolor\":\"white\",\"automargin\":true,\"zerolinewidth\":2},\"yaxis\":{\"gridcolor\":\"white\",\"linecolor\":\"white\",\"ticks\":\"\",\"title\":{\"standoff\":15},\"zerolinecolor\":\"white\",\"automargin\":true,\"zerolinewidth\":2},\"scene\":{\"xaxis\":{\"backgroundcolor\":\"#E5ECF6\",\"gridcolor\":\"white\",\"linecolor\":\"white\",\"showbackground\":true,\"ticks\":\"\",\"zerolinecolor\":\"white\",\"gridwidth\":2},\"yaxis\":{\"backgroundcolor\":\"#E5ECF6\",\"gridcolor\":\"white\",\"linecolor\":\"white\",\"showbackground\":true,\"ticks\":\"\",\"zerolinecolor\":\"white\",\"gridwidth\":2},\"zaxis\":{\"backgroundcolor\":\"#E5ECF6\",\"gridcolor\":\"white\",\"linecolor\":\"white\",\"showbackground\":true,\"ticks\":\"\",\"zerolinecolor\":\"white\",\"gridwidth\":2}},\"shapedefaults\":{\"line\":{\"color\":\"#2a3f5f\"}},\"annotationdefaults\":{\"arrowcolor\":\"#2a3f5f\",\"arrowhead\":0,\"arrowwidth\":1},\"geo\":{\"bgcolor\":\"white\",\"landcolor\":\"#E5ECF6\",\"subunitcolor\":\"white\",\"showland\":true,\"showlakes\":true,\"lakecolor\":\"white\"},\"title\":{\"x\":0.05},\"mapbox\":{\"style\":\"light\"}}},\"geo\":{\"domain\":{\"x\":[0.0,1.0],\"y\":[0.0,1.0]},\"center\":{}},\"coloraxis\":{\"colorbar\":{\"title\":{\"text\":\"Pedidos\"}},\"colorscale\":[[0.0,\"rgb(150,0,90)\"],[0.125,\"rgb(0,0,200)\"],[0.25,\"rgb(0,25,255)\"],[0.375,\"rgb(0,152,255)\"],[0.5,\"rgb(44,255,150)\"],[0.625,\"rgb(151,255,0)\"],[0.75,\"rgb(255,234,0)\"],[0.875,\"rgb(255,111,0)\"],[1.0,\"rgb(255,0,0)\"]]},\"legend\":{\"tracegroupgap\":0},\"title\":{\"text\":\"N\\u00famero de Pedidos por Pa\\u00eds\"}},                        {\"responsive\": true}                    ).then(function(){\n",
       "                            \n",
       "var gd = document.getElementById('a55fd864-bdb1-4bb0-9d74-9a677e8e4e9a');\n",
       "var x = new MutationObserver(function (mutations, observer) {{\n",
       "        var display = window.getComputedStyle(gd).display;\n",
       "        if (!display || display === 'none') {{\n",
       "            console.log([gd, 'removed!']);\n",
       "            Plotly.purge(gd);\n",
       "            observer.disconnect();\n",
       "        }}\n",
       "}});\n",
       "\n",
       "// Listen for the removal of the full notebook cells\n",
       "var notebookContainer = gd.closest('#notebook-container');\n",
       "if (notebookContainer) {{\n",
       "    x.observe(notebookContainer, {childList: true});\n",
       "}}\n",
       "\n",
       "// Listen for the clearing of the current output cell\n",
       "var outputEl = gd.closest('.output');\n",
       "if (outputEl) {{\n",
       "    x.observe(outputEl, {childList: true});\n",
       "}}\n",
       "\n",
       "                        })                };                });            </script>        </div>"
      ]
     },
     "metadata": {},
     "output_type": "display_data"
    }
   ],
   "source": [
    "# Geração do mapa global.\n",
    "# Importa as bibliotecas que vamos usar.\n",
    "import pandas as pd\n",
    "import plotly.express as px\n",
    "\n",
    "# Efetua a contagem do número de pedidos por pais.\n",
    "contagem_paises = df['Shipped To'].value_counts().reset_index()\n",
    "# Troca os nomes das colunas do novo dataframe.\n",
    "contagem_paises.columns = ['Pais', 'Pedidos']\n",
    "\n",
    "# Gera o gráfico interativo.\n",
    "fig = px.choropleth(contagem_paises,\n",
    "                    locations='Pais',\n",
    "                    locationmode='country names',\n",
    "                    color='Pedidos',\n",
    "                    title='Número de Pedidos por País',\n",
    "                    color_continuous_scale='Rainbow')\n",
    "# Exibe o gráfico.\n",
    "fig.show()"
   ]
  },
  {
   "cell_type": "code",
   "execution_count": 49,
   "id": "e3f62485",
   "metadata": {},
   "outputs": [
    {
     "data": {
      "application/vnd.plotly.v1+json": {
       "config": {
        "plotlyServerURL": "https://plot.ly"
       },
       "data": [
        {
         "alignmentgroup": "True",
         "hovertemplate": "Pais=%{x}<br>Pedidos=%{marker.color}<extra></extra>",
         "legendgroup": "",
         "marker": {
          "color": [
           23692,
           1624,
           1368,
           1044,
           1010,
           770,
           548,
           492,
           475,
           302
          ],
          "coloraxis": "coloraxis",
          "pattern": {
           "shape": ""
          }
         },
         "name": "",
         "offsetgroup": "",
         "orientation": "v",
         "showlegend": false,
         "textposition": "auto",
         "type": "bar",
         "x": [
          "United States",
          "Australia",
          "Germany",
          "Canada",
          "Japan",
          "United Kingdom",
          "Netherlands",
          "France",
          "Belgium",
          "Switzerland"
         ],
         "xaxis": "x",
         "y": [
          23692,
          1624,
          1368,
          1044,
          1010,
          770,
          548,
          492,
          475,
          302
         ],
         "yaxis": "y"
        }
       ],
       "layout": {
        "barmode": "relative",
        "coloraxis": {
         "colorbar": {
          "title": {
           "text": "Pedidos"
          }
         },
         "colorscale": [
          [
           0,
           "rgb(150,0,90)"
          ],
          [
           0.125,
           "rgb(0,0,200)"
          ],
          [
           0.25,
           "rgb(0,25,255)"
          ],
          [
           0.375,
           "rgb(0,152,255)"
          ],
          [
           0.5,
           "rgb(44,255,150)"
          ],
          [
           0.625,
           "rgb(151,255,0)"
          ],
          [
           0.75,
           "rgb(255,234,0)"
          ],
          [
           0.875,
           "rgb(255,111,0)"
          ],
          [
           1,
           "rgb(255,0,0)"
          ]
         ]
        },
        "legend": {
         "tracegroupgap": 0
        },
        "template": {
         "data": {
          "bar": [
           {
            "error_x": {
             "color": "#2a3f5f"
            },
            "error_y": {
             "color": "#2a3f5f"
            },
            "marker": {
             "line": {
              "color": "#E5ECF6",
              "width": 0.5
             },
             "pattern": {
              "fillmode": "overlay",
              "size": 10,
              "solidity": 0.2
             }
            },
            "type": "bar"
           }
          ],
          "barpolar": [
           {
            "marker": {
             "line": {
              "color": "#E5ECF6",
              "width": 0.5
             },
             "pattern": {
              "fillmode": "overlay",
              "size": 10,
              "solidity": 0.2
             }
            },
            "type": "barpolar"
           }
          ],
          "carpet": [
           {
            "aaxis": {
             "endlinecolor": "#2a3f5f",
             "gridcolor": "white",
             "linecolor": "white",
             "minorgridcolor": "white",
             "startlinecolor": "#2a3f5f"
            },
            "baxis": {
             "endlinecolor": "#2a3f5f",
             "gridcolor": "white",
             "linecolor": "white",
             "minorgridcolor": "white",
             "startlinecolor": "#2a3f5f"
            },
            "type": "carpet"
           }
          ],
          "choropleth": [
           {
            "colorbar": {
             "outlinewidth": 0,
             "ticks": ""
            },
            "type": "choropleth"
           }
          ],
          "contour": [
           {
            "colorbar": {
             "outlinewidth": 0,
             "ticks": ""
            },
            "colorscale": [
             [
              0,
              "#0d0887"
             ],
             [
              0.1111111111111111,
              "#46039f"
             ],
             [
              0.2222222222222222,
              "#7201a8"
             ],
             [
              0.3333333333333333,
              "#9c179e"
             ],
             [
              0.4444444444444444,
              "#bd3786"
             ],
             [
              0.5555555555555556,
              "#d8576b"
             ],
             [
              0.6666666666666666,
              "#ed7953"
             ],
             [
              0.7777777777777778,
              "#fb9f3a"
             ],
             [
              0.8888888888888888,
              "#fdca26"
             ],
             [
              1,
              "#f0f921"
             ]
            ],
            "type": "contour"
           }
          ],
          "contourcarpet": [
           {
            "colorbar": {
             "outlinewidth": 0,
             "ticks": ""
            },
            "type": "contourcarpet"
           }
          ],
          "heatmap": [
           {
            "colorbar": {
             "outlinewidth": 0,
             "ticks": ""
            },
            "colorscale": [
             [
              0,
              "#0d0887"
             ],
             [
              0.1111111111111111,
              "#46039f"
             ],
             [
              0.2222222222222222,
              "#7201a8"
             ],
             [
              0.3333333333333333,
              "#9c179e"
             ],
             [
              0.4444444444444444,
              "#bd3786"
             ],
             [
              0.5555555555555556,
              "#d8576b"
             ],
             [
              0.6666666666666666,
              "#ed7953"
             ],
             [
              0.7777777777777778,
              "#fb9f3a"
             ],
             [
              0.8888888888888888,
              "#fdca26"
             ],
             [
              1,
              "#f0f921"
             ]
            ],
            "type": "heatmap"
           }
          ],
          "heatmapgl": [
           {
            "colorbar": {
             "outlinewidth": 0,
             "ticks": ""
            },
            "colorscale": [
             [
              0,
              "#0d0887"
             ],
             [
              0.1111111111111111,
              "#46039f"
             ],
             [
              0.2222222222222222,
              "#7201a8"
             ],
             [
              0.3333333333333333,
              "#9c179e"
             ],
             [
              0.4444444444444444,
              "#bd3786"
             ],
             [
              0.5555555555555556,
              "#d8576b"
             ],
             [
              0.6666666666666666,
              "#ed7953"
             ],
             [
              0.7777777777777778,
              "#fb9f3a"
             ],
             [
              0.8888888888888888,
              "#fdca26"
             ],
             [
              1,
              "#f0f921"
             ]
            ],
            "type": "heatmapgl"
           }
          ],
          "histogram": [
           {
            "marker": {
             "pattern": {
              "fillmode": "overlay",
              "size": 10,
              "solidity": 0.2
             }
            },
            "type": "histogram"
           }
          ],
          "histogram2d": [
           {
            "colorbar": {
             "outlinewidth": 0,
             "ticks": ""
            },
            "colorscale": [
             [
              0,
              "#0d0887"
             ],
             [
              0.1111111111111111,
              "#46039f"
             ],
             [
              0.2222222222222222,
              "#7201a8"
             ],
             [
              0.3333333333333333,
              "#9c179e"
             ],
             [
              0.4444444444444444,
              "#bd3786"
             ],
             [
              0.5555555555555556,
              "#d8576b"
             ],
             [
              0.6666666666666666,
              "#ed7953"
             ],
             [
              0.7777777777777778,
              "#fb9f3a"
             ],
             [
              0.8888888888888888,
              "#fdca26"
             ],
             [
              1,
              "#f0f921"
             ]
            ],
            "type": "histogram2d"
           }
          ],
          "histogram2dcontour": [
           {
            "colorbar": {
             "outlinewidth": 0,
             "ticks": ""
            },
            "colorscale": [
             [
              0,
              "#0d0887"
             ],
             [
              0.1111111111111111,
              "#46039f"
             ],
             [
              0.2222222222222222,
              "#7201a8"
             ],
             [
              0.3333333333333333,
              "#9c179e"
             ],
             [
              0.4444444444444444,
              "#bd3786"
             ],
             [
              0.5555555555555556,
              "#d8576b"
             ],
             [
              0.6666666666666666,
              "#ed7953"
             ],
             [
              0.7777777777777778,
              "#fb9f3a"
             ],
             [
              0.8888888888888888,
              "#fdca26"
             ],
             [
              1,
              "#f0f921"
             ]
            ],
            "type": "histogram2dcontour"
           }
          ],
          "mesh3d": [
           {
            "colorbar": {
             "outlinewidth": 0,
             "ticks": ""
            },
            "type": "mesh3d"
           }
          ],
          "parcoords": [
           {
            "line": {
             "colorbar": {
              "outlinewidth": 0,
              "ticks": ""
             }
            },
            "type": "parcoords"
           }
          ],
          "pie": [
           {
            "automargin": true,
            "type": "pie"
           }
          ],
          "scatter": [
           {
            "fillpattern": {
             "fillmode": "overlay",
             "size": 10,
             "solidity": 0.2
            },
            "type": "scatter"
           }
          ],
          "scatter3d": [
           {
            "line": {
             "colorbar": {
              "outlinewidth": 0,
              "ticks": ""
             }
            },
            "marker": {
             "colorbar": {
              "outlinewidth": 0,
              "ticks": ""
             }
            },
            "type": "scatter3d"
           }
          ],
          "scattercarpet": [
           {
            "marker": {
             "colorbar": {
              "outlinewidth": 0,
              "ticks": ""
             }
            },
            "type": "scattercarpet"
           }
          ],
          "scattergeo": [
           {
            "marker": {
             "colorbar": {
              "outlinewidth": 0,
              "ticks": ""
             }
            },
            "type": "scattergeo"
           }
          ],
          "scattergl": [
           {
            "marker": {
             "colorbar": {
              "outlinewidth": 0,
              "ticks": ""
             }
            },
            "type": "scattergl"
           }
          ],
          "scattermapbox": [
           {
            "marker": {
             "colorbar": {
              "outlinewidth": 0,
              "ticks": ""
             }
            },
            "type": "scattermapbox"
           }
          ],
          "scatterpolar": [
           {
            "marker": {
             "colorbar": {
              "outlinewidth": 0,
              "ticks": ""
             }
            },
            "type": "scatterpolar"
           }
          ],
          "scatterpolargl": [
           {
            "marker": {
             "colorbar": {
              "outlinewidth": 0,
              "ticks": ""
             }
            },
            "type": "scatterpolargl"
           }
          ],
          "scatterternary": [
           {
            "marker": {
             "colorbar": {
              "outlinewidth": 0,
              "ticks": ""
             }
            },
            "type": "scatterternary"
           }
          ],
          "surface": [
           {
            "colorbar": {
             "outlinewidth": 0,
             "ticks": ""
            },
            "colorscale": [
             [
              0,
              "#0d0887"
             ],
             [
              0.1111111111111111,
              "#46039f"
             ],
             [
              0.2222222222222222,
              "#7201a8"
             ],
             [
              0.3333333333333333,
              "#9c179e"
             ],
             [
              0.4444444444444444,
              "#bd3786"
             ],
             [
              0.5555555555555556,
              "#d8576b"
             ],
             [
              0.6666666666666666,
              "#ed7953"
             ],
             [
              0.7777777777777778,
              "#fb9f3a"
             ],
             [
              0.8888888888888888,
              "#fdca26"
             ],
             [
              1,
              "#f0f921"
             ]
            ],
            "type": "surface"
           }
          ],
          "table": [
           {
            "cells": {
             "fill": {
              "color": "#EBF0F8"
             },
             "line": {
              "color": "white"
             }
            },
            "header": {
             "fill": {
              "color": "#C8D4E3"
             },
             "line": {
              "color": "white"
             }
            },
            "type": "table"
           }
          ]
         },
         "layout": {
          "annotationdefaults": {
           "arrowcolor": "#2a3f5f",
           "arrowhead": 0,
           "arrowwidth": 1
          },
          "autotypenumbers": "strict",
          "coloraxis": {
           "colorbar": {
            "outlinewidth": 0,
            "ticks": ""
           }
          },
          "colorscale": {
           "diverging": [
            [
             0,
             "#8e0152"
            ],
            [
             0.1,
             "#c51b7d"
            ],
            [
             0.2,
             "#de77ae"
            ],
            [
             0.3,
             "#f1b6da"
            ],
            [
             0.4,
             "#fde0ef"
            ],
            [
             0.5,
             "#f7f7f7"
            ],
            [
             0.6,
             "#e6f5d0"
            ],
            [
             0.7,
             "#b8e186"
            ],
            [
             0.8,
             "#7fbc41"
            ],
            [
             0.9,
             "#4d9221"
            ],
            [
             1,
             "#276419"
            ]
           ],
           "sequential": [
            [
             0,
             "#0d0887"
            ],
            [
             0.1111111111111111,
             "#46039f"
            ],
            [
             0.2222222222222222,
             "#7201a8"
            ],
            [
             0.3333333333333333,
             "#9c179e"
            ],
            [
             0.4444444444444444,
             "#bd3786"
            ],
            [
             0.5555555555555556,
             "#d8576b"
            ],
            [
             0.6666666666666666,
             "#ed7953"
            ],
            [
             0.7777777777777778,
             "#fb9f3a"
            ],
            [
             0.8888888888888888,
             "#fdca26"
            ],
            [
             1,
             "#f0f921"
            ]
           ],
           "sequentialminus": [
            [
             0,
             "#0d0887"
            ],
            [
             0.1111111111111111,
             "#46039f"
            ],
            [
             0.2222222222222222,
             "#7201a8"
            ],
            [
             0.3333333333333333,
             "#9c179e"
            ],
            [
             0.4444444444444444,
             "#bd3786"
            ],
            [
             0.5555555555555556,
             "#d8576b"
            ],
            [
             0.6666666666666666,
             "#ed7953"
            ],
            [
             0.7777777777777778,
             "#fb9f3a"
            ],
            [
             0.8888888888888888,
             "#fdca26"
            ],
            [
             1,
             "#f0f921"
            ]
           ]
          },
          "colorway": [
           "#636efa",
           "#EF553B",
           "#00cc96",
           "#ab63fa",
           "#FFA15A",
           "#19d3f3",
           "#FF6692",
           "#B6E880",
           "#FF97FF",
           "#FECB52"
          ],
          "font": {
           "color": "#2a3f5f"
          },
          "geo": {
           "bgcolor": "white",
           "lakecolor": "white",
           "landcolor": "#E5ECF6",
           "showlakes": true,
           "showland": true,
           "subunitcolor": "white"
          },
          "hoverlabel": {
           "align": "left"
          },
          "hovermode": "closest",
          "mapbox": {
           "style": "light"
          },
          "paper_bgcolor": "white",
          "plot_bgcolor": "#E5ECF6",
          "polar": {
           "angularaxis": {
            "gridcolor": "white",
            "linecolor": "white",
            "ticks": ""
           },
           "bgcolor": "#E5ECF6",
           "radialaxis": {
            "gridcolor": "white",
            "linecolor": "white",
            "ticks": ""
           }
          },
          "scene": {
           "xaxis": {
            "backgroundcolor": "#E5ECF6",
            "gridcolor": "white",
            "gridwidth": 2,
            "linecolor": "white",
            "showbackground": true,
            "ticks": "",
            "zerolinecolor": "white"
           },
           "yaxis": {
            "backgroundcolor": "#E5ECF6",
            "gridcolor": "white",
            "gridwidth": 2,
            "linecolor": "white",
            "showbackground": true,
            "ticks": "",
            "zerolinecolor": "white"
           },
           "zaxis": {
            "backgroundcolor": "#E5ECF6",
            "gridcolor": "white",
            "gridwidth": 2,
            "linecolor": "white",
            "showbackground": true,
            "ticks": "",
            "zerolinecolor": "white"
           }
          },
          "shapedefaults": {
           "line": {
            "color": "#2a3f5f"
           }
          },
          "ternary": {
           "aaxis": {
            "gridcolor": "white",
            "linecolor": "white",
            "ticks": ""
           },
           "baxis": {
            "gridcolor": "white",
            "linecolor": "white",
            "ticks": ""
           },
           "bgcolor": "#E5ECF6",
           "caxis": {
            "gridcolor": "white",
            "linecolor": "white",
            "ticks": ""
           }
          },
          "title": {
           "x": 0.05
          },
          "xaxis": {
           "automargin": true,
           "gridcolor": "white",
           "linecolor": "white",
           "ticks": "",
           "title": {
            "standoff": 15
           },
           "zerolinecolor": "white",
           "zerolinewidth": 2
          },
          "yaxis": {
           "automargin": true,
           "gridcolor": "white",
           "linecolor": "white",
           "ticks": "",
           "title": {
            "standoff": 15
           },
           "zerolinecolor": "white",
           "zerolinewidth": 2
          }
         }
        },
        "title": {
         "text": "Top 10 Países com Mais Pedidos"
        },
        "xaxis": {
         "anchor": "y",
         "domain": [
          0,
          1
         ],
         "tickangle": -45,
         "title": {
          "text": "País"
         }
        },
        "yaxis": {
         "anchor": "x",
         "domain": [
          0,
          1
         ],
         "title": {
          "text": "Número de Pedidos"
         }
        }
       }
      },
      "text/html": [
       "<div>                            <div id=\"bc58add3-7639-4017-9a62-dede18253fe5\" class=\"plotly-graph-div\" style=\"height:525px; width:100%;\"></div>            <script type=\"text/javascript\">                require([\"plotly\"], function(Plotly) {                    window.PLOTLYENV=window.PLOTLYENV || {};                                    if (document.getElementById(\"bc58add3-7639-4017-9a62-dede18253fe5\")) {                    Plotly.newPlot(                        \"bc58add3-7639-4017-9a62-dede18253fe5\",                        [{\"alignmentgroup\":\"True\",\"hovertemplate\":\"Pais=%{x}\\u003cbr\\u003ePedidos=%{marker.color}\\u003cextra\\u003e\\u003c\\u002fextra\\u003e\",\"legendgroup\":\"\",\"marker\":{\"color\":[23692,1624,1368,1044,1010,770,548,492,475,302],\"coloraxis\":\"coloraxis\",\"pattern\":{\"shape\":\"\"}},\"name\":\"\",\"offsetgroup\":\"\",\"orientation\":\"v\",\"showlegend\":false,\"textposition\":\"auto\",\"x\":[\"United States\",\"Australia\",\"Germany\",\"Canada\",\"Japan\",\"United Kingdom\",\"Netherlands\",\"France\",\"Belgium\",\"Switzerland\"],\"xaxis\":\"x\",\"y\":[23692,1624,1368,1044,1010,770,548,492,475,302],\"yaxis\":\"y\",\"type\":\"bar\"}],                        {\"template\":{\"data\":{\"histogram2dcontour\":[{\"type\":\"histogram2dcontour\",\"colorbar\":{\"outlinewidth\":0,\"ticks\":\"\"},\"colorscale\":[[0.0,\"#0d0887\"],[0.1111111111111111,\"#46039f\"],[0.2222222222222222,\"#7201a8\"],[0.3333333333333333,\"#9c179e\"],[0.4444444444444444,\"#bd3786\"],[0.5555555555555556,\"#d8576b\"],[0.6666666666666666,\"#ed7953\"],[0.7777777777777778,\"#fb9f3a\"],[0.8888888888888888,\"#fdca26\"],[1.0,\"#f0f921\"]]}],\"choropleth\":[{\"type\":\"choropleth\",\"colorbar\":{\"outlinewidth\":0,\"ticks\":\"\"}}],\"histogram2d\":[{\"type\":\"histogram2d\",\"colorbar\":{\"outlinewidth\":0,\"ticks\":\"\"},\"colorscale\":[[0.0,\"#0d0887\"],[0.1111111111111111,\"#46039f\"],[0.2222222222222222,\"#7201a8\"],[0.3333333333333333,\"#9c179e\"],[0.4444444444444444,\"#bd3786\"],[0.5555555555555556,\"#d8576b\"],[0.6666666666666666,\"#ed7953\"],[0.7777777777777778,\"#fb9f3a\"],[0.8888888888888888,\"#fdca26\"],[1.0,\"#f0f921\"]]}],\"heatmap\":[{\"type\":\"heatmap\",\"colorbar\":{\"outlinewidth\":0,\"ticks\":\"\"},\"colorscale\":[[0.0,\"#0d0887\"],[0.1111111111111111,\"#46039f\"],[0.2222222222222222,\"#7201a8\"],[0.3333333333333333,\"#9c179e\"],[0.4444444444444444,\"#bd3786\"],[0.5555555555555556,\"#d8576b\"],[0.6666666666666666,\"#ed7953\"],[0.7777777777777778,\"#fb9f3a\"],[0.8888888888888888,\"#fdca26\"],[1.0,\"#f0f921\"]]}],\"heatmapgl\":[{\"type\":\"heatmapgl\",\"colorbar\":{\"outlinewidth\":0,\"ticks\":\"\"},\"colorscale\":[[0.0,\"#0d0887\"],[0.1111111111111111,\"#46039f\"],[0.2222222222222222,\"#7201a8\"],[0.3333333333333333,\"#9c179e\"],[0.4444444444444444,\"#bd3786\"],[0.5555555555555556,\"#d8576b\"],[0.6666666666666666,\"#ed7953\"],[0.7777777777777778,\"#fb9f3a\"],[0.8888888888888888,\"#fdca26\"],[1.0,\"#f0f921\"]]}],\"contourcarpet\":[{\"type\":\"contourcarpet\",\"colorbar\":{\"outlinewidth\":0,\"ticks\":\"\"}}],\"contour\":[{\"type\":\"contour\",\"colorbar\":{\"outlinewidth\":0,\"ticks\":\"\"},\"colorscale\":[[0.0,\"#0d0887\"],[0.1111111111111111,\"#46039f\"],[0.2222222222222222,\"#7201a8\"],[0.3333333333333333,\"#9c179e\"],[0.4444444444444444,\"#bd3786\"],[0.5555555555555556,\"#d8576b\"],[0.6666666666666666,\"#ed7953\"],[0.7777777777777778,\"#fb9f3a\"],[0.8888888888888888,\"#fdca26\"],[1.0,\"#f0f921\"]]}],\"surface\":[{\"type\":\"surface\",\"colorbar\":{\"outlinewidth\":0,\"ticks\":\"\"},\"colorscale\":[[0.0,\"#0d0887\"],[0.1111111111111111,\"#46039f\"],[0.2222222222222222,\"#7201a8\"],[0.3333333333333333,\"#9c179e\"],[0.4444444444444444,\"#bd3786\"],[0.5555555555555556,\"#d8576b\"],[0.6666666666666666,\"#ed7953\"],[0.7777777777777778,\"#fb9f3a\"],[0.8888888888888888,\"#fdca26\"],[1.0,\"#f0f921\"]]}],\"mesh3d\":[{\"type\":\"mesh3d\",\"colorbar\":{\"outlinewidth\":0,\"ticks\":\"\"}}],\"scatter\":[{\"fillpattern\":{\"fillmode\":\"overlay\",\"size\":10,\"solidity\":0.2},\"type\":\"scatter\"}],\"parcoords\":[{\"type\":\"parcoords\",\"line\":{\"colorbar\":{\"outlinewidth\":0,\"ticks\":\"\"}}}],\"scatterpolargl\":[{\"type\":\"scatterpolargl\",\"marker\":{\"colorbar\":{\"outlinewidth\":0,\"ticks\":\"\"}}}],\"bar\":[{\"error_x\":{\"color\":\"#2a3f5f\"},\"error_y\":{\"color\":\"#2a3f5f\"},\"marker\":{\"line\":{\"color\":\"#E5ECF6\",\"width\":0.5},\"pattern\":{\"fillmode\":\"overlay\",\"size\":10,\"solidity\":0.2}},\"type\":\"bar\"}],\"scattergeo\":[{\"type\":\"scattergeo\",\"marker\":{\"colorbar\":{\"outlinewidth\":0,\"ticks\":\"\"}}}],\"scatterpolar\":[{\"type\":\"scatterpolar\",\"marker\":{\"colorbar\":{\"outlinewidth\":0,\"ticks\":\"\"}}}],\"histogram\":[{\"marker\":{\"pattern\":{\"fillmode\":\"overlay\",\"size\":10,\"solidity\":0.2}},\"type\":\"histogram\"}],\"scattergl\":[{\"type\":\"scattergl\",\"marker\":{\"colorbar\":{\"outlinewidth\":0,\"ticks\":\"\"}}}],\"scatter3d\":[{\"type\":\"scatter3d\",\"line\":{\"colorbar\":{\"outlinewidth\":0,\"ticks\":\"\"}},\"marker\":{\"colorbar\":{\"outlinewidth\":0,\"ticks\":\"\"}}}],\"scattermapbox\":[{\"type\":\"scattermapbox\",\"marker\":{\"colorbar\":{\"outlinewidth\":0,\"ticks\":\"\"}}}],\"scatterternary\":[{\"type\":\"scatterternary\",\"marker\":{\"colorbar\":{\"outlinewidth\":0,\"ticks\":\"\"}}}],\"scattercarpet\":[{\"type\":\"scattercarpet\",\"marker\":{\"colorbar\":{\"outlinewidth\":0,\"ticks\":\"\"}}}],\"carpet\":[{\"aaxis\":{\"endlinecolor\":\"#2a3f5f\",\"gridcolor\":\"white\",\"linecolor\":\"white\",\"minorgridcolor\":\"white\",\"startlinecolor\":\"#2a3f5f\"},\"baxis\":{\"endlinecolor\":\"#2a3f5f\",\"gridcolor\":\"white\",\"linecolor\":\"white\",\"minorgridcolor\":\"white\",\"startlinecolor\":\"#2a3f5f\"},\"type\":\"carpet\"}],\"table\":[{\"cells\":{\"fill\":{\"color\":\"#EBF0F8\"},\"line\":{\"color\":\"white\"}},\"header\":{\"fill\":{\"color\":\"#C8D4E3\"},\"line\":{\"color\":\"white\"}},\"type\":\"table\"}],\"barpolar\":[{\"marker\":{\"line\":{\"color\":\"#E5ECF6\",\"width\":0.5},\"pattern\":{\"fillmode\":\"overlay\",\"size\":10,\"solidity\":0.2}},\"type\":\"barpolar\"}],\"pie\":[{\"automargin\":true,\"type\":\"pie\"}]},\"layout\":{\"autotypenumbers\":\"strict\",\"colorway\":[\"#636efa\",\"#EF553B\",\"#00cc96\",\"#ab63fa\",\"#FFA15A\",\"#19d3f3\",\"#FF6692\",\"#B6E880\",\"#FF97FF\",\"#FECB52\"],\"font\":{\"color\":\"#2a3f5f\"},\"hovermode\":\"closest\",\"hoverlabel\":{\"align\":\"left\"},\"paper_bgcolor\":\"white\",\"plot_bgcolor\":\"#E5ECF6\",\"polar\":{\"bgcolor\":\"#E5ECF6\",\"angularaxis\":{\"gridcolor\":\"white\",\"linecolor\":\"white\",\"ticks\":\"\"},\"radialaxis\":{\"gridcolor\":\"white\",\"linecolor\":\"white\",\"ticks\":\"\"}},\"ternary\":{\"bgcolor\":\"#E5ECF6\",\"aaxis\":{\"gridcolor\":\"white\",\"linecolor\":\"white\",\"ticks\":\"\"},\"baxis\":{\"gridcolor\":\"white\",\"linecolor\":\"white\",\"ticks\":\"\"},\"caxis\":{\"gridcolor\":\"white\",\"linecolor\":\"white\",\"ticks\":\"\"}},\"coloraxis\":{\"colorbar\":{\"outlinewidth\":0,\"ticks\":\"\"}},\"colorscale\":{\"sequential\":[[0.0,\"#0d0887\"],[0.1111111111111111,\"#46039f\"],[0.2222222222222222,\"#7201a8\"],[0.3333333333333333,\"#9c179e\"],[0.4444444444444444,\"#bd3786\"],[0.5555555555555556,\"#d8576b\"],[0.6666666666666666,\"#ed7953\"],[0.7777777777777778,\"#fb9f3a\"],[0.8888888888888888,\"#fdca26\"],[1.0,\"#f0f921\"]],\"sequentialminus\":[[0.0,\"#0d0887\"],[0.1111111111111111,\"#46039f\"],[0.2222222222222222,\"#7201a8\"],[0.3333333333333333,\"#9c179e\"],[0.4444444444444444,\"#bd3786\"],[0.5555555555555556,\"#d8576b\"],[0.6666666666666666,\"#ed7953\"],[0.7777777777777778,\"#fb9f3a\"],[0.8888888888888888,\"#fdca26\"],[1.0,\"#f0f921\"]],\"diverging\":[[0,\"#8e0152\"],[0.1,\"#c51b7d\"],[0.2,\"#de77ae\"],[0.3,\"#f1b6da\"],[0.4,\"#fde0ef\"],[0.5,\"#f7f7f7\"],[0.6,\"#e6f5d0\"],[0.7,\"#b8e186\"],[0.8,\"#7fbc41\"],[0.9,\"#4d9221\"],[1,\"#276419\"]]},\"xaxis\":{\"gridcolor\":\"white\",\"linecolor\":\"white\",\"ticks\":\"\",\"title\":{\"standoff\":15},\"zerolinecolor\":\"white\",\"automargin\":true,\"zerolinewidth\":2},\"yaxis\":{\"gridcolor\":\"white\",\"linecolor\":\"white\",\"ticks\":\"\",\"title\":{\"standoff\":15},\"zerolinecolor\":\"white\",\"automargin\":true,\"zerolinewidth\":2},\"scene\":{\"xaxis\":{\"backgroundcolor\":\"#E5ECF6\",\"gridcolor\":\"white\",\"linecolor\":\"white\",\"showbackground\":true,\"ticks\":\"\",\"zerolinecolor\":\"white\",\"gridwidth\":2},\"yaxis\":{\"backgroundcolor\":\"#E5ECF6\",\"gridcolor\":\"white\",\"linecolor\":\"white\",\"showbackground\":true,\"ticks\":\"\",\"zerolinecolor\":\"white\",\"gridwidth\":2},\"zaxis\":{\"backgroundcolor\":\"#E5ECF6\",\"gridcolor\":\"white\",\"linecolor\":\"white\",\"showbackground\":true,\"ticks\":\"\",\"zerolinecolor\":\"white\",\"gridwidth\":2}},\"shapedefaults\":{\"line\":{\"color\":\"#2a3f5f\"}},\"annotationdefaults\":{\"arrowcolor\":\"#2a3f5f\",\"arrowhead\":0,\"arrowwidth\":1},\"geo\":{\"bgcolor\":\"white\",\"landcolor\":\"#E5ECF6\",\"subunitcolor\":\"white\",\"showland\":true,\"showlakes\":true,\"lakecolor\":\"white\"},\"title\":{\"x\":0.05},\"mapbox\":{\"style\":\"light\"}}},\"xaxis\":{\"anchor\":\"y\",\"domain\":[0.0,1.0],\"title\":{\"text\":\"Pa\\u00eds\"},\"tickangle\":-45},\"yaxis\":{\"anchor\":\"x\",\"domain\":[0.0,1.0],\"title\":{\"text\":\"N\\u00famero de Pedidos\"}},\"coloraxis\":{\"colorbar\":{\"title\":{\"text\":\"Pedidos\"}},\"colorscale\":[[0.0,\"rgb(150,0,90)\"],[0.125,\"rgb(0,0,200)\"],[0.25,\"rgb(0,25,255)\"],[0.375,\"rgb(0,152,255)\"],[0.5,\"rgb(44,255,150)\"],[0.625,\"rgb(151,255,0)\"],[0.75,\"rgb(255,234,0)\"],[0.875,\"rgb(255,111,0)\"],[1.0,\"rgb(255,0,0)\"]]},\"legend\":{\"tracegroupgap\":0},\"title\":{\"text\":\"Top 10 Pa\\u00edses com Mais Pedidos\"},\"barmode\":\"relative\"},                        {\"responsive\": true}                    ).then(function(){\n",
       "                            \n",
       "var gd = document.getElementById('bc58add3-7639-4017-9a62-dede18253fe5');\n",
       "var x = new MutationObserver(function (mutations, observer) {{\n",
       "        var display = window.getComputedStyle(gd).display;\n",
       "        if (!display || display === 'none') {{\n",
       "            console.log([gd, 'removed!']);\n",
       "            Plotly.purge(gd);\n",
       "            observer.disconnect();\n",
       "        }}\n",
       "}});\n",
       "\n",
       "// Listen for the removal of the full notebook cells\n",
       "var notebookContainer = gd.closest('#notebook-container');\n",
       "if (notebookContainer) {{\n",
       "    x.observe(notebookContainer, {childList: true});\n",
       "}}\n",
       "\n",
       "// Listen for the clearing of the current output cell\n",
       "var outputEl = gd.closest('.output');\n",
       "if (outputEl) {{\n",
       "    x.observe(outputEl, {childList: true});\n",
       "}}\n",
       "\n",
       "                        })                };                });            </script>        </div>"
      ]
     },
     "metadata": {},
     "output_type": "display_data"
    }
   ],
   "source": [
    "# Importa as bibliotecas que preciso para o gráfico.\n",
    "import pandas as pd\n",
    "import plotly.express as px\n",
    "\n",
    "# Efetua a contagem do pedido.\n",
    "# Poderia utilizar tambem os dados da célula acima.\n",
    "contagem_paises = df['Shipped To'].value_counts().reset_index()\n",
    "contagem_paises.columns = ['Pais', 'Pedidos']\n",
    "\n",
    "# Obtém os 10 países com mais pedidos.\n",
    "top_10_paises = contagem_paises.head(10)\n",
    "\n",
    "# Gera o gráfico de barras\n",
    "fig = px.bar(top_10_paises, \n",
    "             x='Pais', \n",
    "             y='Pedidos', \n",
    "             color='Pedidos',\n",
    "             title='Top 10 Países com Mais Pedidos',\n",
    "             color_continuous_scale='Rainbow')  # Usando uma escala de cores mais viva\n",
    "\n",
    "# Ajustar o layout do gráfico\n",
    "fig.update_layout(xaxis_title='País',\n",
    "                  yaxis_title='Número de Pedidos',\n",
    "                  xaxis_tickangle=-45)  # Rotaciona os rótulos do eixo x para melhor legibilidade\n",
    "\n",
    "# Mostrar o gráfico\n",
    "fig.show()\n"
   ]
  },
  {
   "cell_type": "code",
   "execution_count": 51,
   "id": "65105718",
   "metadata": {},
   "outputs": [
    {
     "data": {
      "application/vnd.plotly.v1+json": {
       "config": {
        "plotlyServerURL": "https://plot.ly"
       },
       "data": [
        {
         "customdata": [
          [
           "United States"
          ],
          [
           "Australia"
          ],
          [
           "Germany"
          ],
          [
           "Canada"
          ],
          [
           "Japan"
          ]
         ],
         "domain": {
          "x": [
           0,
           1
          ],
          "y": [
           0,
           1
          ]
         },
         "hovertemplate": "Pais=%{customdata[0]}<br>Pedidos=%{value}<extra></extra>",
         "labels": [
          "United States",
          "Australia",
          "Germany",
          "Canada",
          "Japan"
         ],
         "legendgroup": "",
         "marker": {
          "colors": [
           "#636EFA",
           "#EF553B",
           "#00CC96",
           "#AB63FA",
           "#FFA15A"
          ]
         },
         "name": "",
         "showlegend": true,
         "type": "pie",
         "values": [
          23692,
          1624,
          1368,
          1044,
          1010
         ]
        }
       ],
       "layout": {
        "legend": {
         "tracegroupgap": 0
        },
        "piecolorway": [
         "#636EFA",
         "#EF553B",
         "#00CC96",
         "#AB63FA",
         "#FFA15A",
         "#19D3F3",
         "#FF6692",
         "#B6E880",
         "#FF97FF",
         "#FECB52"
        ],
        "template": {
         "data": {
          "bar": [
           {
            "error_x": {
             "color": "#2a3f5f"
            },
            "error_y": {
             "color": "#2a3f5f"
            },
            "marker": {
             "line": {
              "color": "#E5ECF6",
              "width": 0.5
             },
             "pattern": {
              "fillmode": "overlay",
              "size": 10,
              "solidity": 0.2
             }
            },
            "type": "bar"
           }
          ],
          "barpolar": [
           {
            "marker": {
             "line": {
              "color": "#E5ECF6",
              "width": 0.5
             },
             "pattern": {
              "fillmode": "overlay",
              "size": 10,
              "solidity": 0.2
             }
            },
            "type": "barpolar"
           }
          ],
          "carpet": [
           {
            "aaxis": {
             "endlinecolor": "#2a3f5f",
             "gridcolor": "white",
             "linecolor": "white",
             "minorgridcolor": "white",
             "startlinecolor": "#2a3f5f"
            },
            "baxis": {
             "endlinecolor": "#2a3f5f",
             "gridcolor": "white",
             "linecolor": "white",
             "minorgridcolor": "white",
             "startlinecolor": "#2a3f5f"
            },
            "type": "carpet"
           }
          ],
          "choropleth": [
           {
            "colorbar": {
             "outlinewidth": 0,
             "ticks": ""
            },
            "type": "choropleth"
           }
          ],
          "contour": [
           {
            "colorbar": {
             "outlinewidth": 0,
             "ticks": ""
            },
            "colorscale": [
             [
              0,
              "#0d0887"
             ],
             [
              0.1111111111111111,
              "#46039f"
             ],
             [
              0.2222222222222222,
              "#7201a8"
             ],
             [
              0.3333333333333333,
              "#9c179e"
             ],
             [
              0.4444444444444444,
              "#bd3786"
             ],
             [
              0.5555555555555556,
              "#d8576b"
             ],
             [
              0.6666666666666666,
              "#ed7953"
             ],
             [
              0.7777777777777778,
              "#fb9f3a"
             ],
             [
              0.8888888888888888,
              "#fdca26"
             ],
             [
              1,
              "#f0f921"
             ]
            ],
            "type": "contour"
           }
          ],
          "contourcarpet": [
           {
            "colorbar": {
             "outlinewidth": 0,
             "ticks": ""
            },
            "type": "contourcarpet"
           }
          ],
          "heatmap": [
           {
            "colorbar": {
             "outlinewidth": 0,
             "ticks": ""
            },
            "colorscale": [
             [
              0,
              "#0d0887"
             ],
             [
              0.1111111111111111,
              "#46039f"
             ],
             [
              0.2222222222222222,
              "#7201a8"
             ],
             [
              0.3333333333333333,
              "#9c179e"
             ],
             [
              0.4444444444444444,
              "#bd3786"
             ],
             [
              0.5555555555555556,
              "#d8576b"
             ],
             [
              0.6666666666666666,
              "#ed7953"
             ],
             [
              0.7777777777777778,
              "#fb9f3a"
             ],
             [
              0.8888888888888888,
              "#fdca26"
             ],
             [
              1,
              "#f0f921"
             ]
            ],
            "type": "heatmap"
           }
          ],
          "heatmapgl": [
           {
            "colorbar": {
             "outlinewidth": 0,
             "ticks": ""
            },
            "colorscale": [
             [
              0,
              "#0d0887"
             ],
             [
              0.1111111111111111,
              "#46039f"
             ],
             [
              0.2222222222222222,
              "#7201a8"
             ],
             [
              0.3333333333333333,
              "#9c179e"
             ],
             [
              0.4444444444444444,
              "#bd3786"
             ],
             [
              0.5555555555555556,
              "#d8576b"
             ],
             [
              0.6666666666666666,
              "#ed7953"
             ],
             [
              0.7777777777777778,
              "#fb9f3a"
             ],
             [
              0.8888888888888888,
              "#fdca26"
             ],
             [
              1,
              "#f0f921"
             ]
            ],
            "type": "heatmapgl"
           }
          ],
          "histogram": [
           {
            "marker": {
             "pattern": {
              "fillmode": "overlay",
              "size": 10,
              "solidity": 0.2
             }
            },
            "type": "histogram"
           }
          ],
          "histogram2d": [
           {
            "colorbar": {
             "outlinewidth": 0,
             "ticks": ""
            },
            "colorscale": [
             [
              0,
              "#0d0887"
             ],
             [
              0.1111111111111111,
              "#46039f"
             ],
             [
              0.2222222222222222,
              "#7201a8"
             ],
             [
              0.3333333333333333,
              "#9c179e"
             ],
             [
              0.4444444444444444,
              "#bd3786"
             ],
             [
              0.5555555555555556,
              "#d8576b"
             ],
             [
              0.6666666666666666,
              "#ed7953"
             ],
             [
              0.7777777777777778,
              "#fb9f3a"
             ],
             [
              0.8888888888888888,
              "#fdca26"
             ],
             [
              1,
              "#f0f921"
             ]
            ],
            "type": "histogram2d"
           }
          ],
          "histogram2dcontour": [
           {
            "colorbar": {
             "outlinewidth": 0,
             "ticks": ""
            },
            "colorscale": [
             [
              0,
              "#0d0887"
             ],
             [
              0.1111111111111111,
              "#46039f"
             ],
             [
              0.2222222222222222,
              "#7201a8"
             ],
             [
              0.3333333333333333,
              "#9c179e"
             ],
             [
              0.4444444444444444,
              "#bd3786"
             ],
             [
              0.5555555555555556,
              "#d8576b"
             ],
             [
              0.6666666666666666,
              "#ed7953"
             ],
             [
              0.7777777777777778,
              "#fb9f3a"
             ],
             [
              0.8888888888888888,
              "#fdca26"
             ],
             [
              1,
              "#f0f921"
             ]
            ],
            "type": "histogram2dcontour"
           }
          ],
          "mesh3d": [
           {
            "colorbar": {
             "outlinewidth": 0,
             "ticks": ""
            },
            "type": "mesh3d"
           }
          ],
          "parcoords": [
           {
            "line": {
             "colorbar": {
              "outlinewidth": 0,
              "ticks": ""
             }
            },
            "type": "parcoords"
           }
          ],
          "pie": [
           {
            "automargin": true,
            "type": "pie"
           }
          ],
          "scatter": [
           {
            "fillpattern": {
             "fillmode": "overlay",
             "size": 10,
             "solidity": 0.2
            },
            "type": "scatter"
           }
          ],
          "scatter3d": [
           {
            "line": {
             "colorbar": {
              "outlinewidth": 0,
              "ticks": ""
             }
            },
            "marker": {
             "colorbar": {
              "outlinewidth": 0,
              "ticks": ""
             }
            },
            "type": "scatter3d"
           }
          ],
          "scattercarpet": [
           {
            "marker": {
             "colorbar": {
              "outlinewidth": 0,
              "ticks": ""
             }
            },
            "type": "scattercarpet"
           }
          ],
          "scattergeo": [
           {
            "marker": {
             "colorbar": {
              "outlinewidth": 0,
              "ticks": ""
             }
            },
            "type": "scattergeo"
           }
          ],
          "scattergl": [
           {
            "marker": {
             "colorbar": {
              "outlinewidth": 0,
              "ticks": ""
             }
            },
            "type": "scattergl"
           }
          ],
          "scattermapbox": [
           {
            "marker": {
             "colorbar": {
              "outlinewidth": 0,
              "ticks": ""
             }
            },
            "type": "scattermapbox"
           }
          ],
          "scatterpolar": [
           {
            "marker": {
             "colorbar": {
              "outlinewidth": 0,
              "ticks": ""
             }
            },
            "type": "scatterpolar"
           }
          ],
          "scatterpolargl": [
           {
            "marker": {
             "colorbar": {
              "outlinewidth": 0,
              "ticks": ""
             }
            },
            "type": "scatterpolargl"
           }
          ],
          "scatterternary": [
           {
            "marker": {
             "colorbar": {
              "outlinewidth": 0,
              "ticks": ""
             }
            },
            "type": "scatterternary"
           }
          ],
          "surface": [
           {
            "colorbar": {
             "outlinewidth": 0,
             "ticks": ""
            },
            "colorscale": [
             [
              0,
              "#0d0887"
             ],
             [
              0.1111111111111111,
              "#46039f"
             ],
             [
              0.2222222222222222,
              "#7201a8"
             ],
             [
              0.3333333333333333,
              "#9c179e"
             ],
             [
              0.4444444444444444,
              "#bd3786"
             ],
             [
              0.5555555555555556,
              "#d8576b"
             ],
             [
              0.6666666666666666,
              "#ed7953"
             ],
             [
              0.7777777777777778,
              "#fb9f3a"
             ],
             [
              0.8888888888888888,
              "#fdca26"
             ],
             [
              1,
              "#f0f921"
             ]
            ],
            "type": "surface"
           }
          ],
          "table": [
           {
            "cells": {
             "fill": {
              "color": "#EBF0F8"
             },
             "line": {
              "color": "white"
             }
            },
            "header": {
             "fill": {
              "color": "#C8D4E3"
             },
             "line": {
              "color": "white"
             }
            },
            "type": "table"
           }
          ]
         },
         "layout": {
          "annotationdefaults": {
           "arrowcolor": "#2a3f5f",
           "arrowhead": 0,
           "arrowwidth": 1
          },
          "autotypenumbers": "strict",
          "coloraxis": {
           "colorbar": {
            "outlinewidth": 0,
            "ticks": ""
           }
          },
          "colorscale": {
           "diverging": [
            [
             0,
             "#8e0152"
            ],
            [
             0.1,
             "#c51b7d"
            ],
            [
             0.2,
             "#de77ae"
            ],
            [
             0.3,
             "#f1b6da"
            ],
            [
             0.4,
             "#fde0ef"
            ],
            [
             0.5,
             "#f7f7f7"
            ],
            [
             0.6,
             "#e6f5d0"
            ],
            [
             0.7,
             "#b8e186"
            ],
            [
             0.8,
             "#7fbc41"
            ],
            [
             0.9,
             "#4d9221"
            ],
            [
             1,
             "#276419"
            ]
           ],
           "sequential": [
            [
             0,
             "#0d0887"
            ],
            [
             0.1111111111111111,
             "#46039f"
            ],
            [
             0.2222222222222222,
             "#7201a8"
            ],
            [
             0.3333333333333333,
             "#9c179e"
            ],
            [
             0.4444444444444444,
             "#bd3786"
            ],
            [
             0.5555555555555556,
             "#d8576b"
            ],
            [
             0.6666666666666666,
             "#ed7953"
            ],
            [
             0.7777777777777778,
             "#fb9f3a"
            ],
            [
             0.8888888888888888,
             "#fdca26"
            ],
            [
             1,
             "#f0f921"
            ]
           ],
           "sequentialminus": [
            [
             0,
             "#0d0887"
            ],
            [
             0.1111111111111111,
             "#46039f"
            ],
            [
             0.2222222222222222,
             "#7201a8"
            ],
            [
             0.3333333333333333,
             "#9c179e"
            ],
            [
             0.4444444444444444,
             "#bd3786"
            ],
            [
             0.5555555555555556,
             "#d8576b"
            ],
            [
             0.6666666666666666,
             "#ed7953"
            ],
            [
             0.7777777777777778,
             "#fb9f3a"
            ],
            [
             0.8888888888888888,
             "#fdca26"
            ],
            [
             1,
             "#f0f921"
            ]
           ]
          },
          "colorway": [
           "#636efa",
           "#EF553B",
           "#00cc96",
           "#ab63fa",
           "#FFA15A",
           "#19d3f3",
           "#FF6692",
           "#B6E880",
           "#FF97FF",
           "#FECB52"
          ],
          "font": {
           "color": "#2a3f5f"
          },
          "geo": {
           "bgcolor": "white",
           "lakecolor": "white",
           "landcolor": "#E5ECF6",
           "showlakes": true,
           "showland": true,
           "subunitcolor": "white"
          },
          "hoverlabel": {
           "align": "left"
          },
          "hovermode": "closest",
          "mapbox": {
           "style": "light"
          },
          "paper_bgcolor": "white",
          "plot_bgcolor": "#E5ECF6",
          "polar": {
           "angularaxis": {
            "gridcolor": "white",
            "linecolor": "white",
            "ticks": ""
           },
           "bgcolor": "#E5ECF6",
           "radialaxis": {
            "gridcolor": "white",
            "linecolor": "white",
            "ticks": ""
           }
          },
          "scene": {
           "xaxis": {
            "backgroundcolor": "#E5ECF6",
            "gridcolor": "white",
            "gridwidth": 2,
            "linecolor": "white",
            "showbackground": true,
            "ticks": "",
            "zerolinecolor": "white"
           },
           "yaxis": {
            "backgroundcolor": "#E5ECF6",
            "gridcolor": "white",
            "gridwidth": 2,
            "linecolor": "white",
            "showbackground": true,
            "ticks": "",
            "zerolinecolor": "white"
           },
           "zaxis": {
            "backgroundcolor": "#E5ECF6",
            "gridcolor": "white",
            "gridwidth": 2,
            "linecolor": "white",
            "showbackground": true,
            "ticks": "",
            "zerolinecolor": "white"
           }
          },
          "shapedefaults": {
           "line": {
            "color": "#2a3f5f"
           }
          },
          "ternary": {
           "aaxis": {
            "gridcolor": "white",
            "linecolor": "white",
            "ticks": ""
           },
           "baxis": {
            "gridcolor": "white",
            "linecolor": "white",
            "ticks": ""
           },
           "bgcolor": "#E5ECF6",
           "caxis": {
            "gridcolor": "white",
            "linecolor": "white",
            "ticks": ""
           }
          },
          "title": {
           "x": 0.05
          },
          "xaxis": {
           "automargin": true,
           "gridcolor": "white",
           "linecolor": "white",
           "ticks": "",
           "title": {
            "standoff": 15
           },
           "zerolinecolor": "white",
           "zerolinewidth": 2
          },
          "yaxis": {
           "automargin": true,
           "gridcolor": "white",
           "linecolor": "white",
           "ticks": "",
           "title": {
            "standoff": 15
           },
           "zerolinecolor": "white",
           "zerolinewidth": 2
          }
         }
        },
        "title": {
         "text": "Top 5 Países com Mais Pedidos"
        }
       }
      },
      "text/html": [
       "<div>                            <div id=\"40093fec-8d63-4e37-a047-41d9cef7d9fd\" class=\"plotly-graph-div\" style=\"height:525px; width:100%;\"></div>            <script type=\"text/javascript\">                require([\"plotly\"], function(Plotly) {                    window.PLOTLYENV=window.PLOTLYENV || {};                                    if (document.getElementById(\"40093fec-8d63-4e37-a047-41d9cef7d9fd\")) {                    Plotly.newPlot(                        \"40093fec-8d63-4e37-a047-41d9cef7d9fd\",                        [{\"customdata\":[[\"United States\"],[\"Australia\"],[\"Germany\"],[\"Canada\"],[\"Japan\"]],\"domain\":{\"x\":[0.0,1.0],\"y\":[0.0,1.0]},\"hovertemplate\":\"Pais=%{customdata[0]}\\u003cbr\\u003ePedidos=%{value}\\u003cextra\\u003e\\u003c\\u002fextra\\u003e\",\"labels\":[\"United States\",\"Australia\",\"Germany\",\"Canada\",\"Japan\"],\"legendgroup\":\"\",\"marker\":{\"colors\":[\"#636EFA\",\"#EF553B\",\"#00CC96\",\"#AB63FA\",\"#FFA15A\"]},\"name\":\"\",\"showlegend\":true,\"values\":[23692,1624,1368,1044,1010],\"type\":\"pie\"}],                        {\"template\":{\"data\":{\"histogram2dcontour\":[{\"type\":\"histogram2dcontour\",\"colorbar\":{\"outlinewidth\":0,\"ticks\":\"\"},\"colorscale\":[[0.0,\"#0d0887\"],[0.1111111111111111,\"#46039f\"],[0.2222222222222222,\"#7201a8\"],[0.3333333333333333,\"#9c179e\"],[0.4444444444444444,\"#bd3786\"],[0.5555555555555556,\"#d8576b\"],[0.6666666666666666,\"#ed7953\"],[0.7777777777777778,\"#fb9f3a\"],[0.8888888888888888,\"#fdca26\"],[1.0,\"#f0f921\"]]}],\"choropleth\":[{\"type\":\"choropleth\",\"colorbar\":{\"outlinewidth\":0,\"ticks\":\"\"}}],\"histogram2d\":[{\"type\":\"histogram2d\",\"colorbar\":{\"outlinewidth\":0,\"ticks\":\"\"},\"colorscale\":[[0.0,\"#0d0887\"],[0.1111111111111111,\"#46039f\"],[0.2222222222222222,\"#7201a8\"],[0.3333333333333333,\"#9c179e\"],[0.4444444444444444,\"#bd3786\"],[0.5555555555555556,\"#d8576b\"],[0.6666666666666666,\"#ed7953\"],[0.7777777777777778,\"#fb9f3a\"],[0.8888888888888888,\"#fdca26\"],[1.0,\"#f0f921\"]]}],\"heatmap\":[{\"type\":\"heatmap\",\"colorbar\":{\"outlinewidth\":0,\"ticks\":\"\"},\"colorscale\":[[0.0,\"#0d0887\"],[0.1111111111111111,\"#46039f\"],[0.2222222222222222,\"#7201a8\"],[0.3333333333333333,\"#9c179e\"],[0.4444444444444444,\"#bd3786\"],[0.5555555555555556,\"#d8576b\"],[0.6666666666666666,\"#ed7953\"],[0.7777777777777778,\"#fb9f3a\"],[0.8888888888888888,\"#fdca26\"],[1.0,\"#f0f921\"]]}],\"heatmapgl\":[{\"type\":\"heatmapgl\",\"colorbar\":{\"outlinewidth\":0,\"ticks\":\"\"},\"colorscale\":[[0.0,\"#0d0887\"],[0.1111111111111111,\"#46039f\"],[0.2222222222222222,\"#7201a8\"],[0.3333333333333333,\"#9c179e\"],[0.4444444444444444,\"#bd3786\"],[0.5555555555555556,\"#d8576b\"],[0.6666666666666666,\"#ed7953\"],[0.7777777777777778,\"#fb9f3a\"],[0.8888888888888888,\"#fdca26\"],[1.0,\"#f0f921\"]]}],\"contourcarpet\":[{\"type\":\"contourcarpet\",\"colorbar\":{\"outlinewidth\":0,\"ticks\":\"\"}}],\"contour\":[{\"type\":\"contour\",\"colorbar\":{\"outlinewidth\":0,\"ticks\":\"\"},\"colorscale\":[[0.0,\"#0d0887\"],[0.1111111111111111,\"#46039f\"],[0.2222222222222222,\"#7201a8\"],[0.3333333333333333,\"#9c179e\"],[0.4444444444444444,\"#bd3786\"],[0.5555555555555556,\"#d8576b\"],[0.6666666666666666,\"#ed7953\"],[0.7777777777777778,\"#fb9f3a\"],[0.8888888888888888,\"#fdca26\"],[1.0,\"#f0f921\"]]}],\"surface\":[{\"type\":\"surface\",\"colorbar\":{\"outlinewidth\":0,\"ticks\":\"\"},\"colorscale\":[[0.0,\"#0d0887\"],[0.1111111111111111,\"#46039f\"],[0.2222222222222222,\"#7201a8\"],[0.3333333333333333,\"#9c179e\"],[0.4444444444444444,\"#bd3786\"],[0.5555555555555556,\"#d8576b\"],[0.6666666666666666,\"#ed7953\"],[0.7777777777777778,\"#fb9f3a\"],[0.8888888888888888,\"#fdca26\"],[1.0,\"#f0f921\"]]}],\"mesh3d\":[{\"type\":\"mesh3d\",\"colorbar\":{\"outlinewidth\":0,\"ticks\":\"\"}}],\"scatter\":[{\"fillpattern\":{\"fillmode\":\"overlay\",\"size\":10,\"solidity\":0.2},\"type\":\"scatter\"}],\"parcoords\":[{\"type\":\"parcoords\",\"line\":{\"colorbar\":{\"outlinewidth\":0,\"ticks\":\"\"}}}],\"scatterpolargl\":[{\"type\":\"scatterpolargl\",\"marker\":{\"colorbar\":{\"outlinewidth\":0,\"ticks\":\"\"}}}],\"bar\":[{\"error_x\":{\"color\":\"#2a3f5f\"},\"error_y\":{\"color\":\"#2a3f5f\"},\"marker\":{\"line\":{\"color\":\"#E5ECF6\",\"width\":0.5},\"pattern\":{\"fillmode\":\"overlay\",\"size\":10,\"solidity\":0.2}},\"type\":\"bar\"}],\"scattergeo\":[{\"type\":\"scattergeo\",\"marker\":{\"colorbar\":{\"outlinewidth\":0,\"ticks\":\"\"}}}],\"scatterpolar\":[{\"type\":\"scatterpolar\",\"marker\":{\"colorbar\":{\"outlinewidth\":0,\"ticks\":\"\"}}}],\"histogram\":[{\"marker\":{\"pattern\":{\"fillmode\":\"overlay\",\"size\":10,\"solidity\":0.2}},\"type\":\"histogram\"}],\"scattergl\":[{\"type\":\"scattergl\",\"marker\":{\"colorbar\":{\"outlinewidth\":0,\"ticks\":\"\"}}}],\"scatter3d\":[{\"type\":\"scatter3d\",\"line\":{\"colorbar\":{\"outlinewidth\":0,\"ticks\":\"\"}},\"marker\":{\"colorbar\":{\"outlinewidth\":0,\"ticks\":\"\"}}}],\"scattermapbox\":[{\"type\":\"scattermapbox\",\"marker\":{\"colorbar\":{\"outlinewidth\":0,\"ticks\":\"\"}}}],\"scatterternary\":[{\"type\":\"scatterternary\",\"marker\":{\"colorbar\":{\"outlinewidth\":0,\"ticks\":\"\"}}}],\"scattercarpet\":[{\"type\":\"scattercarpet\",\"marker\":{\"colorbar\":{\"outlinewidth\":0,\"ticks\":\"\"}}}],\"carpet\":[{\"aaxis\":{\"endlinecolor\":\"#2a3f5f\",\"gridcolor\":\"white\",\"linecolor\":\"white\",\"minorgridcolor\":\"white\",\"startlinecolor\":\"#2a3f5f\"},\"baxis\":{\"endlinecolor\":\"#2a3f5f\",\"gridcolor\":\"white\",\"linecolor\":\"white\",\"minorgridcolor\":\"white\",\"startlinecolor\":\"#2a3f5f\"},\"type\":\"carpet\"}],\"table\":[{\"cells\":{\"fill\":{\"color\":\"#EBF0F8\"},\"line\":{\"color\":\"white\"}},\"header\":{\"fill\":{\"color\":\"#C8D4E3\"},\"line\":{\"color\":\"white\"}},\"type\":\"table\"}],\"barpolar\":[{\"marker\":{\"line\":{\"color\":\"#E5ECF6\",\"width\":0.5},\"pattern\":{\"fillmode\":\"overlay\",\"size\":10,\"solidity\":0.2}},\"type\":\"barpolar\"}],\"pie\":[{\"automargin\":true,\"type\":\"pie\"}]},\"layout\":{\"autotypenumbers\":\"strict\",\"colorway\":[\"#636efa\",\"#EF553B\",\"#00cc96\",\"#ab63fa\",\"#FFA15A\",\"#19d3f3\",\"#FF6692\",\"#B6E880\",\"#FF97FF\",\"#FECB52\"],\"font\":{\"color\":\"#2a3f5f\"},\"hovermode\":\"closest\",\"hoverlabel\":{\"align\":\"left\"},\"paper_bgcolor\":\"white\",\"plot_bgcolor\":\"#E5ECF6\",\"polar\":{\"bgcolor\":\"#E5ECF6\",\"angularaxis\":{\"gridcolor\":\"white\",\"linecolor\":\"white\",\"ticks\":\"\"},\"radialaxis\":{\"gridcolor\":\"white\",\"linecolor\":\"white\",\"ticks\":\"\"}},\"ternary\":{\"bgcolor\":\"#E5ECF6\",\"aaxis\":{\"gridcolor\":\"white\",\"linecolor\":\"white\",\"ticks\":\"\"},\"baxis\":{\"gridcolor\":\"white\",\"linecolor\":\"white\",\"ticks\":\"\"},\"caxis\":{\"gridcolor\":\"white\",\"linecolor\":\"white\",\"ticks\":\"\"}},\"coloraxis\":{\"colorbar\":{\"outlinewidth\":0,\"ticks\":\"\"}},\"colorscale\":{\"sequential\":[[0.0,\"#0d0887\"],[0.1111111111111111,\"#46039f\"],[0.2222222222222222,\"#7201a8\"],[0.3333333333333333,\"#9c179e\"],[0.4444444444444444,\"#bd3786\"],[0.5555555555555556,\"#d8576b\"],[0.6666666666666666,\"#ed7953\"],[0.7777777777777778,\"#fb9f3a\"],[0.8888888888888888,\"#fdca26\"],[1.0,\"#f0f921\"]],\"sequentialminus\":[[0.0,\"#0d0887\"],[0.1111111111111111,\"#46039f\"],[0.2222222222222222,\"#7201a8\"],[0.3333333333333333,\"#9c179e\"],[0.4444444444444444,\"#bd3786\"],[0.5555555555555556,\"#d8576b\"],[0.6666666666666666,\"#ed7953\"],[0.7777777777777778,\"#fb9f3a\"],[0.8888888888888888,\"#fdca26\"],[1.0,\"#f0f921\"]],\"diverging\":[[0,\"#8e0152\"],[0.1,\"#c51b7d\"],[0.2,\"#de77ae\"],[0.3,\"#f1b6da\"],[0.4,\"#fde0ef\"],[0.5,\"#f7f7f7\"],[0.6,\"#e6f5d0\"],[0.7,\"#b8e186\"],[0.8,\"#7fbc41\"],[0.9,\"#4d9221\"],[1,\"#276419\"]]},\"xaxis\":{\"gridcolor\":\"white\",\"linecolor\":\"white\",\"ticks\":\"\",\"title\":{\"standoff\":15},\"zerolinecolor\":\"white\",\"automargin\":true,\"zerolinewidth\":2},\"yaxis\":{\"gridcolor\":\"white\",\"linecolor\":\"white\",\"ticks\":\"\",\"title\":{\"standoff\":15},\"zerolinecolor\":\"white\",\"automargin\":true,\"zerolinewidth\":2},\"scene\":{\"xaxis\":{\"backgroundcolor\":\"#E5ECF6\",\"gridcolor\":\"white\",\"linecolor\":\"white\",\"showbackground\":true,\"ticks\":\"\",\"zerolinecolor\":\"white\",\"gridwidth\":2},\"yaxis\":{\"backgroundcolor\":\"#E5ECF6\",\"gridcolor\":\"white\",\"linecolor\":\"white\",\"showbackground\":true,\"ticks\":\"\",\"zerolinecolor\":\"white\",\"gridwidth\":2},\"zaxis\":{\"backgroundcolor\":\"#E5ECF6\",\"gridcolor\":\"white\",\"linecolor\":\"white\",\"showbackground\":true,\"ticks\":\"\",\"zerolinecolor\":\"white\",\"gridwidth\":2}},\"shapedefaults\":{\"line\":{\"color\":\"#2a3f5f\"}},\"annotationdefaults\":{\"arrowcolor\":\"#2a3f5f\",\"arrowhead\":0,\"arrowwidth\":1},\"geo\":{\"bgcolor\":\"white\",\"landcolor\":\"#E5ECF6\",\"subunitcolor\":\"white\",\"showland\":true,\"showlakes\":true,\"lakecolor\":\"white\"},\"title\":{\"x\":0.05},\"mapbox\":{\"style\":\"light\"}}},\"legend\":{\"tracegroupgap\":0},\"title\":{\"text\":\"Top 5 Pa\\u00edses com Mais Pedidos\"},\"piecolorway\":[\"#636EFA\",\"#EF553B\",\"#00CC96\",\"#AB63FA\",\"#FFA15A\",\"#19D3F3\",\"#FF6692\",\"#B6E880\",\"#FF97FF\",\"#FECB52\"]},                        {\"responsive\": true}                    ).then(function(){\n",
       "                            \n",
       "var gd = document.getElementById('40093fec-8d63-4e37-a047-41d9cef7d9fd');\n",
       "var x = new MutationObserver(function (mutations, observer) {{\n",
       "        var display = window.getComputedStyle(gd).display;\n",
       "        if (!display || display === 'none') {{\n",
       "            console.log([gd, 'removed!']);\n",
       "            Plotly.purge(gd);\n",
       "            observer.disconnect();\n",
       "        }}\n",
       "}});\n",
       "\n",
       "// Listen for the removal of the full notebook cells\n",
       "var notebookContainer = gd.closest('#notebook-container');\n",
       "if (notebookContainer) {{\n",
       "    x.observe(notebookContainer, {childList: true});\n",
       "}}\n",
       "\n",
       "// Listen for the clearing of the current output cell\n",
       "var outputEl = gd.closest('.output');\n",
       "if (outputEl) {{\n",
       "    x.observe(outputEl, {childList: true});\n",
       "}}\n",
       "\n",
       "                        })                };                });            </script>        </div>"
      ]
     },
     "metadata": {},
     "output_type": "display_data"
    }
   ],
   "source": [
    "# Geração do gráfico de pizza.\n",
    "\n",
    "# Importa as bibliotecas que usaremos.\n",
    "import pandas as pd\n",
    "import plotly.express as px\n",
    "\n",
    "# Contagem de número de pedidos por país.\n",
    "contagem_paises = df['Shipped To'].value_counts().reset_index()\n",
    "contagem_paises.columns = ['Pais', 'Pedidos']\n",
    "\n",
    "# Selecionar os 10 países com mais pedidos\n",
    "top_5_paises = contagem_paises.head(5)\n",
    "\n",
    "# Gera o gráfico\n",
    "fig = px.pie(top_5_paises, \n",
    "             names='Pais', \n",
    "             values='Pedidos', \n",
    "             title='Top 5 Países com Mais Pedidos',\n",
    "             color='Pais',  # Cada fatia representa um país com uma cor.\n",
    "             color_discrete_sequence=px.colors.qualitative.Plotly)  # Define escala de cores qualitativa\n",
    "\n",
    "# Exibe o gráfico.\n",
    "fig.show()\n"
   ]
  },
  {
   "cell_type": "code",
   "execution_count": 58,
   "id": "4cf25045",
   "metadata": {},
   "outputs": [
    {
     "data": {
      "application/vnd.plotly.v1+json": {
       "config": {
        "plotlyServerURL": "https://plot.ly"
       },
       "data": [
        {
         "hovertemplate": "Ano=%{x}<br>Pedidos=%{y}<extra></extra>",
         "legendgroup": "",
         "line": {
          "color": "#636efa",
          "dash": "solid"
         },
         "marker": {
          "symbol": "circle"
         },
         "mode": "lines+markers",
         "name": "",
         "orientation": "v",
         "showlegend": false,
         "type": "scatter",
         "x": [
          2011,
          2012,
          2013,
          2014,
          2015,
          2016,
          2017,
          2018,
          2019,
          2020,
          2021,
          2022,
          2023,
          2024
         ],
         "xaxis": "x",
         "y": [
          2,
          47,
          638,
          1266,
          2403,
          3883,
          2830,
          3658,
          4999,
          3701,
          3596,
          3486,
          1288,
          442
         ],
         "yaxis": "y"
        }
       ],
       "layout": {
        "legend": {
         "tracegroupgap": 0
        },
        "template": {
         "data": {
          "bar": [
           {
            "error_x": {
             "color": "#2a3f5f"
            },
            "error_y": {
             "color": "#2a3f5f"
            },
            "marker": {
             "line": {
              "color": "#E5ECF6",
              "width": 0.5
             },
             "pattern": {
              "fillmode": "overlay",
              "size": 10,
              "solidity": 0.2
             }
            },
            "type": "bar"
           }
          ],
          "barpolar": [
           {
            "marker": {
             "line": {
              "color": "#E5ECF6",
              "width": 0.5
             },
             "pattern": {
              "fillmode": "overlay",
              "size": 10,
              "solidity": 0.2
             }
            },
            "type": "barpolar"
           }
          ],
          "carpet": [
           {
            "aaxis": {
             "endlinecolor": "#2a3f5f",
             "gridcolor": "white",
             "linecolor": "white",
             "minorgridcolor": "white",
             "startlinecolor": "#2a3f5f"
            },
            "baxis": {
             "endlinecolor": "#2a3f5f",
             "gridcolor": "white",
             "linecolor": "white",
             "minorgridcolor": "white",
             "startlinecolor": "#2a3f5f"
            },
            "type": "carpet"
           }
          ],
          "choropleth": [
           {
            "colorbar": {
             "outlinewidth": 0,
             "ticks": ""
            },
            "type": "choropleth"
           }
          ],
          "contour": [
           {
            "colorbar": {
             "outlinewidth": 0,
             "ticks": ""
            },
            "colorscale": [
             [
              0,
              "#0d0887"
             ],
             [
              0.1111111111111111,
              "#46039f"
             ],
             [
              0.2222222222222222,
              "#7201a8"
             ],
             [
              0.3333333333333333,
              "#9c179e"
             ],
             [
              0.4444444444444444,
              "#bd3786"
             ],
             [
              0.5555555555555556,
              "#d8576b"
             ],
             [
              0.6666666666666666,
              "#ed7953"
             ],
             [
              0.7777777777777778,
              "#fb9f3a"
             ],
             [
              0.8888888888888888,
              "#fdca26"
             ],
             [
              1,
              "#f0f921"
             ]
            ],
            "type": "contour"
           }
          ],
          "contourcarpet": [
           {
            "colorbar": {
             "outlinewidth": 0,
             "ticks": ""
            },
            "type": "contourcarpet"
           }
          ],
          "heatmap": [
           {
            "colorbar": {
             "outlinewidth": 0,
             "ticks": ""
            },
            "colorscale": [
             [
              0,
              "#0d0887"
             ],
             [
              0.1111111111111111,
              "#46039f"
             ],
             [
              0.2222222222222222,
              "#7201a8"
             ],
             [
              0.3333333333333333,
              "#9c179e"
             ],
             [
              0.4444444444444444,
              "#bd3786"
             ],
             [
              0.5555555555555556,
              "#d8576b"
             ],
             [
              0.6666666666666666,
              "#ed7953"
             ],
             [
              0.7777777777777778,
              "#fb9f3a"
             ],
             [
              0.8888888888888888,
              "#fdca26"
             ],
             [
              1,
              "#f0f921"
             ]
            ],
            "type": "heatmap"
           }
          ],
          "heatmapgl": [
           {
            "colorbar": {
             "outlinewidth": 0,
             "ticks": ""
            },
            "colorscale": [
             [
              0,
              "#0d0887"
             ],
             [
              0.1111111111111111,
              "#46039f"
             ],
             [
              0.2222222222222222,
              "#7201a8"
             ],
             [
              0.3333333333333333,
              "#9c179e"
             ],
             [
              0.4444444444444444,
              "#bd3786"
             ],
             [
              0.5555555555555556,
              "#d8576b"
             ],
             [
              0.6666666666666666,
              "#ed7953"
             ],
             [
              0.7777777777777778,
              "#fb9f3a"
             ],
             [
              0.8888888888888888,
              "#fdca26"
             ],
             [
              1,
              "#f0f921"
             ]
            ],
            "type": "heatmapgl"
           }
          ],
          "histogram": [
           {
            "marker": {
             "pattern": {
              "fillmode": "overlay",
              "size": 10,
              "solidity": 0.2
             }
            },
            "type": "histogram"
           }
          ],
          "histogram2d": [
           {
            "colorbar": {
             "outlinewidth": 0,
             "ticks": ""
            },
            "colorscale": [
             [
              0,
              "#0d0887"
             ],
             [
              0.1111111111111111,
              "#46039f"
             ],
             [
              0.2222222222222222,
              "#7201a8"
             ],
             [
              0.3333333333333333,
              "#9c179e"
             ],
             [
              0.4444444444444444,
              "#bd3786"
             ],
             [
              0.5555555555555556,
              "#d8576b"
             ],
             [
              0.6666666666666666,
              "#ed7953"
             ],
             [
              0.7777777777777778,
              "#fb9f3a"
             ],
             [
              0.8888888888888888,
              "#fdca26"
             ],
             [
              1,
              "#f0f921"
             ]
            ],
            "type": "histogram2d"
           }
          ],
          "histogram2dcontour": [
           {
            "colorbar": {
             "outlinewidth": 0,
             "ticks": ""
            },
            "colorscale": [
             [
              0,
              "#0d0887"
             ],
             [
              0.1111111111111111,
              "#46039f"
             ],
             [
              0.2222222222222222,
              "#7201a8"
             ],
             [
              0.3333333333333333,
              "#9c179e"
             ],
             [
              0.4444444444444444,
              "#bd3786"
             ],
             [
              0.5555555555555556,
              "#d8576b"
             ],
             [
              0.6666666666666666,
              "#ed7953"
             ],
             [
              0.7777777777777778,
              "#fb9f3a"
             ],
             [
              0.8888888888888888,
              "#fdca26"
             ],
             [
              1,
              "#f0f921"
             ]
            ],
            "type": "histogram2dcontour"
           }
          ],
          "mesh3d": [
           {
            "colorbar": {
             "outlinewidth": 0,
             "ticks": ""
            },
            "type": "mesh3d"
           }
          ],
          "parcoords": [
           {
            "line": {
             "colorbar": {
              "outlinewidth": 0,
              "ticks": ""
             }
            },
            "type": "parcoords"
           }
          ],
          "pie": [
           {
            "automargin": true,
            "type": "pie"
           }
          ],
          "scatter": [
           {
            "fillpattern": {
             "fillmode": "overlay",
             "size": 10,
             "solidity": 0.2
            },
            "type": "scatter"
           }
          ],
          "scatter3d": [
           {
            "line": {
             "colorbar": {
              "outlinewidth": 0,
              "ticks": ""
             }
            },
            "marker": {
             "colorbar": {
              "outlinewidth": 0,
              "ticks": ""
             }
            },
            "type": "scatter3d"
           }
          ],
          "scattercarpet": [
           {
            "marker": {
             "colorbar": {
              "outlinewidth": 0,
              "ticks": ""
             }
            },
            "type": "scattercarpet"
           }
          ],
          "scattergeo": [
           {
            "marker": {
             "colorbar": {
              "outlinewidth": 0,
              "ticks": ""
             }
            },
            "type": "scattergeo"
           }
          ],
          "scattergl": [
           {
            "marker": {
             "colorbar": {
              "outlinewidth": 0,
              "ticks": ""
             }
            },
            "type": "scattergl"
           }
          ],
          "scattermapbox": [
           {
            "marker": {
             "colorbar": {
              "outlinewidth": 0,
              "ticks": ""
             }
            },
            "type": "scattermapbox"
           }
          ],
          "scatterpolar": [
           {
            "marker": {
             "colorbar": {
              "outlinewidth": 0,
              "ticks": ""
             }
            },
            "type": "scatterpolar"
           }
          ],
          "scatterpolargl": [
           {
            "marker": {
             "colorbar": {
              "outlinewidth": 0,
              "ticks": ""
             }
            },
            "type": "scatterpolargl"
           }
          ],
          "scatterternary": [
           {
            "marker": {
             "colorbar": {
              "outlinewidth": 0,
              "ticks": ""
             }
            },
            "type": "scatterternary"
           }
          ],
          "surface": [
           {
            "colorbar": {
             "outlinewidth": 0,
             "ticks": ""
            },
            "colorscale": [
             [
              0,
              "#0d0887"
             ],
             [
              0.1111111111111111,
              "#46039f"
             ],
             [
              0.2222222222222222,
              "#7201a8"
             ],
             [
              0.3333333333333333,
              "#9c179e"
             ],
             [
              0.4444444444444444,
              "#bd3786"
             ],
             [
              0.5555555555555556,
              "#d8576b"
             ],
             [
              0.6666666666666666,
              "#ed7953"
             ],
             [
              0.7777777777777778,
              "#fb9f3a"
             ],
             [
              0.8888888888888888,
              "#fdca26"
             ],
             [
              1,
              "#f0f921"
             ]
            ],
            "type": "surface"
           }
          ],
          "table": [
           {
            "cells": {
             "fill": {
              "color": "#EBF0F8"
             },
             "line": {
              "color": "white"
             }
            },
            "header": {
             "fill": {
              "color": "#C8D4E3"
             },
             "line": {
              "color": "white"
             }
            },
            "type": "table"
           }
          ]
         },
         "layout": {
          "annotationdefaults": {
           "arrowcolor": "#2a3f5f",
           "arrowhead": 0,
           "arrowwidth": 1
          },
          "autotypenumbers": "strict",
          "coloraxis": {
           "colorbar": {
            "outlinewidth": 0,
            "ticks": ""
           }
          },
          "colorscale": {
           "diverging": [
            [
             0,
             "#8e0152"
            ],
            [
             0.1,
             "#c51b7d"
            ],
            [
             0.2,
             "#de77ae"
            ],
            [
             0.3,
             "#f1b6da"
            ],
            [
             0.4,
             "#fde0ef"
            ],
            [
             0.5,
             "#f7f7f7"
            ],
            [
             0.6,
             "#e6f5d0"
            ],
            [
             0.7,
             "#b8e186"
            ],
            [
             0.8,
             "#7fbc41"
            ],
            [
             0.9,
             "#4d9221"
            ],
            [
             1,
             "#276419"
            ]
           ],
           "sequential": [
            [
             0,
             "#0d0887"
            ],
            [
             0.1111111111111111,
             "#46039f"
            ],
            [
             0.2222222222222222,
             "#7201a8"
            ],
            [
             0.3333333333333333,
             "#9c179e"
            ],
            [
             0.4444444444444444,
             "#bd3786"
            ],
            [
             0.5555555555555556,
             "#d8576b"
            ],
            [
             0.6666666666666666,
             "#ed7953"
            ],
            [
             0.7777777777777778,
             "#fb9f3a"
            ],
            [
             0.8888888888888888,
             "#fdca26"
            ],
            [
             1,
             "#f0f921"
            ]
           ],
           "sequentialminus": [
            [
             0,
             "#0d0887"
            ],
            [
             0.1111111111111111,
             "#46039f"
            ],
            [
             0.2222222222222222,
             "#7201a8"
            ],
            [
             0.3333333333333333,
             "#9c179e"
            ],
            [
             0.4444444444444444,
             "#bd3786"
            ],
            [
             0.5555555555555556,
             "#d8576b"
            ],
            [
             0.6666666666666666,
             "#ed7953"
            ],
            [
             0.7777777777777778,
             "#fb9f3a"
            ],
            [
             0.8888888888888888,
             "#fdca26"
            ],
            [
             1,
             "#f0f921"
            ]
           ]
          },
          "colorway": [
           "#636efa",
           "#EF553B",
           "#00cc96",
           "#ab63fa",
           "#FFA15A",
           "#19d3f3",
           "#FF6692",
           "#B6E880",
           "#FF97FF",
           "#FECB52"
          ],
          "font": {
           "color": "#2a3f5f"
          },
          "geo": {
           "bgcolor": "white",
           "lakecolor": "white",
           "landcolor": "#E5ECF6",
           "showlakes": true,
           "showland": true,
           "subunitcolor": "white"
          },
          "hoverlabel": {
           "align": "left"
          },
          "hovermode": "closest",
          "mapbox": {
           "style": "light"
          },
          "paper_bgcolor": "white",
          "plot_bgcolor": "#E5ECF6",
          "polar": {
           "angularaxis": {
            "gridcolor": "white",
            "linecolor": "white",
            "ticks": ""
           },
           "bgcolor": "#E5ECF6",
           "radialaxis": {
            "gridcolor": "white",
            "linecolor": "white",
            "ticks": ""
           }
          },
          "scene": {
           "xaxis": {
            "backgroundcolor": "#E5ECF6",
            "gridcolor": "white",
            "gridwidth": 2,
            "linecolor": "white",
            "showbackground": true,
            "ticks": "",
            "zerolinecolor": "white"
           },
           "yaxis": {
            "backgroundcolor": "#E5ECF6",
            "gridcolor": "white",
            "gridwidth": 2,
            "linecolor": "white",
            "showbackground": true,
            "ticks": "",
            "zerolinecolor": "white"
           },
           "zaxis": {
            "backgroundcolor": "#E5ECF6",
            "gridcolor": "white",
            "gridwidth": 2,
            "linecolor": "white",
            "showbackground": true,
            "ticks": "",
            "zerolinecolor": "white"
           }
          },
          "shapedefaults": {
           "line": {
            "color": "#2a3f5f"
           }
          },
          "ternary": {
           "aaxis": {
            "gridcolor": "white",
            "linecolor": "white",
            "ticks": ""
           },
           "baxis": {
            "gridcolor": "white",
            "linecolor": "white",
            "ticks": ""
           },
           "bgcolor": "#E5ECF6",
           "caxis": {
            "gridcolor": "white",
            "linecolor": "white",
            "ticks": ""
           }
          },
          "title": {
           "x": 0.05
          },
          "xaxis": {
           "automargin": true,
           "gridcolor": "white",
           "linecolor": "white",
           "ticks": "",
           "title": {
            "standoff": 15
           },
           "zerolinecolor": "white",
           "zerolinewidth": 2
          },
          "yaxis": {
           "automargin": true,
           "gridcolor": "white",
           "linecolor": "white",
           "ticks": "",
           "title": {
            "standoff": 15
           },
           "zerolinecolor": "white",
           "zerolinewidth": 2
          }
         }
        },
        "title": {
         "text": "Número de Pedidos por Ano"
        },
        "xaxis": {
         "anchor": "y",
         "domain": [
          0,
          1
         ],
         "tickmode": "linear",
         "title": {
          "text": "Ano"
         }
        },
        "yaxis": {
         "anchor": "x",
         "domain": [
          0,
          1
         ],
         "title": {
          "text": "Número de Pedidos"
         }
        }
       }
      },
      "text/html": [
       "<div>                            <div id=\"65531eb7-8645-4173-b56d-45c3e536b2be\" class=\"plotly-graph-div\" style=\"height:525px; width:100%;\"></div>            <script type=\"text/javascript\">                require([\"plotly\"], function(Plotly) {                    window.PLOTLYENV=window.PLOTLYENV || {};                                    if (document.getElementById(\"65531eb7-8645-4173-b56d-45c3e536b2be\")) {                    Plotly.newPlot(                        \"65531eb7-8645-4173-b56d-45c3e536b2be\",                        [{\"hovertemplate\":\"Ano=%{x}\\u003cbr\\u003ePedidos=%{y}\\u003cextra\\u003e\\u003c\\u002fextra\\u003e\",\"legendgroup\":\"\",\"line\":{\"color\":\"#636efa\",\"dash\":\"solid\"},\"marker\":{\"symbol\":\"circle\"},\"mode\":\"lines+markers\",\"name\":\"\",\"orientation\":\"v\",\"showlegend\":false,\"x\":[2011,2012,2013,2014,2015,2016,2017,2018,2019,2020,2021,2022,2023,2024],\"xaxis\":\"x\",\"y\":[2,47,638,1266,2403,3883,2830,3658,4999,3701,3596,3486,1288,442],\"yaxis\":\"y\",\"type\":\"scatter\"}],                        {\"template\":{\"data\":{\"histogram2dcontour\":[{\"type\":\"histogram2dcontour\",\"colorbar\":{\"outlinewidth\":0,\"ticks\":\"\"},\"colorscale\":[[0.0,\"#0d0887\"],[0.1111111111111111,\"#46039f\"],[0.2222222222222222,\"#7201a8\"],[0.3333333333333333,\"#9c179e\"],[0.4444444444444444,\"#bd3786\"],[0.5555555555555556,\"#d8576b\"],[0.6666666666666666,\"#ed7953\"],[0.7777777777777778,\"#fb9f3a\"],[0.8888888888888888,\"#fdca26\"],[1.0,\"#f0f921\"]]}],\"choropleth\":[{\"type\":\"choropleth\",\"colorbar\":{\"outlinewidth\":0,\"ticks\":\"\"}}],\"histogram2d\":[{\"type\":\"histogram2d\",\"colorbar\":{\"outlinewidth\":0,\"ticks\":\"\"},\"colorscale\":[[0.0,\"#0d0887\"],[0.1111111111111111,\"#46039f\"],[0.2222222222222222,\"#7201a8\"],[0.3333333333333333,\"#9c179e\"],[0.4444444444444444,\"#bd3786\"],[0.5555555555555556,\"#d8576b\"],[0.6666666666666666,\"#ed7953\"],[0.7777777777777778,\"#fb9f3a\"],[0.8888888888888888,\"#fdca26\"],[1.0,\"#f0f921\"]]}],\"heatmap\":[{\"type\":\"heatmap\",\"colorbar\":{\"outlinewidth\":0,\"ticks\":\"\"},\"colorscale\":[[0.0,\"#0d0887\"],[0.1111111111111111,\"#46039f\"],[0.2222222222222222,\"#7201a8\"],[0.3333333333333333,\"#9c179e\"],[0.4444444444444444,\"#bd3786\"],[0.5555555555555556,\"#d8576b\"],[0.6666666666666666,\"#ed7953\"],[0.7777777777777778,\"#fb9f3a\"],[0.8888888888888888,\"#fdca26\"],[1.0,\"#f0f921\"]]}],\"heatmapgl\":[{\"type\":\"heatmapgl\",\"colorbar\":{\"outlinewidth\":0,\"ticks\":\"\"},\"colorscale\":[[0.0,\"#0d0887\"],[0.1111111111111111,\"#46039f\"],[0.2222222222222222,\"#7201a8\"],[0.3333333333333333,\"#9c179e\"],[0.4444444444444444,\"#bd3786\"],[0.5555555555555556,\"#d8576b\"],[0.6666666666666666,\"#ed7953\"],[0.7777777777777778,\"#fb9f3a\"],[0.8888888888888888,\"#fdca26\"],[1.0,\"#f0f921\"]]}],\"contourcarpet\":[{\"type\":\"contourcarpet\",\"colorbar\":{\"outlinewidth\":0,\"ticks\":\"\"}}],\"contour\":[{\"type\":\"contour\",\"colorbar\":{\"outlinewidth\":0,\"ticks\":\"\"},\"colorscale\":[[0.0,\"#0d0887\"],[0.1111111111111111,\"#46039f\"],[0.2222222222222222,\"#7201a8\"],[0.3333333333333333,\"#9c179e\"],[0.4444444444444444,\"#bd3786\"],[0.5555555555555556,\"#d8576b\"],[0.6666666666666666,\"#ed7953\"],[0.7777777777777778,\"#fb9f3a\"],[0.8888888888888888,\"#fdca26\"],[1.0,\"#f0f921\"]]}],\"surface\":[{\"type\":\"surface\",\"colorbar\":{\"outlinewidth\":0,\"ticks\":\"\"},\"colorscale\":[[0.0,\"#0d0887\"],[0.1111111111111111,\"#46039f\"],[0.2222222222222222,\"#7201a8\"],[0.3333333333333333,\"#9c179e\"],[0.4444444444444444,\"#bd3786\"],[0.5555555555555556,\"#d8576b\"],[0.6666666666666666,\"#ed7953\"],[0.7777777777777778,\"#fb9f3a\"],[0.8888888888888888,\"#fdca26\"],[1.0,\"#f0f921\"]]}],\"mesh3d\":[{\"type\":\"mesh3d\",\"colorbar\":{\"outlinewidth\":0,\"ticks\":\"\"}}],\"scatter\":[{\"fillpattern\":{\"fillmode\":\"overlay\",\"size\":10,\"solidity\":0.2},\"type\":\"scatter\"}],\"parcoords\":[{\"type\":\"parcoords\",\"line\":{\"colorbar\":{\"outlinewidth\":0,\"ticks\":\"\"}}}],\"scatterpolargl\":[{\"type\":\"scatterpolargl\",\"marker\":{\"colorbar\":{\"outlinewidth\":0,\"ticks\":\"\"}}}],\"bar\":[{\"error_x\":{\"color\":\"#2a3f5f\"},\"error_y\":{\"color\":\"#2a3f5f\"},\"marker\":{\"line\":{\"color\":\"#E5ECF6\",\"width\":0.5},\"pattern\":{\"fillmode\":\"overlay\",\"size\":10,\"solidity\":0.2}},\"type\":\"bar\"}],\"scattergeo\":[{\"type\":\"scattergeo\",\"marker\":{\"colorbar\":{\"outlinewidth\":0,\"ticks\":\"\"}}}],\"scatterpolar\":[{\"type\":\"scatterpolar\",\"marker\":{\"colorbar\":{\"outlinewidth\":0,\"ticks\":\"\"}}}],\"histogram\":[{\"marker\":{\"pattern\":{\"fillmode\":\"overlay\",\"size\":10,\"solidity\":0.2}},\"type\":\"histogram\"}],\"scattergl\":[{\"type\":\"scattergl\",\"marker\":{\"colorbar\":{\"outlinewidth\":0,\"ticks\":\"\"}}}],\"scatter3d\":[{\"type\":\"scatter3d\",\"line\":{\"colorbar\":{\"outlinewidth\":0,\"ticks\":\"\"}},\"marker\":{\"colorbar\":{\"outlinewidth\":0,\"ticks\":\"\"}}}],\"scattermapbox\":[{\"type\":\"scattermapbox\",\"marker\":{\"colorbar\":{\"outlinewidth\":0,\"ticks\":\"\"}}}],\"scatterternary\":[{\"type\":\"scatterternary\",\"marker\":{\"colorbar\":{\"outlinewidth\":0,\"ticks\":\"\"}}}],\"scattercarpet\":[{\"type\":\"scattercarpet\",\"marker\":{\"colorbar\":{\"outlinewidth\":0,\"ticks\":\"\"}}}],\"carpet\":[{\"aaxis\":{\"endlinecolor\":\"#2a3f5f\",\"gridcolor\":\"white\",\"linecolor\":\"white\",\"minorgridcolor\":\"white\",\"startlinecolor\":\"#2a3f5f\"},\"baxis\":{\"endlinecolor\":\"#2a3f5f\",\"gridcolor\":\"white\",\"linecolor\":\"white\",\"minorgridcolor\":\"white\",\"startlinecolor\":\"#2a3f5f\"},\"type\":\"carpet\"}],\"table\":[{\"cells\":{\"fill\":{\"color\":\"#EBF0F8\"},\"line\":{\"color\":\"white\"}},\"header\":{\"fill\":{\"color\":\"#C8D4E3\"},\"line\":{\"color\":\"white\"}},\"type\":\"table\"}],\"barpolar\":[{\"marker\":{\"line\":{\"color\":\"#E5ECF6\",\"width\":0.5},\"pattern\":{\"fillmode\":\"overlay\",\"size\":10,\"solidity\":0.2}},\"type\":\"barpolar\"}],\"pie\":[{\"automargin\":true,\"type\":\"pie\"}]},\"layout\":{\"autotypenumbers\":\"strict\",\"colorway\":[\"#636efa\",\"#EF553B\",\"#00cc96\",\"#ab63fa\",\"#FFA15A\",\"#19d3f3\",\"#FF6692\",\"#B6E880\",\"#FF97FF\",\"#FECB52\"],\"font\":{\"color\":\"#2a3f5f\"},\"hovermode\":\"closest\",\"hoverlabel\":{\"align\":\"left\"},\"paper_bgcolor\":\"white\",\"plot_bgcolor\":\"#E5ECF6\",\"polar\":{\"bgcolor\":\"#E5ECF6\",\"angularaxis\":{\"gridcolor\":\"white\",\"linecolor\":\"white\",\"ticks\":\"\"},\"radialaxis\":{\"gridcolor\":\"white\",\"linecolor\":\"white\",\"ticks\":\"\"}},\"ternary\":{\"bgcolor\":\"#E5ECF6\",\"aaxis\":{\"gridcolor\":\"white\",\"linecolor\":\"white\",\"ticks\":\"\"},\"baxis\":{\"gridcolor\":\"white\",\"linecolor\":\"white\",\"ticks\":\"\"},\"caxis\":{\"gridcolor\":\"white\",\"linecolor\":\"white\",\"ticks\":\"\"}},\"coloraxis\":{\"colorbar\":{\"outlinewidth\":0,\"ticks\":\"\"}},\"colorscale\":{\"sequential\":[[0.0,\"#0d0887\"],[0.1111111111111111,\"#46039f\"],[0.2222222222222222,\"#7201a8\"],[0.3333333333333333,\"#9c179e\"],[0.4444444444444444,\"#bd3786\"],[0.5555555555555556,\"#d8576b\"],[0.6666666666666666,\"#ed7953\"],[0.7777777777777778,\"#fb9f3a\"],[0.8888888888888888,\"#fdca26\"],[1.0,\"#f0f921\"]],\"sequentialminus\":[[0.0,\"#0d0887\"],[0.1111111111111111,\"#46039f\"],[0.2222222222222222,\"#7201a8\"],[0.3333333333333333,\"#9c179e\"],[0.4444444444444444,\"#bd3786\"],[0.5555555555555556,\"#d8576b\"],[0.6666666666666666,\"#ed7953\"],[0.7777777777777778,\"#fb9f3a\"],[0.8888888888888888,\"#fdca26\"],[1.0,\"#f0f921\"]],\"diverging\":[[0,\"#8e0152\"],[0.1,\"#c51b7d\"],[0.2,\"#de77ae\"],[0.3,\"#f1b6da\"],[0.4,\"#fde0ef\"],[0.5,\"#f7f7f7\"],[0.6,\"#e6f5d0\"],[0.7,\"#b8e186\"],[0.8,\"#7fbc41\"],[0.9,\"#4d9221\"],[1,\"#276419\"]]},\"xaxis\":{\"gridcolor\":\"white\",\"linecolor\":\"white\",\"ticks\":\"\",\"title\":{\"standoff\":15},\"zerolinecolor\":\"white\",\"automargin\":true,\"zerolinewidth\":2},\"yaxis\":{\"gridcolor\":\"white\",\"linecolor\":\"white\",\"ticks\":\"\",\"title\":{\"standoff\":15},\"zerolinecolor\":\"white\",\"automargin\":true,\"zerolinewidth\":2},\"scene\":{\"xaxis\":{\"backgroundcolor\":\"#E5ECF6\",\"gridcolor\":\"white\",\"linecolor\":\"white\",\"showbackground\":true,\"ticks\":\"\",\"zerolinecolor\":\"white\",\"gridwidth\":2},\"yaxis\":{\"backgroundcolor\":\"#E5ECF6\",\"gridcolor\":\"white\",\"linecolor\":\"white\",\"showbackground\":true,\"ticks\":\"\",\"zerolinecolor\":\"white\",\"gridwidth\":2},\"zaxis\":{\"backgroundcolor\":\"#E5ECF6\",\"gridcolor\":\"white\",\"linecolor\":\"white\",\"showbackground\":true,\"ticks\":\"\",\"zerolinecolor\":\"white\",\"gridwidth\":2}},\"shapedefaults\":{\"line\":{\"color\":\"#2a3f5f\"}},\"annotationdefaults\":{\"arrowcolor\":\"#2a3f5f\",\"arrowhead\":0,\"arrowwidth\":1},\"geo\":{\"bgcolor\":\"white\",\"landcolor\":\"#E5ECF6\",\"subunitcolor\":\"white\",\"showland\":true,\"showlakes\":true,\"lakecolor\":\"white\"},\"title\":{\"x\":0.05},\"mapbox\":{\"style\":\"light\"}}},\"xaxis\":{\"anchor\":\"y\",\"domain\":[0.0,1.0],\"title\":{\"text\":\"Ano\"},\"tickmode\":\"linear\"},\"yaxis\":{\"anchor\":\"x\",\"domain\":[0.0,1.0],\"title\":{\"text\":\"N\\u00famero de Pedidos\"}},\"legend\":{\"tracegroupgap\":0},\"title\":{\"text\":\"N\\u00famero de Pedidos por Ano\"}},                        {\"responsive\": true}                    ).then(function(){\n",
       "                            \n",
       "var gd = document.getElementById('65531eb7-8645-4173-b56d-45c3e536b2be');\n",
       "var x = new MutationObserver(function (mutations, observer) {{\n",
       "        var display = window.getComputedStyle(gd).display;\n",
       "        if (!display || display === 'none') {{\n",
       "            console.log([gd, 'removed!']);\n",
       "            Plotly.purge(gd);\n",
       "            observer.disconnect();\n",
       "        }}\n",
       "}});\n",
       "\n",
       "// Listen for the removal of the full notebook cells\n",
       "var notebookContainer = gd.closest('#notebook-container');\n",
       "if (notebookContainer) {{\n",
       "    x.observe(notebookContainer, {childList: true});\n",
       "}}\n",
       "\n",
       "// Listen for the clearing of the current output cell\n",
       "var outputEl = gd.closest('.output');\n",
       "if (outputEl) {{\n",
       "    x.observe(outputEl, {childList: true});\n",
       "}}\n",
       "\n",
       "                        })                };                });            </script>        </div>"
      ]
     },
     "metadata": {},
     "output_type": "display_data"
    }
   ],
   "source": [
    "# Importar as bibliotecas necessárias\n",
    "import pandas as pd\n",
    "import plotly.express as px\n",
    "\n",
    "# Converter a coluna 'Date' para o tipo datetime especificando o formato\n",
    "df['Date'] = pd.to_datetime(df['Date'], format='%m/%d/%Y %I:%M:%S %p')\n",
    "\n",
    "# Extrair o ano da coluna 'Date'\n",
    "df['Ano'] = df['Date'].dt.year\n",
    "\n",
    "# Contar o número de pedidos por ano\n",
    "pedidos_por_ano = df.groupby('Ano').size().reset_index(name='Pedidos')\n",
    "\n",
    "# Criar o gráfico de linha com plotly\n",
    "fig = px.line(pedidos_por_ano,\n",
    "              x='Ano',\n",
    "              y='Pedidos',\n",
    "              title='Número de Pedidos por Ano',\n",
    "              markers=True)  # Adiciona marcadores aos pontos de dados\n",
    "\n",
    "# Ajustar o layout do gráfico\n",
    "fig.update_layout(xaxis_title='Ano',\n",
    "                  yaxis_title='Número de Pedidos',\n",
    "                  xaxis=dict(tickmode='linear'))  # Define o modo de ticks do eixo x como linear\n",
    "\n",
    "# Mostrar o gráfico\n",
    "fig.show()"
   ]
  },
  {
   "cell_type": "code",
   "execution_count": null,
   "id": "5906c38a",
   "metadata": {},
   "outputs": [],
   "source": [
    "# Geração de relatório. Instale as bibliotecas abaixo para a geração do arquivo pdf."
   ]
  },
  {
   "cell_type": "code",
   "execution_count": 83,
   "id": "f2d92148",
   "metadata": {
    "scrolled": true
   },
   "outputs": [
    {
     "name": "stdout",
     "output_type": "stream",
     "text": [
      "Requirement already satisfied: pandas==2.2.2 in /home/leonardo/Jupyter/ambientes/padrao/lib/python3.11/site-packages (2.2.2)\n",
      "Requirement already satisfied: plotly==5.24.1 in /home/leonardo/Jupyter/ambientes/padrao/lib/python3.11/site-packages (5.24.1)\n",
      "Requirement already satisfied: matplotlib==3.9.2 in /home/leonardo/Jupyter/ambientes/padrao/lib/python3.11/site-packages (3.9.2)\n",
      "Requirement already satisfied: reportlab==4.2.2 in /home/leonardo/Jupyter/ambientes/padrao/lib/python3.11/site-packages (4.2.2)\n",
      "Requirement already satisfied: kaleido==0.2.1 in /home/leonardo/Jupyter/ambientes/padrao/lib/python3.11/site-packages (0.2.1)\n",
      "Requirement already satisfied: numpy>=1.23.2 in /home/leonardo/Jupyter/ambientes/padrao/lib/python3.11/site-packages (from pandas==2.2.2) (2.1.1)\n",
      "Requirement already satisfied: python-dateutil>=2.8.2 in /home/leonardo/Jupyter/ambientes/padrao/lib/python3.11/site-packages (from pandas==2.2.2) (2.9.0.post0)\n",
      "Requirement already satisfied: pytz>=2020.1 in /home/leonardo/Jupyter/ambientes/padrao/lib/python3.11/site-packages (from pandas==2.2.2) (2024.2)\n",
      "Requirement already satisfied: tzdata>=2022.7 in /home/leonardo/Jupyter/ambientes/padrao/lib/python3.11/site-packages (from pandas==2.2.2) (2024.1)\n",
      "Requirement already satisfied: tenacity>=6.2.0 in /home/leonardo/Jupyter/ambientes/padrao/lib/python3.11/site-packages (from plotly==5.24.1) (9.0.0)\n",
      "Requirement already satisfied: packaging in /home/leonardo/Jupyter/ambientes/padrao/lib/python3.11/site-packages (from plotly==5.24.1) (24.1)\n",
      "Requirement already satisfied: contourpy>=1.0.1 in /home/leonardo/Jupyter/ambientes/padrao/lib/python3.11/site-packages (from matplotlib==3.9.2) (1.3.0)\n",
      "Requirement already satisfied: cycler>=0.10 in /home/leonardo/Jupyter/ambientes/padrao/lib/python3.11/site-packages (from matplotlib==3.9.2) (0.12.1)\n",
      "Requirement already satisfied: fonttools>=4.22.0 in /home/leonardo/Jupyter/ambientes/padrao/lib/python3.11/site-packages (from matplotlib==3.9.2) (4.53.1)\n",
      "Requirement already satisfied: kiwisolver>=1.3.1 in /home/leonardo/Jupyter/ambientes/padrao/lib/python3.11/site-packages (from matplotlib==3.9.2) (1.4.7)\n",
      "Requirement already satisfied: pillow>=8 in /home/leonardo/Jupyter/ambientes/padrao/lib/python3.11/site-packages (from matplotlib==3.9.2) (10.4.0)\n",
      "Requirement already satisfied: pyparsing>=2.3.1 in /home/leonardo/Jupyter/ambientes/padrao/lib/python3.11/site-packages (from matplotlib==3.9.2) (3.1.4)\n",
      "Requirement already satisfied: chardet in /home/leonardo/Jupyter/ambientes/padrao/lib/python3.11/site-packages (from reportlab==4.2.2) (5.2.0)\n",
      "Requirement already satisfied: six>=1.5 in /home/leonardo/Jupyter/ambientes/padrao/lib/python3.11/site-packages (from python-dateutil>=2.8.2->pandas==2.2.2) (1.16.0)\n",
      "Note: you may need to restart the kernel to use updated packages.\n"
     ]
    }
   ],
   "source": [
    "pip install pandas==2.2.2 plotly==5.24.1 reportlab==4.2.2 kaleido==0.2.1 # Instalação da biblioteca."
   ]
  },
  {
   "cell_type": "code",
   "execution_count": 8,
   "id": "e9bbaff3",
   "metadata": {},
   "outputs": [],
   "source": [
    "import pandas as pd\n",
    "df = pd.read_csv(\"DadosZazzleComTratamento.csv\")"
   ]
  },
  {
   "cell_type": "code",
   "execution_count": null,
   "id": "a2992810",
   "metadata": {},
   "outputs": [],
   "source": [
    "# Geração do relatório"
   ]
  },
  {
   "cell_type": "code",
   "execution_count": 37,
   "id": "0e753e0f",
   "metadata": {},
   "outputs": [
    {
     "name": "stdout",
     "output_type": "stream",
     "text": [
      "Relatório Gerado.\n"
     ]
    }
   ],
   "source": [
    "# Geração do mapa global.\n",
    "# Importa as bibliotecas que vamos usar.\n",
    "import pandas as pd\n",
    "import plotly.express as px\n",
    "from io import BytesIO\n",
    "from reportlab.lib.pagesizes import A4\n",
    "from reportlab.lib import colors\n",
    "from reportlab.platypus import SimpleDocTemplate, Image, Table, TableStyle, Paragraph, PageBreak\n",
    "from reportlab.lib.styles import getSampleStyleSheet, ParagraphStyle\n",
    "from reportlab.lib.units import inch\n",
    "from reportlab.lib.enums import TA_CENTER\n",
    "from reportlab.pdfgen import canvas\n",
    "\n",
    "# Efetua a contagem do número de pedidos por pais.\n",
    "contagem_paises = df['Shipped To'].value_counts().reset_index()\n",
    "# Troca os nomes das colunas do novo dataframe.\n",
    "contagem_paises.columns = ['Pais', 'Pedidos']\n",
    "\n",
    "# Gera o gráfico interativo.\n",
    "fig = px.choropleth(contagem_paises,\n",
    "                    locations='Pais',\n",
    "                    locationmode='country names',\n",
    "                    color='Pedidos',\n",
    "                    title='Número de Pedidos por País',\n",
    "                    color_continuous_scale='Rainbow')\n",
    "\n",
    "# Conversão do gráfico para imagem estática.\n",
    "fig.write_image('mapa.png', engine='kaleido')\n",
    "\n",
    "# Gráfico de barras.\n",
    "# Efetua a contagem do pedido.\n",
    "# Poderia utilizar tambem os dados da célula acima.\n",
    "contagem_paises = df['Shipped To'].value_counts().reset_index()\n",
    "contagem_paises.columns = ['Pais', 'Pedidos']\n",
    "\n",
    "# Obtém os 10 países com mais pedidos.\n",
    "top_10_paises = contagem_paises.head(10)\n",
    "\n",
    "# Gera o gráfico de barras\n",
    "fig = px.bar(top_10_paises, \n",
    "             x='Pais', \n",
    "             y='Pedidos', \n",
    "             color='Pedidos',\n",
    "             title='Top 10 Países com Mais Pedidos',\n",
    "             color_continuous_scale='Rainbow')  # Usando uma escala de cores mais viva\n",
    "\n",
    "# Ajustar o layout do gráfico\n",
    "fig.update_layout(xaxis_title='País',\n",
    "                  yaxis_title='Número de Pedidos',\n",
    "                  xaxis_tickangle=-45)  # Rotaciona os rótulos do eixo x para melhor legibilidade\n",
    "\n",
    "fig.write_image('barras.png', engine='kaleido')\n",
    "\n",
    "# Geração do gráfico de pizza.\n",
    "\n",
    "# Contagem de número de pedidos por país.\n",
    "contagem_paises = df['Shipped To'].value_counts().reset_index()\n",
    "contagem_paises.columns = ['Pais', 'Pedidos']\n",
    "\n",
    "# Selecionar os 10 países com mais pedidos\n",
    "top_5_paises = contagem_paises.head(5)\n",
    "\n",
    "# Gera o gráfico\n",
    "fig = px.pie(top_5_paises, \n",
    "             names='Pais', \n",
    "             values='Pedidos', \n",
    "             title='Top 5 Países com Mais Pedidos',\n",
    "             color='Pais',  # Cada fatia representa um país com uma cor.\n",
    "             color_discrete_sequence=px.colors.qualitative.Plotly)  # Define escala de cores qualitativa\n",
    "\n",
    "fig.write_image('pizza.png', engine='kaleido')\n",
    "\n",
    "# Gráfico de linha.\n",
    "\n",
    "# Converter a coluna 'Date' para o tipo datetime especificando o formato\n",
    "df['Date'] = pd.to_datetime(df['Date'], format='%m/%d/%Y %I:%M:%S %p')\n",
    "\n",
    "# Extrair o ano da coluna 'Date'\n",
    "df['Ano'] = df['Date'].dt.year\n",
    "\n",
    "# Contar o número de pedidos por ano\n",
    "pedidos_por_ano = df.groupby('Ano').size().reset_index(name='Pedidos')\n",
    "\n",
    "# Criar o gráfico de linha com plotly\n",
    "fig = px.line(pedidos_por_ano,\n",
    "              x='Ano',\n",
    "              y='Pedidos',\n",
    "              title='Número de Pedidos por Ano',\n",
    "              markers=True)  # Adiciona marcadores aos pontos de dados\n",
    "\n",
    "# Ajustar o layout do gráfico\n",
    "fig.update_layout(xaxis_title='Ano',\n",
    "                  yaxis_title='Número de Pedidos',\n",
    "                  xaxis=dict(tickmode='linear'))  # Define o modo de ticks do eixo x como linear\n",
    "\n",
    "fig.write_image('linha.png', engine='kaleido')\n",
    "\n",
    "# Bloco de geração do PDF.\n",
    "arquivo_pdf = \"Relatorio.pdf\"\n",
    "# Define o nome de arquivo e formato de página.\n",
    "doc = SimpleDocTemplate(arquivo_pdf, pagesize=A4)\n",
    "elements = []\n",
    "\n",
    "# Adição da folha de rosto.\n",
    "styles = getSampleStyleSheet()\n",
    "title_style = ParagraphStyle(\n",
    "    'TitleStyle',\n",
    "    parent=styles['Title'],\n",
    "    alignment=TA_CENTER,\n",
    "    fontSize=24,\n",
    "    spaceAfter=12\n",
    ")\n",
    "\n",
    "logo_style = ParagraphStyle(\n",
    "    'LogoStyle',\n",
    "    parent=styles['Normal'],\n",
    "    alignment=TA_CENTER,\n",
    "    spaceAfter=12\n",
    ")\n",
    "\n",
    "title = Paragraph(\"Relatório de Pedidos (2011 - 2024)\", title_style)\n",
    "logo = Image(\"LogoLoja.jpeg\", width=150, height=150)\n",
    "\n",
    "# Adição da folha de rosto centralizada.\n",
    "width, height = A4\n",
    "\n",
    "# Espaçamento para centralizar verticalmente.\n",
    "content_height = height - 2 * inch\n",
    "title_height = 24\n",
    "logo_height = 150\n",
    "\n",
    "# Espaços verticais para centralização\n",
    "space_before_title = (content_height - title_height - logo_height) / 2\n",
    "space_after_title = 0.5 * inch\n",
    "\n",
    "elements.append(Paragraph(\"<br/>\" * int(space_before_title /12), styles['Normal']))\n",
    "elements.append(title)\n",
    "#elements.append(Paragraph(\"<br/>\" * int(space_before_title /12), styles['Normal']))\n",
    "elements.append(logo)\n",
    "elements.append(Paragraph(\"<br/><br/>\", styles['Normal']))\n",
    "\n",
    "# Adiciona uma qebra de página.\n",
    "elements.append(PageBreak())\n",
    "\n",
    "# Função para adição das imagens ao PDF.\n",
    "def adiciona_imagem_pdf(caminho_imagem, width=6*inch, height=4*inch):\n",
    "    imagem = Image(caminho_imagem, width=width, height=height)\n",
    "    elements.append(imagem)\n",
    "    elements.append(Paragraph(\"<br/>\", styles['Normal'])) # Espaço após adição de imagem.\n",
    "\n",
    "# Chama a função e adiciona todas as imagens ao PDF.\n",
    "for arquivo_imagem in ['mapa.png', 'barras.png', 'pizza.png', 'linha.png']:adiciona_imagem_pdf(arquivo_imagem)\n",
    "\n",
    "# Adicona rodapé e numração das páginas.\n",
    "def footer(canvas, doc):\n",
    "    canvas.saveState()\n",
    "    canvas.setFont('Helvetica', 8)\n",
    "    canvas.drawString(1*inch, 0.75*inch, \"Gerado Por: Leonardo Bruno / 202301011744 / 202301011744@alunos.estacio.br / souzalb@proton.me / TADS\")\n",
    "    canvas.drawRightString(A4[0] - 1*inch, 0.75*inch, str(doc.page))\n",
    "    canvas.restoreState()\n",
    "    \n",
    "doc.build(elements, onFirstPage=footer, onLaterPages=footer)\n",
    "\n",
    "print(\"Relatório Gerado.\")"
   ]
  },
  {
   "cell_type": "code",
   "execution_count": 42,
   "id": "d30444fe",
   "metadata": {},
   "outputs": [
    {
     "name": "stdout",
     "output_type": "stream",
     "text": [
      "Note: you may need to restart the kernel to use updated packages.\n"
     ]
    }
   ],
   "source": [
    "pip freeze > requirements.dep"
   ]
  },
  {
   "cell_type": "code",
   "execution_count": null,
   "id": "8ff86e9c",
   "metadata": {},
   "outputs": [],
   "source": []
  }
 ],
 "metadata": {
  "kernelspec": {
   "display_name": "padrao",
   "language": "python",
   "name": "padrao"
  },
  "language_info": {
   "codemirror_mode": {
    "name": "ipython",
    "version": 3
   },
   "file_extension": ".py",
   "mimetype": "text/x-python",
   "name": "python",
   "nbconvert_exporter": "python",
   "pygments_lexer": "ipython3",
   "version": "3.11.2"
  }
 },
 "nbformat": 4,
 "nbformat_minor": 5
}
